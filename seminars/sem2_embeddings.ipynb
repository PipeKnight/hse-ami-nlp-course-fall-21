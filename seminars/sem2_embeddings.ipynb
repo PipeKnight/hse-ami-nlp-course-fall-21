{
  "nbformat": 4,
  "nbformat_minor": 0,
  "metadata": {
    "colab": {
      "name": "sem2_embeddings.ipynb",
      "provenance": [],
      "collapsed_sections": []
    },
    "kernelspec": {
      "display_name": "Python 3",
      "language": "python",
      "name": "python3"
    },
    "widgets": {
      "application/vnd.jupyter.widget-state+json": {
        "bd329894ba174303bf7732937e5b087b": {
          "model_module": "@jupyter-widgets/controls",
          "model_name": "HBoxModel",
          "model_module_version": "1.5.0",
          "state": {
            "_view_name": "HBoxView",
            "_dom_classes": [],
            "_model_name": "HBoxModel",
            "_view_module": "@jupyter-widgets/controls",
            "_model_module_version": "1.5.0",
            "_view_count": null,
            "_view_module_version": "1.5.0",
            "box_style": "",
            "layout": "IPY_MODEL_9eb26853df3340b78250a94fbfa2933f",
            "_model_module": "@jupyter-widgets/controls",
            "children": [
              "IPY_MODEL_50003c2f699c40c987c9eb6840fe9105",
              "IPY_MODEL_1c36790ebca9483eb5982dbd24d43596",
              "IPY_MODEL_e4485789a30648b5b71d2f742f33b0fe"
            ]
          }
        },
        "9eb26853df3340b78250a94fbfa2933f": {
          "model_module": "@jupyter-widgets/base",
          "model_name": "LayoutModel",
          "model_module_version": "1.2.0",
          "state": {
            "_view_name": "LayoutView",
            "grid_template_rows": null,
            "right": null,
            "justify_content": null,
            "_view_module": "@jupyter-widgets/base",
            "overflow": null,
            "_model_module_version": "1.2.0",
            "_view_count": null,
            "flex_flow": null,
            "width": null,
            "min_width": null,
            "border": null,
            "align_items": null,
            "bottom": null,
            "_model_module": "@jupyter-widgets/base",
            "top": null,
            "grid_column": null,
            "overflow_y": null,
            "overflow_x": null,
            "grid_auto_flow": null,
            "grid_area": null,
            "grid_template_columns": null,
            "flex": null,
            "_model_name": "LayoutModel",
            "justify_items": null,
            "grid_row": null,
            "max_height": null,
            "align_content": null,
            "visibility": null,
            "align_self": null,
            "height": null,
            "min_height": null,
            "padding": null,
            "grid_auto_rows": null,
            "grid_gap": null,
            "max_width": null,
            "order": null,
            "_view_module_version": "1.2.0",
            "grid_template_areas": null,
            "object_position": null,
            "object_fit": null,
            "grid_auto_columns": null,
            "margin": null,
            "display": null,
            "left": null
          }
        },
        "50003c2f699c40c987c9eb6840fe9105": {
          "model_module": "@jupyter-widgets/controls",
          "model_name": "HTMLModel",
          "model_module_version": "1.5.0",
          "state": {
            "_view_name": "HTMLView",
            "style": "IPY_MODEL_f38dc9a830b94e7f88e50d85ea16fc7a",
            "_dom_classes": [],
            "description": "",
            "_model_name": "HTMLModel",
            "placeholder": "​",
            "_view_module": "@jupyter-widgets/controls",
            "_model_module_version": "1.5.0",
            "value": "100%",
            "_view_count": null,
            "_view_module_version": "1.5.0",
            "description_tooltip": null,
            "_model_module": "@jupyter-widgets/controls",
            "layout": "IPY_MODEL_534f25d544a04441a76ca1edf79dae4e"
          }
        },
        "1c36790ebca9483eb5982dbd24d43596": {
          "model_module": "@jupyter-widgets/controls",
          "model_name": "FloatProgressModel",
          "model_module_version": "1.5.0",
          "state": {
            "_view_name": "ProgressView",
            "style": "IPY_MODEL_01e2046fb17c43248f38e7e2726043d6",
            "_dom_classes": [],
            "description": "",
            "_model_name": "FloatProgressModel",
            "bar_style": "success",
            "max": 528987,
            "_view_module": "@jupyter-widgets/controls",
            "_model_module_version": "1.5.0",
            "value": 528987,
            "_view_count": null,
            "_view_module_version": "1.5.0",
            "orientation": "horizontal",
            "min": 0,
            "description_tooltip": null,
            "_model_module": "@jupyter-widgets/controls",
            "layout": "IPY_MODEL_deab814d53964f9398119574422ba325"
          }
        },
        "e4485789a30648b5b71d2f742f33b0fe": {
          "model_module": "@jupyter-widgets/controls",
          "model_name": "HTMLModel",
          "model_module_version": "1.5.0",
          "state": {
            "_view_name": "HTMLView",
            "style": "IPY_MODEL_68e8d0e578734fcdb8225e9852793754",
            "_dom_classes": [],
            "description": "",
            "_model_name": "HTMLModel",
            "placeholder": "​",
            "_view_module": "@jupyter-widgets/controls",
            "_model_module_version": "1.5.0",
            "value": " 528987/528987 [00:12&lt;00:00, 39555.18it/s]",
            "_view_count": null,
            "_view_module_version": "1.5.0",
            "description_tooltip": null,
            "_model_module": "@jupyter-widgets/controls",
            "layout": "IPY_MODEL_85ddaf2cf3ed4c92a0093bc5673b9f0b"
          }
        },
        "f38dc9a830b94e7f88e50d85ea16fc7a": {
          "model_module": "@jupyter-widgets/controls",
          "model_name": "DescriptionStyleModel",
          "model_module_version": "1.5.0",
          "state": {
            "_view_name": "StyleView",
            "_model_name": "DescriptionStyleModel",
            "description_width": "",
            "_view_module": "@jupyter-widgets/base",
            "_model_module_version": "1.5.0",
            "_view_count": null,
            "_view_module_version": "1.2.0",
            "_model_module": "@jupyter-widgets/controls"
          }
        },
        "534f25d544a04441a76ca1edf79dae4e": {
          "model_module": "@jupyter-widgets/base",
          "model_name": "LayoutModel",
          "model_module_version": "1.2.0",
          "state": {
            "_view_name": "LayoutView",
            "grid_template_rows": null,
            "right": null,
            "justify_content": null,
            "_view_module": "@jupyter-widgets/base",
            "overflow": null,
            "_model_module_version": "1.2.0",
            "_view_count": null,
            "flex_flow": null,
            "width": null,
            "min_width": null,
            "border": null,
            "align_items": null,
            "bottom": null,
            "_model_module": "@jupyter-widgets/base",
            "top": null,
            "grid_column": null,
            "overflow_y": null,
            "overflow_x": null,
            "grid_auto_flow": null,
            "grid_area": null,
            "grid_template_columns": null,
            "flex": null,
            "_model_name": "LayoutModel",
            "justify_items": null,
            "grid_row": null,
            "max_height": null,
            "align_content": null,
            "visibility": null,
            "align_self": null,
            "height": null,
            "min_height": null,
            "padding": null,
            "grid_auto_rows": null,
            "grid_gap": null,
            "max_width": null,
            "order": null,
            "_view_module_version": "1.2.0",
            "grid_template_areas": null,
            "object_position": null,
            "object_fit": null,
            "grid_auto_columns": null,
            "margin": null,
            "display": null,
            "left": null
          }
        },
        "01e2046fb17c43248f38e7e2726043d6": {
          "model_module": "@jupyter-widgets/controls",
          "model_name": "ProgressStyleModel",
          "model_module_version": "1.5.0",
          "state": {
            "_view_name": "StyleView",
            "_model_name": "ProgressStyleModel",
            "description_width": "",
            "_view_module": "@jupyter-widgets/base",
            "_model_module_version": "1.5.0",
            "_view_count": null,
            "_view_module_version": "1.2.0",
            "bar_color": null,
            "_model_module": "@jupyter-widgets/controls"
          }
        },
        "deab814d53964f9398119574422ba325": {
          "model_module": "@jupyter-widgets/base",
          "model_name": "LayoutModel",
          "model_module_version": "1.2.0",
          "state": {
            "_view_name": "LayoutView",
            "grid_template_rows": null,
            "right": null,
            "justify_content": null,
            "_view_module": "@jupyter-widgets/base",
            "overflow": null,
            "_model_module_version": "1.2.0",
            "_view_count": null,
            "flex_flow": null,
            "width": null,
            "min_width": null,
            "border": null,
            "align_items": null,
            "bottom": null,
            "_model_module": "@jupyter-widgets/base",
            "top": null,
            "grid_column": null,
            "overflow_y": null,
            "overflow_x": null,
            "grid_auto_flow": null,
            "grid_area": null,
            "grid_template_columns": null,
            "flex": null,
            "_model_name": "LayoutModel",
            "justify_items": null,
            "grid_row": null,
            "max_height": null,
            "align_content": null,
            "visibility": null,
            "align_self": null,
            "height": null,
            "min_height": null,
            "padding": null,
            "grid_auto_rows": null,
            "grid_gap": null,
            "max_width": null,
            "order": null,
            "_view_module_version": "1.2.0",
            "grid_template_areas": null,
            "object_position": null,
            "object_fit": null,
            "grid_auto_columns": null,
            "margin": null,
            "display": null,
            "left": null
          }
        },
        "68e8d0e578734fcdb8225e9852793754": {
          "model_module": "@jupyter-widgets/controls",
          "model_name": "DescriptionStyleModel",
          "model_module_version": "1.5.0",
          "state": {
            "_view_name": "StyleView",
            "_model_name": "DescriptionStyleModel",
            "description_width": "",
            "_view_module": "@jupyter-widgets/base",
            "_model_module_version": "1.5.0",
            "_view_count": null,
            "_view_module_version": "1.2.0",
            "_model_module": "@jupyter-widgets/controls"
          }
        },
        "85ddaf2cf3ed4c92a0093bc5673b9f0b": {
          "model_module": "@jupyter-widgets/base",
          "model_name": "LayoutModel",
          "model_module_version": "1.2.0",
          "state": {
            "_view_name": "LayoutView",
            "grid_template_rows": null,
            "right": null,
            "justify_content": null,
            "_view_module": "@jupyter-widgets/base",
            "overflow": null,
            "_model_module_version": "1.2.0",
            "_view_count": null,
            "flex_flow": null,
            "width": null,
            "min_width": null,
            "border": null,
            "align_items": null,
            "bottom": null,
            "_model_module": "@jupyter-widgets/base",
            "top": null,
            "grid_column": null,
            "overflow_y": null,
            "overflow_x": null,
            "grid_auto_flow": null,
            "grid_area": null,
            "grid_template_columns": null,
            "flex": null,
            "_model_name": "LayoutModel",
            "justify_items": null,
            "grid_row": null,
            "max_height": null,
            "align_content": null,
            "visibility": null,
            "align_self": null,
            "height": null,
            "min_height": null,
            "padding": null,
            "grid_auto_rows": null,
            "grid_gap": null,
            "max_width": null,
            "order": null,
            "_view_module_version": "1.2.0",
            "grid_template_areas": null,
            "object_position": null,
            "object_fit": null,
            "grid_auto_columns": null,
            "margin": null,
            "display": null,
            "left": null
          }
        },
        "80fba7ab4f8e4c0688eac2535e5693e3": {
          "model_module": "@jupyter-widgets/controls",
          "model_name": "HBoxModel",
          "model_module_version": "1.5.0",
          "state": {
            "_view_name": "HBoxView",
            "_dom_classes": [],
            "_model_name": "HBoxModel",
            "_view_module": "@jupyter-widgets/controls",
            "_model_module_version": "1.5.0",
            "_view_count": null,
            "_view_module_version": "1.5.0",
            "box_style": "",
            "layout": "IPY_MODEL_04e6beaa75824af3a9a6c20186a5fe91",
            "_model_module": "@jupyter-widgets/controls",
            "children": [
              "IPY_MODEL_ecd1198ab0e144f8a7776b1f8d5b4c08",
              "IPY_MODEL_31194ab6ee4e4758a04d37beadbaa3d8",
              "IPY_MODEL_9cdf41be0a10416e85a232b0a1cbd454"
            ]
          }
        },
        "04e6beaa75824af3a9a6c20186a5fe91": {
          "model_module": "@jupyter-widgets/base",
          "model_name": "LayoutModel",
          "model_module_version": "1.2.0",
          "state": {
            "_view_name": "LayoutView",
            "grid_template_rows": null,
            "right": null,
            "justify_content": null,
            "_view_module": "@jupyter-widgets/base",
            "overflow": null,
            "_model_module_version": "1.2.0",
            "_view_count": null,
            "flex_flow": null,
            "width": null,
            "min_width": null,
            "border": null,
            "align_items": null,
            "bottom": null,
            "_model_module": "@jupyter-widgets/base",
            "top": null,
            "grid_column": null,
            "overflow_y": null,
            "overflow_x": null,
            "grid_auto_flow": null,
            "grid_area": null,
            "grid_template_columns": null,
            "flex": null,
            "_model_name": "LayoutModel",
            "justify_items": null,
            "grid_row": null,
            "max_height": null,
            "align_content": null,
            "visibility": null,
            "align_self": null,
            "height": null,
            "min_height": null,
            "padding": null,
            "grid_auto_rows": null,
            "grid_gap": null,
            "max_width": null,
            "order": null,
            "_view_module_version": "1.2.0",
            "grid_template_areas": null,
            "object_position": null,
            "object_fit": null,
            "grid_auto_columns": null,
            "margin": null,
            "display": null,
            "left": null
          }
        },
        "ecd1198ab0e144f8a7776b1f8d5b4c08": {
          "model_module": "@jupyter-widgets/controls",
          "model_name": "HTMLModel",
          "model_module_version": "1.5.0",
          "state": {
            "_view_name": "HTMLView",
            "style": "IPY_MODEL_0d74c7e67d8c4eb8b9de2927d954e5fa",
            "_dom_classes": [],
            "description": "",
            "_model_name": "HTMLModel",
            "placeholder": "​",
            "_view_module": "@jupyter-widgets/controls",
            "_model_module_version": "1.5.0",
            "value": "100%",
            "_view_count": null,
            "_view_module_version": "1.5.0",
            "description_tooltip": null,
            "_model_module": "@jupyter-widgets/controls",
            "layout": "IPY_MODEL_bb017ae74d8d473e8553a29cbe7b01c6"
          }
        },
        "31194ab6ee4e4758a04d37beadbaa3d8": {
          "model_module": "@jupyter-widgets/controls",
          "model_name": "FloatProgressModel",
          "model_module_version": "1.5.0",
          "state": {
            "_view_name": "ProgressView",
            "style": "IPY_MODEL_b49f810a96d1461e9e62d4371fc68444",
            "_dom_classes": [],
            "description": "",
            "_model_name": "FloatProgressModel",
            "bar_style": "success",
            "max": 226834,
            "_view_module": "@jupyter-widgets/controls",
            "_model_module_version": "1.5.0",
            "value": 226834,
            "_view_count": null,
            "_view_module_version": "1.5.0",
            "orientation": "horizontal",
            "min": 0,
            "description_tooltip": null,
            "_model_module": "@jupyter-widgets/controls",
            "layout": "IPY_MODEL_151727bb76bb4164b60cccfa182526a8"
          }
        },
        "9cdf41be0a10416e85a232b0a1cbd454": {
          "model_module": "@jupyter-widgets/controls",
          "model_name": "HTMLModel",
          "model_module_version": "1.5.0",
          "state": {
            "_view_name": "HTMLView",
            "style": "IPY_MODEL_caa7e8ed6a9847ca90b34c64254d0a34",
            "_dom_classes": [],
            "description": "",
            "_model_name": "HTMLModel",
            "placeholder": "​",
            "_view_module": "@jupyter-widgets/controls",
            "_model_module_version": "1.5.0",
            "value": " 226834/226834 [12:57&lt;00:00, 296.12it/s]",
            "_view_count": null,
            "_view_module_version": "1.5.0",
            "description_tooltip": null,
            "_model_module": "@jupyter-widgets/controls",
            "layout": "IPY_MODEL_7542e66b03344aaaadfd17c252edf4df"
          }
        },
        "0d74c7e67d8c4eb8b9de2927d954e5fa": {
          "model_module": "@jupyter-widgets/controls",
          "model_name": "DescriptionStyleModel",
          "model_module_version": "1.5.0",
          "state": {
            "_view_name": "StyleView",
            "_model_name": "DescriptionStyleModel",
            "description_width": "",
            "_view_module": "@jupyter-widgets/base",
            "_model_module_version": "1.5.0",
            "_view_count": null,
            "_view_module_version": "1.2.0",
            "_model_module": "@jupyter-widgets/controls"
          }
        },
        "bb017ae74d8d473e8553a29cbe7b01c6": {
          "model_module": "@jupyter-widgets/base",
          "model_name": "LayoutModel",
          "model_module_version": "1.2.0",
          "state": {
            "_view_name": "LayoutView",
            "grid_template_rows": null,
            "right": null,
            "justify_content": null,
            "_view_module": "@jupyter-widgets/base",
            "overflow": null,
            "_model_module_version": "1.2.0",
            "_view_count": null,
            "flex_flow": null,
            "width": null,
            "min_width": null,
            "border": null,
            "align_items": null,
            "bottom": null,
            "_model_module": "@jupyter-widgets/base",
            "top": null,
            "grid_column": null,
            "overflow_y": null,
            "overflow_x": null,
            "grid_auto_flow": null,
            "grid_area": null,
            "grid_template_columns": null,
            "flex": null,
            "_model_name": "LayoutModel",
            "justify_items": null,
            "grid_row": null,
            "max_height": null,
            "align_content": null,
            "visibility": null,
            "align_self": null,
            "height": null,
            "min_height": null,
            "padding": null,
            "grid_auto_rows": null,
            "grid_gap": null,
            "max_width": null,
            "order": null,
            "_view_module_version": "1.2.0",
            "grid_template_areas": null,
            "object_position": null,
            "object_fit": null,
            "grid_auto_columns": null,
            "margin": null,
            "display": null,
            "left": null
          }
        },
        "b49f810a96d1461e9e62d4371fc68444": {
          "model_module": "@jupyter-widgets/controls",
          "model_name": "ProgressStyleModel",
          "model_module_version": "1.5.0",
          "state": {
            "_view_name": "StyleView",
            "_model_name": "ProgressStyleModel",
            "description_width": "",
            "_view_module": "@jupyter-widgets/base",
            "_model_module_version": "1.5.0",
            "_view_count": null,
            "_view_module_version": "1.2.0",
            "bar_color": null,
            "_model_module": "@jupyter-widgets/controls"
          }
        },
        "151727bb76bb4164b60cccfa182526a8": {
          "model_module": "@jupyter-widgets/base",
          "model_name": "LayoutModel",
          "model_module_version": "1.2.0",
          "state": {
            "_view_name": "LayoutView",
            "grid_template_rows": null,
            "right": null,
            "justify_content": null,
            "_view_module": "@jupyter-widgets/base",
            "overflow": null,
            "_model_module_version": "1.2.0",
            "_view_count": null,
            "flex_flow": null,
            "width": null,
            "min_width": null,
            "border": null,
            "align_items": null,
            "bottom": null,
            "_model_module": "@jupyter-widgets/base",
            "top": null,
            "grid_column": null,
            "overflow_y": null,
            "overflow_x": null,
            "grid_auto_flow": null,
            "grid_area": null,
            "grid_template_columns": null,
            "flex": null,
            "_model_name": "LayoutModel",
            "justify_items": null,
            "grid_row": null,
            "max_height": null,
            "align_content": null,
            "visibility": null,
            "align_self": null,
            "height": null,
            "min_height": null,
            "padding": null,
            "grid_auto_rows": null,
            "grid_gap": null,
            "max_width": null,
            "order": null,
            "_view_module_version": "1.2.0",
            "grid_template_areas": null,
            "object_position": null,
            "object_fit": null,
            "grid_auto_columns": null,
            "margin": null,
            "display": null,
            "left": null
          }
        },
        "caa7e8ed6a9847ca90b34c64254d0a34": {
          "model_module": "@jupyter-widgets/controls",
          "model_name": "DescriptionStyleModel",
          "model_module_version": "1.5.0",
          "state": {
            "_view_name": "StyleView",
            "_model_name": "DescriptionStyleModel",
            "description_width": "",
            "_view_module": "@jupyter-widgets/base",
            "_model_module_version": "1.5.0",
            "_view_count": null,
            "_view_module_version": "1.2.0",
            "_model_module": "@jupyter-widgets/controls"
          }
        },
        "7542e66b03344aaaadfd17c252edf4df": {
          "model_module": "@jupyter-widgets/base",
          "model_name": "LayoutModel",
          "model_module_version": "1.2.0",
          "state": {
            "_view_name": "LayoutView",
            "grid_template_rows": null,
            "right": null,
            "justify_content": null,
            "_view_module": "@jupyter-widgets/base",
            "overflow": null,
            "_model_module_version": "1.2.0",
            "_view_count": null,
            "flex_flow": null,
            "width": null,
            "min_width": null,
            "border": null,
            "align_items": null,
            "bottom": null,
            "_model_module": "@jupyter-widgets/base",
            "top": null,
            "grid_column": null,
            "overflow_y": null,
            "overflow_x": null,
            "grid_auto_flow": null,
            "grid_area": null,
            "grid_template_columns": null,
            "flex": null,
            "_model_name": "LayoutModel",
            "justify_items": null,
            "grid_row": null,
            "max_height": null,
            "align_content": null,
            "visibility": null,
            "align_self": null,
            "height": null,
            "min_height": null,
            "padding": null,
            "grid_auto_rows": null,
            "grid_gap": null,
            "max_width": null,
            "order": null,
            "_view_module_version": "1.2.0",
            "grid_template_areas": null,
            "object_position": null,
            "object_fit": null,
            "grid_auto_columns": null,
            "margin": null,
            "display": null,
            "left": null
          }
        }
      }
    }
  },
  "cells": [
    {
      "cell_type": "markdown",
      "metadata": {
        "id": "ypt7ymI8X-rM"
      },
      "source": [
        "# Embeddings  [![Open In Colab](https://colab.research.google.com/assets/colab-badge.svg)](https://colab.research.google.com/github/PragmaticsLab/NLP-course-FinTech/blob/master/seminars/2/2_embeddings.ipynb)\n",
        "\n",
        "## Word2Vec\n",
        "\n",
        "Векторные модели, которые мы рассматривали до этого (tf-idf, BOW), условно называются *счётными*. Они основываются на том, что так или иначе \"считают\" слова и их соседей, и на основе этого строят вектора для слов. \n",
        "\n",
        "Другой класс моделей, который более повсевмёстно распространён на сегодняшний день, называется *предсказательными* (или *нейронными*) моделями. Идея этих моделей заключается в использовании нейросетевых архитектур, которые \"предсказывают\" (а не считают) соседей слов. Одной из самых известных таких моделей является word2vec. Технология основана на нейронной сети, предсказывающей вероятность встретить слово в заданном контексте. Этот инструмент был разработан группой исследователей Google в 2013 году, руководителем проекта был Томаш Миколов (сейчас работает в Facebook). Вот две самые главные статьи:\n",
        "\n",
        "* [Efficient Estimation of Word Representations in Vector Space](https://arxiv.org/pdf/1301.3781.pdf)\n",
        "* [Distributed Representations of Words and Phrases and their Compositionality](https://arxiv.org/abs/1310.4546)\n",
        "\n",
        "\n",
        "Полученные таким образом вектора называются *распределенными представлениями слов*, или **эмбеддингами**.\n",
        "\n",
        "\n",
        "### Как это обучается?\n",
        "Мы задаём вектор для каждого слова с помощью матрицы $w$ и вектор контекста с помощью матрицы $W$. По сути, word2vec является обобщающим названием для двух архитектур Skip-Gram и Continuous Bag-Of-Words (CBOW).  \n",
        "\n",
        "**CBOW** предсказывает текущее слово, исходя из окружающего его контекста. \n",
        "\n",
        "**Skip-gram**, наоборот, использует текущее слово, чтобы предугадывать окружающие его слова. \n",
        "\n",
        "### Как это работает?\n",
        "Word2vec принимает большой текстовый корпус в качестве входных данных и сопоставляет каждому слову вектор, выдавая координаты слов на выходе. Сначала он создает словарь, «обучаясь» на входных текстовых данных, а затем вычисляет векторное представление слов. Векторное представление основывается на контекстной близости: слова, встречающиеся в тексте рядом с одинаковыми словами (а следовательно, согласно дистрибутивной гипотезе, имеющие схожий смысл), в векторном представлении будут иметь близкие координаты векторов-слов. Для вычисления близости слов используется косинусное расстояние между их векторами.\n",
        "\n",
        "\n",
        "С помощью дистрибутивных векторных моделей можно строить семантические пропорции (они же аналогии) и решать примеры:\n",
        "\n",
        "* *король: мужчина = королева: женщина* \n",
        " $\\Rightarrow$ \n",
        "* *король - мужчина + женщина = королева*"
      ]
    },
    {
      "cell_type": "markdown",
      "metadata": {
        "id": "Z3sSyfHaX-rN"
      },
      "source": [
        "![w2v](https://cdn-images-1.medium.com/max/2600/1*sXNXYfAqfLUeiDXPCo130w.png)"
      ]
    },
    {
      "cell_type": "markdown",
      "metadata": {
        "id": "0oH_UDyFX-rO"
      },
      "source": [
        "### Проблемы\n",
        "Невозможно установить тип семантических отношений между словами: синонимы, антонимы и т.д. будут одинаково близки, потому что обычно употребляются в схожих контекстах. Поэтому близкие в векторном пространстве слова называют *семантическими ассоциатами*. Это значит, что они семантически связаны, но как именно — непонятно.\n",
        "\n",
        "\n",
        "## RusVectōrēs\n",
        "\n",
        "\n",
        "На сайте [RusVectōrēs](https://rusvectores.org/ru/) собраны предобученные на различных данных модели для русского языка. Также можно поискать наиболее близкие слова к заданному, посчитать семантическую близость нескольких слов и порешать примеры с помощью «калькулятором семантической близости».\n",
        "\n",
        "\n",
        "Для других языков также можно найти предобученные модели — например, модели [fastText](https://fasttext.cc/docs/en/english-vectors.html) и [GloVe](https://nlp.stanford.edu/projects/glove/) (о них чуть дальше)."
      ]
    },
    {
      "cell_type": "markdown",
      "metadata": {
        "id": "yXNm8flVX-rP"
      },
      "source": [
        "## Gensim\n",
        "\n",
        "Использовать предобученную модель эмбеддингов или обучить свою можно с помощью библиотеки `gensim`. Вот [ее документация](https://radimrehurek.com/gensim/models/word2vec.html).\n",
        "\n",
        "### Как использовать готовую модель\n",
        "\n",
        "Модели word2vec бывают разных форматов:\n",
        "\n",
        "* .vec.gz — обычный файл\n",
        "* .bin.gz — бинарник\n",
        "\n",
        "Загружаются они с помощью одного и того же класса `KeyedVectors`, меняется только параметр `binary` у функции `load_word2vec_format`. \n",
        "\n",
        "Если же эмбеддинги обучены **не** с помощью word2vec, то для загрузки нужно использовать функцию `load`. Т.е. для загрузки предобученных эмбеддингов *glove, fasttext, bpe* и любых других нужна именно она.\n",
        "\n",
        "Скачаем с RusVectōrēs модель для русского языка, обученную на НКРЯ образца 2015 г. "
      ]
    },
    {
      "cell_type": "code",
      "metadata": {
        "id": "sTLnNKaNX-rP",
        "colab": {
          "base_uri": "https://localhost:8080/"
        },
        "outputId": "4b1a2ccc-2225-4d4f-98f4-c5499af8e3c5"
      },
      "source": [
        "import re\n",
        "import gensim\n",
        "import logging\n",
        "import nltk.data \n",
        "import pandas as pd\n",
        "import urllib.request\n",
        "from bs4 import BeautifulSoup\n",
        "from nltk.corpus import stopwords\n",
        "from gensim.models import word2vec\n",
        "from nltk.tokenize import sent_tokenize, RegexpTokenizer\n",
        "nltk.download('punkt')"
      ],
      "execution_count": 1,
      "outputs": [
        {
          "output_type": "stream",
          "name": "stdout",
          "text": [
            "[nltk_data] Downloading package punkt to /root/nltk_data...\n",
            "[nltk_data]   Unzipping tokenizers/punkt.zip.\n"
          ]
        },
        {
          "output_type": "execute_result",
          "data": {
            "text/plain": [
              "True"
            ]
          },
          "metadata": {},
          "execution_count": 1
        }
      ]
    },
    {
      "cell_type": "code",
      "metadata": {
        "id": "zm9z6SN3X-rS",
        "colab": {
          "base_uri": "https://localhost:8080/"
        },
        "outputId": "1891e67d-2363-44cb-c644-c255fc828696"
      },
      "source": [
        "urllib.request.urlretrieve(\"http://rusvectores.org/static/models/rusvectores2/ruscorpora_mystem_cbow_300_2_2015.bin.gz\", \"ruscorpora_mystem_cbow_300_2_2015.bin.gz\")"
      ],
      "execution_count": 2,
      "outputs": [
        {
          "output_type": "execute_result",
          "data": {
            "text/plain": [
              "('ruscorpora_mystem_cbow_300_2_2015.bin.gz',\n",
              " <http.client.HTTPMessage at 0x7f78b9940490>)"
            ]
          },
          "metadata": {},
          "execution_count": 2
        }
      ]
    },
    {
      "cell_type": "code",
      "metadata": {
        "id": "mkuCawyFX-rW"
      },
      "source": [
        "model_path = 'ruscorpora_mystem_cbow_300_2_2015.bin.gz'\n",
        "\n",
        "model_ru = gensim.models.KeyedVectors.load_word2vec_format(model_path, binary=True)"
      ],
      "execution_count": 3,
      "outputs": []
    },
    {
      "cell_type": "code",
      "metadata": {
        "id": "H4D0hMgkX-rY"
      },
      "source": [
        "words = ['день_S', 'ночь_S', 'человек_S', 'семантика_S', 'биткоин_S']"
      ],
      "execution_count": 6,
      "outputs": []
    },
    {
      "cell_type": "markdown",
      "metadata": {
        "id": "jbTShU9aX-ra"
      },
      "source": [
        "Частеречные тэги нужны, поскольку это специфика скачанной модели - она была натренирована на словах, аннотированных их частями речи (и лемматизированных). **NB!** В названиях моделей на `rusvectores` указано, какой тегсет они используют (mystem, upos и т.д.)\n",
        "\n",
        "Попросим у модели 10 ближайших соседей для каждого слова и коэффициент косинусной близости для каждого:"
      ]
    },
    {
      "cell_type": "code",
      "metadata": {
        "id": "9Uer5sHyX-ra",
        "colab": {
          "base_uri": "https://localhost:8080/"
        },
        "outputId": "bd8f4e3b-6069-4df3-be69-d6645a3739e2"
      },
      "source": [
        "for word in words:\n",
        "    # есть ли слово в модели? \n",
        "    if word in model_ru:\n",
        "        print(word)\n",
        "        # смотрим на вектор слова (его размерность 300, смотрим на первые 10 чисел)\n",
        "        print(model_ru[word][:10])\n",
        "        # выдаем 10 ближайших соседей слова:\n",
        "        for word, sim in model_ru.most_similar(positive=[word], topn=10):\n",
        "            # слово + коэффициент косинусной близости\n",
        "            print(word, ': ', sim)\n",
        "        print('\\n')\n",
        "    else:\n",
        "        # Увы!\n",
        "        print('Увы, слова \"%s\" нет в модели!' % word)"
      ],
      "execution_count": 7,
      "outputs": [
        {
          "output_type": "stream",
          "name": "stdout",
          "text": [
            "день_S\n",
            "[-0.02580778  0.00970898  0.01941961 -0.02332282  0.02017624  0.07275085\n",
            " -0.01444375  0.03316632  0.01242602  0.02833412]\n",
            "неделя_S :  0.7165195941925049\n",
            "месяц_S :  0.631048858165741\n",
            "вечер_S :  0.5828739404678345\n",
            "утро_S :  0.5676207542419434\n",
            "час_S :  0.5605547428131104\n",
            "минута_S :  0.5297019481658936\n",
            "гекатомбеон_S :  0.4897990822792053\n",
            "денек_S :  0.48224714398384094\n",
            "полчаса_S :  0.48217129707336426\n",
            "ночь_S :  0.478074848651886\n",
            "\n",
            "\n",
            "ночь_S\n",
            "[-0.00688948  0.00408364  0.06975466 -0.00959525  0.0194835   0.04057068\n",
            " -0.00994112  0.06064967 -0.00522624  0.00520327]\n",
            "вечер_S :  0.6946247816085815\n",
            "утро_S :  0.57301926612854\n",
            "ноченька_S :  0.5582467317581177\n",
            "рассвет_S :  0.5553582906723022\n",
            "ночка_S :  0.5351512432098389\n",
            "полдень_S :  0.5334426164627075\n",
            "полночь_S :  0.478694349527359\n",
            "день_S :  0.4780748784542084\n",
            "сумерки_S :  0.4390218257904053\n",
            "фундерфун_S :  0.4340824782848358\n",
            "\n",
            "\n",
            "человек_S\n",
            "[ 0.02013756 -0.02670703 -0.02039861 -0.05477146  0.00086402 -0.01636335\n",
            "  0.04240306 -0.00025525 -0.14045681  0.04785006]\n",
            "женщина_S :  0.5979775190353394\n",
            "парень_S :  0.4991787374019623\n",
            "мужчина_S :  0.4767409563064575\n",
            "мужик_S :  0.47384002804756165\n",
            "россиянин_S :  0.47190436720848083\n",
            "народ_S :  0.4654741883277893\n",
            "согражданин_S :  0.45378512144088745\n",
            "горожанин_S :  0.44368088245391846\n",
            "девушка_S :  0.44314485788345337\n",
            "иностранец_S :  0.43849867582321167\n",
            "\n",
            "\n",
            "семантика_S\n",
            "[-0.03066749  0.0053851   0.1110732   0.0152335   0.00440643  0.00384104\n",
            "  0.00096944 -0.03538784 -0.00079585  0.03220548]\n",
            "семантический_A :  0.5334584712982178\n",
            "понятие_S :  0.5030269622802734\n",
            "сочетаемость_S :  0.4817051291465759\n",
            "актант_S :  0.47596412897109985\n",
            "хронотоп_S :  0.46330299973487854\n",
            "метафора_S :  0.46158894896507263\n",
            "мышление_S :  0.4610119163990021\n",
            "парадигма_S :  0.45796656608581543\n",
            "лексема_S :  0.45688074827194214\n",
            "смысловой_A :  0.4543077349662781\n",
            "\n",
            "\n",
            "Увы, слова \"биткоин_S\" нет в модели!\n"
          ]
        }
      ]
    },
    {
      "cell_type": "markdown",
      "metadata": {
        "id": "1GqDmAcJX-rc"
      },
      "source": [
        "Находим косинусную близость пары слов:"
      ]
    },
    {
      "cell_type": "code",
      "metadata": {
        "id": "MDFjOSJjX-rd",
        "colab": {
          "base_uri": "https://localhost:8080/"
        },
        "outputId": "b8eae4cc-dbc4-441a-d04a-224f0449a474"
      },
      "source": [
        "print(model_ru.similarity('человек_S', 'обезьяна_S'))"
      ],
      "execution_count": 8,
      "outputs": [
        {
          "output_type": "stream",
          "name": "stdout",
          "text": [
            "0.23895611\n"
          ]
        }
      ]
    },
    {
      "cell_type": "markdown",
      "metadata": {
        "id": "B0w4pQooX-rf"
      },
      "source": [
        "Что получится, если вычесть из пиццы Италию и прибавить Сибирь?\n",
        "\n",
        "* positive — вектора, которые мы складываем\n",
        "* negative — вектора, которые вычитаем"
      ]
    },
    {
      "cell_type": "code",
      "metadata": {
        "id": "N0L5_TCQX-rf",
        "colab": {
          "base_uri": "https://localhost:8080/"
        },
        "outputId": "6b00937c-85c9-40c1-ae1b-12237d7a8e59"
      },
      "source": [
        "print(model_ru.most_similar(positive=['пицца_S', 'сибирь_S'], negative=['италия_S'])[0][0])"
      ],
      "execution_count": 9,
      "outputs": [
        {
          "output_type": "stream",
          "name": "stdout",
          "text": [
            "пельмень_S\n"
          ]
        }
      ]
    },
    {
      "cell_type": "code",
      "metadata": {
        "id": "DrN2Jc31X-rh",
        "colab": {
          "base_uri": "https://localhost:8080/",
          "height": 93
        },
        "outputId": "b6a0d4cc-539a-4689-c9c3-aa3e1fbdf63c"
      },
      "source": [
        "model_ru.doesnt_match('пицца_S пельмень_S хот-дог_S ананас_S'.split())"
      ],
      "execution_count": 10,
      "outputs": [
        {
          "output_type": "stream",
          "name": "stderr",
          "text": [
            "/usr/local/lib/python3.7/dist-packages/gensim/models/keyedvectors.py:895: FutureWarning: arrays to stack must be passed as a \"sequence\" type such as list or tuple. Support for non-sequence iterables such as generators is deprecated as of NumPy 1.16 and will raise an error in the future.\n",
            "  vectors = vstack(self.word_vec(word, use_norm=True) for word in used_words).astype(REAL)\n"
          ]
        },
        {
          "output_type": "execute_result",
          "data": {
            "application/vnd.google.colaboratory.intrinsic+json": {
              "type": "string"
            },
            "text/plain": [
              "'ананас_S'"
            ]
          },
          "metadata": {},
          "execution_count": 10
        }
      ]
    },
    {
      "cell_type": "markdown",
      "metadata": {
        "id": "ZNHMtmbqX-rl"
      },
      "source": [
        "### Как обучить свою модель\n",
        "\n",
        "В качестве обучающих данных возьмем размеченные и неразмеченные отзывы о фильмах (датасет взят с Kaggle)."
      ]
    },
    {
      "cell_type": "code",
      "metadata": {
        "id": "-1Vz9le-X-rl",
        "colab": {
          "base_uri": "https://localhost:8080/"
        },
        "outputId": "5d5f5ca9-7f43-48b9-aa58-8ba73b2a5c82"
      },
      "source": [
        "! wget https://raw.githubusercontent.com/ancatmara/data-science-nlp/master/data/w2v/train/unlabeledTrainData.tsv"
      ],
      "execution_count": 11,
      "outputs": [
        {
          "output_type": "stream",
          "name": "stdout",
          "text": [
            "--2021-09-08 17:14:56--  https://raw.githubusercontent.com/ancatmara/data-science-nlp/master/data/w2v/train/unlabeledTrainData.tsv\n",
            "Resolving raw.githubusercontent.com (raw.githubusercontent.com)... 185.199.111.133, 185.199.110.133, 185.199.108.133, ...\n",
            "Connecting to raw.githubusercontent.com (raw.githubusercontent.com)|185.199.111.133|:443... connected.\n",
            "HTTP request sent, awaiting response... 200 OK\n",
            "Length: 67281491 (64M) [text/plain]\n",
            "Saving to: ‘unlabeledTrainData.tsv’\n",
            "\n",
            "unlabeledTrainData. 100%[===================>]  64.16M   116MB/s    in 0.6s    \n",
            "\n",
            "2021-09-08 17:14:57 (116 MB/s) - ‘unlabeledTrainData.tsv’ saved [67281491/67281491]\n",
            "\n"
          ]
        }
      ]
    },
    {
      "cell_type": "code",
      "metadata": {
        "id": "B2wv-vSxX-ro",
        "colab": {
          "base_uri": "https://localhost:8080/"
        },
        "outputId": "98a006e4-3ea3-418e-cdfa-abc225cdbb03"
      },
      "source": [
        "data = pd.read_csv(\"unlabeledTrainData.tsv\", header=0, delimiter=\"\\t\", quoting=3)\n",
        "\n",
        "len(data)"
      ],
      "execution_count": 12,
      "outputs": [
        {
          "output_type": "execute_result",
          "data": {
            "text/plain": [
              "50000"
            ]
          },
          "metadata": {},
          "execution_count": 12
        }
      ]
    },
    {
      "cell_type": "code",
      "metadata": {
        "id": "eEGmrh-nX-rq",
        "colab": {
          "base_uri": "https://localhost:8080/",
          "height": 206
        },
        "outputId": "5e3b9e28-d24a-4bcb-825f-a1429c68b049"
      },
      "source": [
        "data.head()"
      ],
      "execution_count": 13,
      "outputs": [
        {
          "output_type": "execute_result",
          "data": {
            "text/html": [
              "<div>\n",
              "<style scoped>\n",
              "    .dataframe tbody tr th:only-of-type {\n",
              "        vertical-align: middle;\n",
              "    }\n",
              "\n",
              "    .dataframe tbody tr th {\n",
              "        vertical-align: top;\n",
              "    }\n",
              "\n",
              "    .dataframe thead th {\n",
              "        text-align: right;\n",
              "    }\n",
              "</style>\n",
              "<table border=\"1\" class=\"dataframe\">\n",
              "  <thead>\n",
              "    <tr style=\"text-align: right;\">\n",
              "      <th></th>\n",
              "      <th>id</th>\n",
              "      <th>review</th>\n",
              "    </tr>\n",
              "  </thead>\n",
              "  <tbody>\n",
              "    <tr>\n",
              "      <th>0</th>\n",
              "      <td>\"9999_0\"</td>\n",
              "      <td>\"Watching Time Chasers, it obvious that it was...</td>\n",
              "    </tr>\n",
              "    <tr>\n",
              "      <th>1</th>\n",
              "      <td>\"45057_0\"</td>\n",
              "      <td>\"I saw this film about 20 years ago and rememb...</td>\n",
              "    </tr>\n",
              "    <tr>\n",
              "      <th>2</th>\n",
              "      <td>\"15561_0\"</td>\n",
              "      <td>\"Minor Spoilers&lt;br /&gt;&lt;br /&gt;In New York, Joan B...</td>\n",
              "    </tr>\n",
              "    <tr>\n",
              "      <th>3</th>\n",
              "      <td>\"7161_0\"</td>\n",
              "      <td>\"I went to see this film with a great deal of ...</td>\n",
              "    </tr>\n",
              "    <tr>\n",
              "      <th>4</th>\n",
              "      <td>\"43971_0\"</td>\n",
              "      <td>\"Yes, I agree with everyone on this site this ...</td>\n",
              "    </tr>\n",
              "  </tbody>\n",
              "</table>\n",
              "</div>"
            ],
            "text/plain": [
              "          id                                             review\n",
              "0   \"9999_0\"  \"Watching Time Chasers, it obvious that it was...\n",
              "1  \"45057_0\"  \"I saw this film about 20 years ago and rememb...\n",
              "2  \"15561_0\"  \"Minor Spoilers<br /><br />In New York, Joan B...\n",
              "3   \"7161_0\"  \"I went to see this film with a great deal of ...\n",
              "4  \"43971_0\"  \"Yes, I agree with everyone on this site this ..."
            ]
          },
          "metadata": {},
          "execution_count": 13
        }
      ]
    },
    {
      "cell_type": "markdown",
      "metadata": {
        "id": "oIZaQ3kYX-rt"
      },
      "source": [
        "Убираем из данных ссылки, html-разметку и небуквенные символы, а затем приводим все к нижнему регистру и токенизируем. На выходе получается массив из предложений, каждое из которых представляет собой массив слов. Здесь используется токенизатор из библиотеки `nltk`. "
      ]
    },
    {
      "cell_type": "code",
      "metadata": {
        "id": "lOo_xaS60y6c"
      },
      "source": [
        "tokenizer = nltk.data.load('tokenizers/punkt/english.pickle')"
      ],
      "execution_count": 14,
      "outputs": []
    },
    {
      "cell_type": "code",
      "metadata": {
        "id": "irbunSOfX-rt"
      },
      "source": [
        "def review_to_wordlist(review, remove_stopwords=False ):\n",
        "    # убираем ссылки вне тегов\n",
        "    review = re.sub(r\"http[s]?://(?:[a-zA-Z]|[0-9]|[$-_@.&+]|[!*\\(\\),]|(?:%[0-9a-fA-F][0-9a-fA-F]))+\", \" \", review)\n",
        "    review_text = BeautifulSoup(review, \"lxml\").get_text()\n",
        "    review_text = re.sub(\"[^a-zA-Z]\",\" \", review_text)\n",
        "    words = review_text.lower().split()\n",
        "    if remove_stopwords:\n",
        "        stops = stopwords.words(\"english\")\n",
        "        words = [w for w in words if not w in stops]\n",
        "    return(words)\n",
        "\n",
        "def review_to_sentences(review, tokenizer, remove_stopwords=False):\n",
        "    raw_sentences = tokenizer.tokenize(review.strip())\n",
        "    sentences = []\n",
        "    for raw_sentence in raw_sentences:\n",
        "        if len(raw_sentence) > 0:\n",
        "            sentences.append(review_to_wordlist(raw_sentence, remove_stopwords))\n",
        "    return sentences"
      ],
      "execution_count": 15,
      "outputs": []
    },
    {
      "cell_type": "code",
      "metadata": {
        "id": "bolPEuQgX-rv",
        "colab": {
          "base_uri": "https://localhost:8080/"
        },
        "outputId": "bb9aefe5-bfa2-44f5-8395-ccee4992d95c"
      },
      "source": [
        "#logging.basicConfig(format='%(asctime)s : %(levelname)s : %(message)s', level=logging.INFO)\n",
        "\n",
        "sentences = []  \n",
        "\n",
        "print(\"Parsing sentences from training set...\")\n",
        "for review in data[\"review\"]:\n",
        "    sentences += review_to_sentences(review, tokenizer)"
      ],
      "execution_count": 16,
      "outputs": [
        {
          "output_type": "stream",
          "name": "stdout",
          "text": [
            "Parsing sentences from training set...\n"
          ]
        },
        {
          "output_type": "stream",
          "name": "stderr",
          "text": [
            "/usr/local/lib/python3.7/dist-packages/bs4/__init__.py:273: UserWarning: \"b'.'\" looks like a filename, not markup. You should probably open this file and pass the filehandle into Beautiful Soup.\n",
            "  ' Beautiful Soup.' % markup)\n",
            "/usr/local/lib/python3.7/dist-packages/bs4/__init__.py:273: UserWarning: \"b'..'\" looks like a filename, not markup. You should probably open this file and pass the filehandle into Beautiful Soup.\n",
            "  ' Beautiful Soup.' % markup)\n"
          ]
        }
      ]
    },
    {
      "cell_type": "code",
      "metadata": {
        "id": "FbrH6TdfX-rx",
        "colab": {
          "base_uri": "https://localhost:8080/"
        },
        "outputId": "ed58dfc0-5679-497f-e00b-6cceb9ad5657"
      },
      "source": [
        "print(len(sentences))\n",
        "print(sentences[0])"
      ],
      "execution_count": 17,
      "outputs": [
        {
          "output_type": "stream",
          "name": "stdout",
          "text": [
            "528987\n",
            "['watching', 'time', 'chasers', 'it', 'obvious', 'that', 'it', 'was', 'made', 'by', 'a', 'bunch', 'of', 'friends']\n"
          ]
        }
      ]
    },
    {
      "cell_type": "code",
      "metadata": {
        "id": "Cqb_NOteX-rz"
      },
      "source": [
        "# это понадобится нам позже\n",
        "\n",
        "with open('clean_text.txt', 'w') as f:\n",
        "    for s in sentences[:5000]:\n",
        "        f.write(' '.join(s))\n",
        "        f.write('\\n')"
      ],
      "execution_count": 18,
      "outputs": []
    },
    {
      "cell_type": "markdown",
      "metadata": {
        "id": "qqFhuv7XX-r1"
      },
      "source": [
        "Обучаем и сохраняем модель. \n",
        "\n",
        "\n",
        "Основные параметры:\n",
        "* данные должны быть итерируемым объектом \n",
        "* size — размер вектора, \n",
        "* window — размер окна наблюдения,\n",
        "* min_count — мин. частотность слова в корпусе,\n",
        "* sg — используемый алгоритм обучения (0 — CBOW, 1 — Skip-gram),\n",
        "* sample — порог для downsampling'a высокочастотных слов,\n",
        "* workers — количество потоков,\n",
        "* alpha — learning rate,\n",
        "* iter — количество итераций,\n",
        "* max_vocab_size — позволяет выставить ограничение по памяти при создании словаря (т.е. если ограничение превышается, то низкочастотные слова будут выбрасываться). Для сравнения: 10 млн слов = 1Гб RAM.\n",
        "\n",
        "**NB!** Обратите внимание, что тренировка модели не включает препроцессинг! Это значит, что избавляться от пунктуации, приводить слова к нижнему регистру, лемматизировать их, проставлять частеречные теги придется до тренировки модели (если, конечно, это необходимо для вашей задачи). Т.е. в каком виде слова будут в исходном тексте, в таком они будут и в модели."
      ]
    },
    {
      "cell_type": "code",
      "metadata": {
        "id": "OB2FqIioX-r1",
        "colab": {
          "base_uri": "https://localhost:8080/"
        },
        "outputId": "4b441d9f-284f-4a93-c90f-e294d6f94818"
      },
      "source": [
        "print(\"Training model...\")\n",
        "\n",
        "%time model_en = word2vec.Word2Vec(sentences, workers=4, size=300, min_count=10, window=10, sample=1e-3)"
      ],
      "execution_count": 19,
      "outputs": [
        {
          "output_type": "stream",
          "name": "stdout",
          "text": [
            "Training model...\n",
            "CPU times: user 4min 32s, sys: 1.1 s, total: 4min 33s\n",
            "Wall time: 2min 25s\n"
          ]
        }
      ]
    },
    {
      "cell_type": "markdown",
      "metadata": {
        "id": "HFU6SYAZX-r3"
      },
      "source": [
        "Смотрим, сколько в модели слов."
      ]
    },
    {
      "cell_type": "code",
      "metadata": {
        "id": "HA3P0CUYX-r4",
        "colab": {
          "base_uri": "https://localhost:8080/"
        },
        "outputId": "689b0c44-867a-4374-f70e-782ff895087d"
      },
      "source": [
        "print(len(model_en.wv.vocab))"
      ],
      "execution_count": 20,
      "outputs": [
        {
          "output_type": "stream",
          "name": "stdout",
          "text": [
            "28308\n"
          ]
        }
      ]
    },
    {
      "cell_type": "markdown",
      "metadata": {
        "id": "2mU9sbGYX-r8"
      },
      "source": [
        "Попробуем оценить модель вручную, порешав примеры. Несколько дано ниже, попробуйте придумать свои."
      ]
    },
    {
      "cell_type": "code",
      "metadata": {
        "id": "n8OQxmUyX-r9",
        "colab": {
          "base_uri": "https://localhost:8080/"
        },
        "outputId": "bab11d66-06b0-4aed-f882-3bbc93d21683"
      },
      "source": [
        "print(model_en.wv.most_similar(positive=[\"woman\", \"actor\"], negative=[\"man\"], topn=1))\n",
        "print(model_en.wv.most_similar(positive=[\"dogs\", \"man\"], negative=[\"dog\"], topn=1))\n",
        "\n",
        "print(model_en.wv.most_similar(\"usa\", topn=3))\n",
        "\n",
        "print(model_en.wv.doesnt_match(\"comedy thriller western novel\".split()))"
      ],
      "execution_count": 21,
      "outputs": [
        {
          "output_type": "stream",
          "name": "stdout",
          "text": [
            "[('actress', 0.7727394104003906)]\n",
            "[('men', 0.629494309425354)]\n",
            "[('europe', 0.7589021921157837), ('canada', 0.7379622459411621), ('germany', 0.7250016927719116)]\n",
            "novel\n"
          ]
        },
        {
          "output_type": "stream",
          "name": "stderr",
          "text": [
            "/usr/local/lib/python3.7/dist-packages/gensim/models/keyedvectors.py:895: FutureWarning: arrays to stack must be passed as a \"sequence\" type such as list or tuple. Support for non-sequence iterables such as generators is deprecated as of NumPy 1.16 and will raise an error in the future.\n",
            "  vectors = vstack(self.word_vec(word, use_norm=True) for word in used_words).astype(REAL)\n"
          ]
        }
      ]
    },
    {
      "cell_type": "markdown",
      "metadata": {
        "id": "juR4NX0wX-r_"
      },
      "source": [
        "### Как дообучить существующую модель\n",
        "\n",
        "При тренировке модели \"с нуля\" веса инициализируются случайно, однако можно использовать для инициализации векторов веса из предобученной модели, таким образом как бы дообучая ее.\n",
        "\n",
        "Сначала посмотрим близость какой-нибудь пары слов в имеющейся модели, чтобы потом сравнить результат с дообученной."
      ]
    },
    {
      "cell_type": "code",
      "metadata": {
        "id": "rAUVp96kX-sA",
        "colab": {
          "base_uri": "https://localhost:8080/"
        },
        "outputId": "65067006-6323-42dc-ee4e-b87b53d9c39a"
      },
      "source": [
        "model_en.wv.similarity('lion', 'rabbit')"
      ],
      "execution_count": 22,
      "outputs": [
        {
          "output_type": "execute_result",
          "data": {
            "text/plain": [
              "0.28636113"
            ]
          },
          "metadata": {},
          "execution_count": 22
        }
      ]
    },
    {
      "cell_type": "markdown",
      "metadata": {
        "id": "Mxsz8DKMX-sD"
      },
      "source": [
        "В качестве дополнительных данных для обучения возьмем английский текст «Алисы в Зазеркалье»."
      ]
    },
    {
      "cell_type": "code",
      "metadata": {
        "id": "4eTCOgpMX-sE",
        "colab": {
          "base_uri": "https://localhost:8080/"
        },
        "outputId": "0f5e7b6c-3a6b-4ede-85d4-6a6450065005"
      },
      "source": [
        "! wget https://raw.githubusercontent.com/ancatmara/data-science-nlp/master/data/w2v/train/alice.txt"
      ],
      "execution_count": 23,
      "outputs": [
        {
          "output_type": "stream",
          "name": "stdout",
          "text": [
            "--2021-09-08 18:31:00--  https://raw.githubusercontent.com/ancatmara/data-science-nlp/master/data/w2v/train/alice.txt\n",
            "Resolving raw.githubusercontent.com (raw.githubusercontent.com)... 185.199.109.133, 185.199.110.133, 185.199.111.133, ...\n",
            "Connecting to raw.githubusercontent.com (raw.githubusercontent.com)|185.199.109.133|:443... connected.\n",
            "HTTP request sent, awaiting response... 200 OK\n",
            "Length: 167631 (164K) [text/plain]\n",
            "Saving to: ‘alice.txt’\n",
            "\n",
            "alice.txt           100%[===================>] 163.70K  --.-KB/s    in 0.04s   \n",
            "\n",
            "2021-09-08 18:31:01 (3.59 MB/s) - ‘alice.txt’ saved [167631/167631]\n",
            "\n"
          ]
        }
      ]
    },
    {
      "cell_type": "code",
      "metadata": {
        "id": "yHuXJgB_X-sI",
        "colab": {
          "base_uri": "https://localhost:8080/"
        },
        "outputId": "c15837da-4c8e-4d3b-b55c-3e824df6949f"
      },
      "source": [
        "with open(\"alice.txt\", 'r', encoding='utf-8') as f:\n",
        "    text = f.read()\n",
        "\n",
        "text = re.sub('\\n', ' ', text)\n",
        "sents = sent_tokenize(text)\n",
        "\n",
        "punct = '!\"#$%&()*+,-./:;<=>?@[\\]^_`{|}~„“«»†*—/\\-‘’'\n",
        "clean_sents = []\n",
        "\n",
        "for sent in sents:\n",
        "    s = [w.lower().strip(punct) for w in sent.split()]\n",
        "    clean_sents.append(s)\n",
        "    \n",
        "print(clean_sents[:2])"
      ],
      "execution_count": 24,
      "outputs": [
        {
          "output_type": "stream",
          "name": "stdout",
          "text": [
            "[['through', 'the', 'looking-glass', 'by', 'lewis', 'carroll', 'chapter', 'i', 'looking-glass', 'house', 'one', 'thing', 'was', 'certain', 'that', 'the', 'white', 'kitten', 'had', 'had', 'nothing', 'to', 'do', 'with', 'it', '', 'it', 'was', 'the', 'black', 'kitten’s', 'fault', 'entirely'], ['for', 'the', 'white', 'kitten', 'had', 'been', 'having', 'its', 'face', 'washed', 'by', 'the', 'old', 'cat', 'for', 'the', 'last', 'quarter', 'of', 'an', 'hour', 'and', 'bearing', 'it', 'pretty', 'well', 'considering', 'so', 'you', 'see', 'that', 'it', 'couldn’t', 'have', 'had', 'any', 'hand', 'in', 'the', 'mischief']]\n"
          ]
        }
      ]
    },
    {
      "cell_type": "markdown",
      "metadata": {
        "id": "dH8f7GNBX-sK"
      },
      "source": [
        "Чтобы дообучить модель, надо сначала ее сохранить, а потом загрузить. Все параметры тренировки (размер вектора, мин. частота слова и т.п.) будут взяты из загруженной модели, т.е. задать их заново нельзя.\n",
        "\n",
        "**NB!** Дообучить можно только полную модель, а `KeyedVectors` — нельзя. Поэтому сохранять модель нужно в соответствующем формате. Подробнее о разнице [вот тут](https://radimrehurek.com/gensim/models/keyedvectors.html)."
      ]
    },
    {
      "cell_type": "code",
      "metadata": {
        "id": "Rv--44TmX-sL",
        "colab": {
          "base_uri": "https://localhost:8080/"
        },
        "outputId": "0013b443-f747-43f6-be22-ed39df13dde0"
      },
      "source": [
        "model_path = \"movie_reviews.model\"\n",
        "\n",
        "print(\"Saving model...\")\n",
        "model_en.save(model_path)"
      ],
      "execution_count": 25,
      "outputs": [
        {
          "output_type": "stream",
          "name": "stdout",
          "text": [
            "Saving model...\n"
          ]
        }
      ]
    },
    {
      "cell_type": "code",
      "metadata": {
        "id": "f6eZwBQzX-sQ",
        "colab": {
          "base_uri": "https://localhost:8080/"
        },
        "outputId": "a0d13cad-b454-4855-e46d-a420e2595e80"
      },
      "source": [
        "model = word2vec.Word2Vec.load(model_path)\n",
        "\n",
        "model.build_vocab(clean_sents, update=True)\n",
        "model.train(clean_sents, total_examples=model.corpus_count, epochs=5)"
      ],
      "execution_count": 26,
      "outputs": [
        {
          "output_type": "execute_result",
          "data": {
            "text/plain": [
              "(96910, 150225)"
            ]
          },
          "metadata": {},
          "execution_count": 26
        }
      ]
    },
    {
      "cell_type": "markdown",
      "metadata": {
        "id": "nMLhISWiX-sS"
      },
      "source": [
        "Лев и кролик стали ближе друг к другу!"
      ]
    },
    {
      "cell_type": "code",
      "metadata": {
        "id": "4USaUjmzX-sS",
        "colab": {
          "base_uri": "https://localhost:8080/"
        },
        "outputId": "974f9216-bec4-4413-fda3-356c7ce3fbd4"
      },
      "source": [
        "model.wv.similarity('lion', 'rabbit')"
      ],
      "execution_count": 27,
      "outputs": [
        {
          "output_type": "execute_result",
          "data": {
            "text/plain": [
              "0.29093957"
            ]
          },
          "metadata": {},
          "execution_count": 27
        }
      ]
    },
    {
      "cell_type": "markdown",
      "metadata": {
        "id": "F5bYd1qmX-sT"
      },
      "source": [
        "Можно нормализовать вектора, тогда модель будет занимать меньше RAM. Однако после этого её нельзя дотренировывать. Здесь используется L2-нормализация: вектора нормализуются так, что если сложить квадраты всех элементов вектора, в сумме получится 1. \n",
        "\n",
        "Кроме того, сохраним не полные вектора, а `KeyedVectors`."
      ]
    },
    {
      "cell_type": "code",
      "metadata": {
        "id": "ZAVaTYvQX-sU",
        "colab": {
          "base_uri": "https://localhost:8080/"
        },
        "outputId": "79d48013-c0f4-46b8-d725-b498b7470349"
      },
      "source": [
        "model.init_sims(replace=True)\n",
        "model_path = \"movies_alice.bin\"\n",
        "\n",
        "print(\"Saving model...\")\n",
        "model_en.wv.save_word2vec_format(model_path, binary=True)"
      ],
      "execution_count": 28,
      "outputs": [
        {
          "output_type": "stream",
          "name": "stdout",
          "text": [
            "Saving model...\n"
          ]
        }
      ]
    },
    {
      "cell_type": "markdown",
      "metadata": {
        "id": "CXKnPffPX-sY"
      },
      "source": [
        "## Оценка\n",
        "\n",
        "Это, конечно, хорошо, но как понять, какая модель лучше? Или вот, например, я сделал свою модель, а как понять, насколько она хорошая?\n",
        "\n",
        "Для этого существуют специальные датасеты для оценки качества дистрибутивных моделей. Основных два: один измеряет точность решения задач на аналогии (про Россию и пельмени), а второй используется для оценки коэффициента семантической близости. \n",
        "\n",
        "### Word Similarity\n",
        "\n",
        "Этот метод заключается в том, чтобы оценить, насколько представления о семантической близости слов в модели соотносятся с \"представлениями\" людей.\n",
        "\n",
        "| слово 1    | слово 2    | близость | \n",
        "|------------|------------|----------|\n",
        "| кошка      | собака     | 0.7      |  \n",
        "| чашка      | кружка     | 0.9      |       \n",
        "\n",
        "Для каждой пары слов из заранее заданного датасета мы можем посчитать косинусное расстояние, и получить список таких значений близости. При этом у нас уже есть список значений близостей, сделанный людьми. Мы можем сравнить эти два списка и понять, насколько они похожи (например, посчитав корреляцию). Эта мера схожести должна говорить о том, насколько модель хорошо моделирует расстояния до слова.\n",
        "\n",
        "### Аналогии\n",
        "\n",
        "Другая популярная задача для \"внутренней\" оценки называется задачей поиска аналогий. Как мы уже разбирали выше, с помощью простых арифметических операций мы можем модифицировать значение слова. Если заранее собрать набор слов-модификаторов, а также слов, которые мы хотим получить в результаты модификации, то на основе подсчёта количества \"попаданий\" в желаемое слово мы можем оценить, насколько хорошо работает модель.\n",
        "\n",
        "В качестве слов-модификаторов мы можем использовать семантические аналогии. Скажем, если у нас есть некоторое отношение \"страна-столица\", то для оценки модели мы можем использовать пары наподобие \"Россия-Москва\", \"Норвегия-Осло\", и т.д. Датасет будет выглядеть следующм образом:\n",
        "\n",
        "| слово 1    | слово 2    | отношение     | \n",
        "|------------|------------|---------------|\n",
        "| Россия     | Москва     | страна-столица|  \n",
        "| Норвегия   | Осло       | страна-столица|\n",
        "\n",
        "Рассматривая случайные две пары из этого набора, мы хотим, имея триплет (Россия, Москва, Норвегия), получить слово \"Осло\", т.е. найти такое слово, которое будет находиться в том же отношении со словом \"Норвегия\", как \"Россия\" находится с Москвой. \n",
        "\n",
        "Датасеты для русского языка можно скачать на странице с моделями на RusVectores. Посчитаем качество нашей модели НКРЯ на датасете про аналогии:"
      ]
    },
    {
      "cell_type": "code",
      "metadata": {
        "id": "-YhZcONZX-sY",
        "colab": {
          "base_uri": "https://localhost:8080/"
        },
        "outputId": "93a79151-f363-4e00-e22f-d8cdeac19bab"
      },
      "source": [
        "! wget https://raw.githubusercontent.com/ancatmara/data-science-nlp/master/data/w2v/evaluation/ru_analogy_tagged.txt"
      ],
      "execution_count": 29,
      "outputs": [
        {
          "output_type": "stream",
          "name": "stdout",
          "text": [
            "--2021-09-08 18:52:13--  https://raw.githubusercontent.com/ancatmara/data-science-nlp/master/data/w2v/evaluation/ru_analogy_tagged.txt\n",
            "Resolving raw.githubusercontent.com (raw.githubusercontent.com)... 185.199.109.133, 185.199.108.133, 185.199.110.133, ...\n",
            "Connecting to raw.githubusercontent.com (raw.githubusercontent.com)|185.199.109.133|:443... connected.\n",
            "HTTP request sent, awaiting response... 200 OK\n",
            "Length: 871776 (851K) [text/plain]\n",
            "Saving to: ‘ru_analogy_tagged.txt’\n",
            "\n",
            "ru_analogy_tagged.t 100%[===================>] 851.34K  --.-KB/s    in 0.09s   \n",
            "\n",
            "2021-09-08 18:52:13 (9.59 MB/s) - ‘ru_analogy_tagged.txt’ saved [871776/871776]\n",
            "\n"
          ]
        }
      ]
    },
    {
      "cell_type": "code",
      "metadata": {
        "id": "z54TWXlcX-sb",
        "colab": {
          "base_uri": "https://localhost:8080/"
        },
        "outputId": "4cd7c857-e59e-42ee-99b2-4811dc3e1930"
      },
      "source": [
        "res = model_ru.accuracy('ru_analogy_tagged.txt')"
      ],
      "execution_count": 30,
      "outputs": [
        {
          "output_type": "stream",
          "name": "stderr",
          "text": [
            "/usr/local/lib/python3.7/dist-packages/ipykernel_launcher.py:1: DeprecationWarning: Call to deprecated `accuracy` (Method will be removed in 4.0.0, use self.evaluate_word_analogies() instead).\n",
            "  \"\"\"Entry point for launching an IPython kernel.\n"
          ]
        }
      ]
    },
    {
      "cell_type": "code",
      "metadata": {
        "id": "tWNppFBeX-sd",
        "colab": {
          "base_uri": "https://localhost:8080/"
        },
        "outputId": "bed7606e-077d-4a13-ee39-cc9f2e401d8e"
      },
      "source": [
        "print(res[4]['incorrect'][:10])"
      ],
      "execution_count": 31,
      "outputs": [
        {
          "output_type": "stream",
          "name": "stdout",
          "text": [
            "[('МАЛЬЧИК_S', 'ДЕВОЧКА_S', 'ДЕД_S', 'БАБКА_S'), ('МАЛЬЧИК_S', 'ДЕВОЧКА_S', 'КОРОЛЬ_S', 'КОРОЛЕВА_S'), ('МАЛЬЧИК_S', 'ДЕВОЧКА_S', 'ПРИНЦ_S', 'ПРИНЦЕССА_S'), ('МАЛЬЧИК_S', 'ДЕВОЧКА_S', 'ОТЧИМ_S', 'МАЧЕХА_S'), ('МАЛЬЧИК_S', 'ДЕВОЧКА_S', 'ПАСЫНОК_S', 'ПАДЧЕРИЦА_S'), ('БРАТ_S', 'СЕСТРА_S', 'ДЕД_S', 'БАБКА_S'), ('БРАТ_S', 'СЕСТРА_S', 'ОТЧИМ_S', 'МАЧЕХА_S'), ('БРАТ_S', 'СЕСТРА_S', 'ПАСЫНОК_S', 'ПАДЧЕРИЦА_S'), ('ПАПА_S', 'МАМА_S', 'ДЕД_S', 'БАБКА_S'), ('ПАПА_S', 'МАМА_S', 'ОТЧИМ_S', 'МАЧЕХА_S')]\n"
          ]
        }
      ]
    },
    {
      "cell_type": "markdown",
      "metadata": {
        "id": "Sv0wxUXIX-se"
      },
      "source": [
        "## Визуализация\n",
        "\n",
        "На полученную модель можно посмотреть, визуализировав ее, например, на плоскости.\n",
        "### t-SNE\n",
        "\n",
        "**t-SNE**  (*t-distributed Stochastic Neighbor Embedding*) — техника нелинейного снижения размерности и визуализации многомерных переменных. Она разработана специально для данных высокой размерности Л. ван дер Маатеном и Д. Хинтоном, [вот их статья](http://jmlr.org/papers/volume9/vandermaaten08a/vandermaaten08a.pdf). t-SNE — это итеративный алгоритм, основанный на вычислении попарных расстояний между всеми объектами (в том числе поэтому он довольно медленный).\n",
        "\n",
        "\n",
        "Изобразим на плоскости 1000 самых частотных слов из коллекции текстов про кино:"
      ]
    },
    {
      "cell_type": "code",
      "metadata": {
        "id": "5UH91gFyX-sf",
        "colab": {
          "base_uri": "https://localhost:8080/",
          "height": 180,
          "referenced_widgets": [
            "bd329894ba174303bf7732937e5b087b",
            "9eb26853df3340b78250a94fbfa2933f",
            "50003c2f699c40c987c9eb6840fe9105",
            "1c36790ebca9483eb5982dbd24d43596",
            "e4485789a30648b5b71d2f742f33b0fe",
            "f38dc9a830b94e7f88e50d85ea16fc7a",
            "534f25d544a04441a76ca1edf79dae4e",
            "01e2046fb17c43248f38e7e2726043d6",
            "deab814d53964f9398119574422ba325",
            "68e8d0e578734fcdb8225e9852793754",
            "85ddaf2cf3ed4c92a0093bc5673b9f0b"
          ]
        },
        "outputId": "1424bab8-775c-4851-9e51-ace70f3e9925"
      },
      "source": [
        "from nltk import FreqDist\n",
        "from tqdm import tqdm_notebook as tqdm\n",
        "from sklearn.manifold import TSNE\n",
        "\n",
        "top_words = []\n",
        "\n",
        "\n",
        "fd = FreqDist()\n",
        "for s in tqdm(sentences):\n",
        "    fd.update(s)\n",
        "\n",
        "for w in fd.most_common(1000):\n",
        "    top_words.append(w[0])\n",
        "    \n",
        "print(top_words[:50:])\n",
        "top_words_vec = model[top_words]"
      ],
      "execution_count": 32,
      "outputs": [
        {
          "output_type": "stream",
          "name": "stderr",
          "text": [
            "/usr/local/lib/python3.7/dist-packages/ipykernel_launcher.py:9: TqdmDeprecationWarning: This function will be removed in tqdm==5.0.0\n",
            "Please use `tqdm.notebook.tqdm` instead of `tqdm.tqdm_notebook`\n",
            "  if __name__ == '__main__':\n"
          ]
        },
        {
          "output_type": "display_data",
          "data": {
            "application/vnd.jupyter.widget-view+json": {
              "model_id": "bd329894ba174303bf7732937e5b087b",
              "version_minor": 0,
              "version_major": 2
            },
            "text/plain": [
              "  0%|          | 0/528987 [00:00<?, ?it/s]"
            ]
          },
          "metadata": {}
        },
        {
          "output_type": "stream",
          "name": "stdout",
          "text": [
            "['the', 'and', 'a', 'of', 'to', 'is', 'it', 'in', 'i', 'this', 'that', 's', 'was', 'as', 'with', 'for', 'movie', 'but', 'film', 'you', 't', 'on', 'not', 'he', 'are', 'his', 'have', 'be', 'one', 'all', 'they', 'at', 'by', 'who', 'an', 'from', 'so', 'like', 'there', 'or', 'her', 'just', 'about', 'out', 'has', 'if', 'what', 'some', 'good', 'can']\n"
          ]
        },
        {
          "output_type": "stream",
          "name": "stderr",
          "text": [
            "/usr/local/lib/python3.7/dist-packages/ipykernel_launcher.py:16: DeprecationWarning: Call to deprecated `__getitem__` (Method will be removed in 4.0.0, use self.wv.__getitem__() instead).\n",
            "  app.launch_new_instance()\n"
          ]
        }
      ]
    },
    {
      "cell_type": "code",
      "metadata": {
        "id": "UojZiR7c0zBW",
        "colab": {
          "base_uri": "https://localhost:8080/"
        },
        "outputId": "1178b2ac-0fb0-4bb0-a841-c852798209c0"
      },
      "source": [
        "top_words_vec = model[top_words]"
      ],
      "execution_count": 33,
      "outputs": [
        {
          "output_type": "stream",
          "name": "stderr",
          "text": [
            "/usr/local/lib/python3.7/dist-packages/ipykernel_launcher.py:1: DeprecationWarning: Call to deprecated `__getitem__` (Method will be removed in 4.0.0, use self.wv.__getitem__() instead).\n",
            "  \"\"\"Entry point for launching an IPython kernel.\n"
          ]
        }
      ]
    },
    {
      "cell_type": "code",
      "metadata": {
        "id": "74FvTsuuX-sg",
        "colab": {
          "base_uri": "https://localhost:8080/"
        },
        "outputId": "b64a2baa-4f44-4bea-9238-1dde001e9a99"
      },
      "source": [
        "%%time\n",
        "tsne = TSNE(n_components=2, random_state=0)\n",
        "top_words_tsne = tsne.fit_transform(top_words_vec)"
      ],
      "execution_count": 34,
      "outputs": [
        {
          "output_type": "stream",
          "name": "stdout",
          "text": [
            "CPU times: user 15.1 s, sys: 68 ms, total: 15.2 s\n",
            "Wall time: 8.18 s\n"
          ]
        }
      ]
    },
    {
      "cell_type": "code",
      "metadata": {
        "id": "UcR4rOu40zCA",
        "outputId": "e4ffb963-d062-4a49-aef2-2689175f5eed"
      },
      "source": [
        "# !pip install bokeh"
      ],
      "execution_count": null,
      "outputs": [
        {
          "output_type": "stream",
          "text": [
            "Traceback (most recent call last):\r\n",
            "  File \"/usr/local/bin/pip\", line 7, in <module>\r\n",
            "    from pip._internal import main\r\n",
            "ImportError: No module named 'pip._internal'\r\n"
          ],
          "name": "stdout"
        }
      ]
    },
    {
      "cell_type": "code",
      "metadata": {
        "id": "R0A__XKwX-si",
        "colab": {
          "base_uri": "https://localhost:8080/",
          "height": 617
        },
        "outputId": "e6ba14bf-5808-48f3-90a6-2343fe7f7546"
      },
      "source": [
        "from bokeh.models import ColumnDataSource, LabelSet\n",
        "from bokeh.plotting import figure, show, output_file\n",
        "from bokeh.io import output_notebook\n",
        "output_notebook()\n",
        "\n",
        "p = figure(tools=\"pan,wheel_zoom,reset,save\",\n",
        "           toolbar_location=\"above\",\n",
        "           title=\"word2vec T-SNE (eng model, top1000 words)\")\n",
        "\n",
        "source = ColumnDataSource(data=dict(x1=top_words_tsne[:,0],\n",
        "                                    x2=top_words_tsne[:,1],\n",
        "                                    names=top_words))\n",
        "\n",
        "p.scatter(x=\"x1\", y=\"x2\", size=8, source=source)\n",
        "\n",
        "labels = LabelSet(x=\"x1\", y=\"x2\", text=\"names\", y_offset=6,\n",
        "                  text_font_size=\"8pt\", text_color=\"#555555\",\n",
        "                  source=source, text_align='center')\n",
        "p.add_layout(labels)\n",
        "\n",
        "show(p)"
      ],
      "execution_count": null,
      "outputs": [
        {
          "output_type": "display_data",
          "data": {
            "application/javascript": [
              "\n",
              "(function(root) {\n",
              "  function now() {\n",
              "    return new Date();\n",
              "  }\n",
              "\n",
              "  var force = true;\n",
              "\n",
              "  if (typeof root._bokeh_onload_callbacks === \"undefined\" || force === true) {\n",
              "    root._bokeh_onload_callbacks = [];\n",
              "    root._bokeh_is_loading = undefined;\n",
              "  }\n",
              "\n",
              "  var JS_MIME_TYPE = 'application/javascript';\n",
              "  var HTML_MIME_TYPE = 'text/html';\n",
              "  var EXEC_MIME_TYPE = 'application/vnd.bokehjs_exec.v0+json';\n",
              "  var CLASS_NAME = 'output_bokeh rendered_html';\n",
              "\n",
              "  /**\n",
              "   * Render data to the DOM node\n",
              "   */\n",
              "  function render(props, node) {\n",
              "    var script = document.createElement(\"script\");\n",
              "    node.appendChild(script);\n",
              "  }\n",
              "\n",
              "  /**\n",
              "   * Handle when an output is cleared or removed\n",
              "   */\n",
              "  function handleClearOutput(event, handle) {\n",
              "    var cell = handle.cell;\n",
              "\n",
              "    var id = cell.output_area._bokeh_element_id;\n",
              "    var server_id = cell.output_area._bokeh_server_id;\n",
              "    // Clean up Bokeh references\n",
              "    if (id != null && id in Bokeh.index) {\n",
              "      Bokeh.index[id].model.document.clear();\n",
              "      delete Bokeh.index[id];\n",
              "    }\n",
              "\n",
              "    if (server_id !== undefined) {\n",
              "      // Clean up Bokeh references\n",
              "      var cmd = \"from bokeh.io.state import curstate; print(curstate().uuid_to_server['\" + server_id + \"'].get_sessions()[0].document.roots[0]._id)\";\n",
              "      cell.notebook.kernel.execute(cmd, {\n",
              "        iopub: {\n",
              "          output: function(msg) {\n",
              "            var id = msg.content.text.trim();\n",
              "            if (id in Bokeh.index) {\n",
              "              Bokeh.index[id].model.document.clear();\n",
              "              delete Bokeh.index[id];\n",
              "            }\n",
              "          }\n",
              "        }\n",
              "      });\n",
              "      // Destroy server and session\n",
              "      var cmd = \"import bokeh.io.notebook as ion; ion.destroy_server('\" + server_id + \"')\";\n",
              "      cell.notebook.kernel.execute(cmd);\n",
              "    }\n",
              "  }\n",
              "\n",
              "  /**\n",
              "   * Handle when a new output is added\n",
              "   */\n",
              "  function handleAddOutput(event, handle) {\n",
              "    var output_area = handle.output_area;\n",
              "    var output = handle.output;\n",
              "\n",
              "    // limit handleAddOutput to display_data with EXEC_MIME_TYPE content only\n",
              "    if ((output.output_type != \"display_data\") || (!output.data.hasOwnProperty(EXEC_MIME_TYPE))) {\n",
              "      return\n",
              "    }\n",
              "\n",
              "    var toinsert = output_area.element.find(\".\" + CLASS_NAME.split(' ')[0]);\n",
              "\n",
              "    if (output.metadata[EXEC_MIME_TYPE][\"id\"] !== undefined) {\n",
              "      toinsert[toinsert.length - 1].firstChild.textContent = output.data[JS_MIME_TYPE];\n",
              "      // store reference to embed id on output_area\n",
              "      output_area._bokeh_element_id = output.metadata[EXEC_MIME_TYPE][\"id\"];\n",
              "    }\n",
              "    if (output.metadata[EXEC_MIME_TYPE][\"server_id\"] !== undefined) {\n",
              "      var bk_div = document.createElement(\"div\");\n",
              "      bk_div.innerHTML = output.data[HTML_MIME_TYPE];\n",
              "      var script_attrs = bk_div.children[0].attributes;\n",
              "      for (var i = 0; i < script_attrs.length; i++) {\n",
              "        toinsert[toinsert.length - 1].firstChild.setAttribute(script_attrs[i].name, script_attrs[i].value);\n",
              "        toinsert[toinsert.length - 1].firstChild.textContent = bk_div.children[0].textContent\n",
              "      }\n",
              "      // store reference to server id on output_area\n",
              "      output_area._bokeh_server_id = output.metadata[EXEC_MIME_TYPE][\"server_id\"];\n",
              "    }\n",
              "  }\n",
              "\n",
              "  function register_renderer(events, OutputArea) {\n",
              "\n",
              "    function append_mime(data, metadata, element) {\n",
              "      // create a DOM node to render to\n",
              "      var toinsert = this.create_output_subarea(\n",
              "        metadata,\n",
              "        CLASS_NAME,\n",
              "        EXEC_MIME_TYPE\n",
              "      );\n",
              "      this.keyboard_manager.register_events(toinsert);\n",
              "      // Render to node\n",
              "      var props = {data: data, metadata: metadata[EXEC_MIME_TYPE]};\n",
              "      render(props, toinsert[toinsert.length - 1]);\n",
              "      element.append(toinsert);\n",
              "      return toinsert\n",
              "    }\n",
              "\n",
              "    /* Handle when an output is cleared or removed */\n",
              "    events.on('clear_output.CodeCell', handleClearOutput);\n",
              "    events.on('delete.Cell', handleClearOutput);\n",
              "\n",
              "    /* Handle when a new output is added */\n",
              "    events.on('output_added.OutputArea', handleAddOutput);\n",
              "\n",
              "    /**\n",
              "     * Register the mime type and append_mime function with output_area\n",
              "     */\n",
              "    OutputArea.prototype.register_mime_type(EXEC_MIME_TYPE, append_mime, {\n",
              "      /* Is output safe? */\n",
              "      safe: true,\n",
              "      /* Index of renderer in `output_area.display_order` */\n",
              "      index: 0\n",
              "    });\n",
              "  }\n",
              "\n",
              "  // register the mime type if in Jupyter Notebook environment and previously unregistered\n",
              "  if (root.Jupyter !== undefined) {\n",
              "    var events = require('base/js/events');\n",
              "    var OutputArea = require('notebook/js/outputarea').OutputArea;\n",
              "\n",
              "    if (OutputArea.prototype.mime_types().indexOf(EXEC_MIME_TYPE) == -1) {\n",
              "      register_renderer(events, OutputArea);\n",
              "    }\n",
              "  }\n",
              "\n",
              "  \n",
              "  if (typeof (root._bokeh_timeout) === \"undefined\" || force === true) {\n",
              "    root._bokeh_timeout = Date.now() + 5000;\n",
              "    root._bokeh_failed_load = false;\n",
              "  }\n",
              "\n",
              "  var NB_LOAD_WARNING = {'data': {'text/html':\n",
              "     \"<div style='background-color: #fdd'>\\n\"+\n",
              "     \"<p>\\n\"+\n",
              "     \"BokehJS does not appear to have successfully loaded. If loading BokehJS from CDN, this \\n\"+\n",
              "     \"may be due to a slow or bad network connection. Possible fixes:\\n\"+\n",
              "     \"</p>\\n\"+\n",
              "     \"<ul>\\n\"+\n",
              "     \"<li>re-rerun `output_notebook()` to attempt to load from CDN again, or</li>\\n\"+\n",
              "     \"<li>use INLINE resources instead, as so:</li>\\n\"+\n",
              "     \"</ul>\\n\"+\n",
              "     \"<code>\\n\"+\n",
              "     \"from bokeh.resources import INLINE\\n\"+\n",
              "     \"output_notebook(resources=INLINE)\\n\"+\n",
              "     \"</code>\\n\"+\n",
              "     \"</div>\"}};\n",
              "\n",
              "  function display_loaded() {\n",
              "    var el = document.getElementById(null);\n",
              "    if (el != null) {\n",
              "      el.textContent = \"BokehJS is loading...\";\n",
              "    }\n",
              "    if (root.Bokeh !== undefined) {\n",
              "      if (el != null) {\n",
              "        el.textContent = \"BokehJS \" + root.Bokeh.version + \" successfully loaded.\";\n",
              "      }\n",
              "    } else if (Date.now() < root._bokeh_timeout) {\n",
              "      setTimeout(display_loaded, 100)\n",
              "    }\n",
              "  }\n",
              "\n",
              "\n",
              "  function run_callbacks() {\n",
              "    try {\n",
              "      root._bokeh_onload_callbacks.forEach(function(callback) {\n",
              "        if (callback != null)\n",
              "          callback();\n",
              "      });\n",
              "    } finally {\n",
              "      delete root._bokeh_onload_callbacks\n",
              "    }\n",
              "    console.debug(\"Bokeh: all callbacks have finished\");\n",
              "  }\n",
              "\n",
              "  function load_libs(css_urls, js_urls, callback) {\n",
              "    if (css_urls == null) css_urls = [];\n",
              "    if (js_urls == null) js_urls = [];\n",
              "\n",
              "    root._bokeh_onload_callbacks.push(callback);\n",
              "    if (root._bokeh_is_loading > 0) {\n",
              "      console.debug(\"Bokeh: BokehJS is being loaded, scheduling callback at\", now());\n",
              "      return null;\n",
              "    }\n",
              "    if (js_urls == null || js_urls.length === 0) {\n",
              "      run_callbacks();\n",
              "      return null;\n",
              "    }\n",
              "    console.debug(\"Bokeh: BokehJS not loaded, scheduling load and callback at\", now());\n",
              "    root._bokeh_is_loading = css_urls.length + js_urls.length;\n",
              "\n",
              "    function on_load() {\n",
              "      root._bokeh_is_loading--;\n",
              "      if (root._bokeh_is_loading === 0) {\n",
              "        console.debug(\"Bokeh: all BokehJS libraries/stylesheets loaded\");\n",
              "        run_callbacks()\n",
              "      }\n",
              "    }\n",
              "\n",
              "    function on_error() {\n",
              "      console.error(\"failed to load \" + url);\n",
              "    }\n",
              "\n",
              "    for (var i = 0; i < css_urls.length; i++) {\n",
              "      var url = css_urls[i];\n",
              "      const element = document.createElement(\"link\");\n",
              "      element.onload = on_load;\n",
              "      element.onerror = on_error;\n",
              "      element.rel = \"stylesheet\";\n",
              "      element.type = \"text/css\";\n",
              "      element.href = url;\n",
              "      console.debug(\"Bokeh: injecting link tag for BokehJS stylesheet: \", url);\n",
              "      document.body.appendChild(element);\n",
              "    }\n",
              "\n",
              "    const hashes = {\"https://cdn.bokeh.org/bokeh/release/bokeh-2.1.1.min.js\": \"kLr4fYcqcSpbuI95brIH3vnnYCquzzSxHPU6XGQCIkQRGJwhg0StNbj1eegrHs12\", \"https://cdn.bokeh.org/bokeh/release/bokeh-widgets-2.1.1.min.js\": \"xIGPmVtaOm+z0BqfSOMn4lOR6ciex448GIKG4eE61LsAvmGj48XcMQZtKcE/UXZe\", \"https://cdn.bokeh.org/bokeh/release/bokeh-tables-2.1.1.min.js\": \"Dc9u1wF/0zApGIWoBbH77iWEHtdmkuYWG839Uzmv8y8yBLXebjO9ZnERsde5Ln/P\", \"https://cdn.bokeh.org/bokeh/release/bokeh-gl-2.1.1.min.js\": \"cT9JaBz7GiRXdENrJLZNSC6eMNF3nh3fa5fTF51Svp+ukxPdwcU5kGXGPBgDCa2j\"};\n",
              "\n",
              "    for (var i = 0; i < js_urls.length; i++) {\n",
              "      var url = js_urls[i];\n",
              "      var element = document.createElement('script');\n",
              "      element.onload = on_load;\n",
              "      element.onerror = on_error;\n",
              "      element.async = false;\n",
              "      element.src = url;\n",
              "      if (url in hashes) {\n",
              "        element.crossOrigin = \"anonymous\";\n",
              "        element.integrity = \"sha384-\" + hashes[url];\n",
              "      }\n",
              "      console.debug(\"Bokeh: injecting script tag for BokehJS library: \", url);\n",
              "      document.head.appendChild(element);\n",
              "    }\n",
              "  };\n",
              "\n",
              "  function inject_raw_css(css) {\n",
              "    const element = document.createElement(\"style\");\n",
              "    element.appendChild(document.createTextNode(css));\n",
              "    document.body.appendChild(element);\n",
              "  }\n",
              "\n",
              "  \n",
              "  var js_urls = [\"https://cdn.bokeh.org/bokeh/release/bokeh-2.1.1.min.js\", \"https://cdn.bokeh.org/bokeh/release/bokeh-widgets-2.1.1.min.js\", \"https://cdn.bokeh.org/bokeh/release/bokeh-tables-2.1.1.min.js\", \"https://cdn.bokeh.org/bokeh/release/bokeh-gl-2.1.1.min.js\"];\n",
              "  var css_urls = [];\n",
              "  \n",
              "\n",
              "  var inline_js = [\n",
              "    function(Bokeh) {\n",
              "      Bokeh.set_log_level(\"info\");\n",
              "    },\n",
              "    function(Bokeh) {\n",
              "    \n",
              "    \n",
              "    }\n",
              "  ];\n",
              "\n",
              "  function run_inline_js() {\n",
              "    \n",
              "    if (root.Bokeh !== undefined || force === true) {\n",
              "      \n",
              "    for (var i = 0; i < inline_js.length; i++) {\n",
              "      inline_js[i].call(root, root.Bokeh);\n",
              "    }\n",
              "    } else if (Date.now() < root._bokeh_timeout) {\n",
              "      setTimeout(run_inline_js, 100);\n",
              "    } else if (!root._bokeh_failed_load) {\n",
              "      console.log(\"Bokeh: BokehJS failed to load within specified timeout.\");\n",
              "      root._bokeh_failed_load = true;\n",
              "    } else if (force !== true) {\n",
              "      var cell = $(document.getElementById(null)).parents('.cell').data().cell;\n",
              "      cell.output_area.append_execute_result(NB_LOAD_WARNING)\n",
              "    }\n",
              "\n",
              "  }\n",
              "\n",
              "  if (root._bokeh_is_loading === 0) {\n",
              "    console.debug(\"Bokeh: BokehJS loaded, going straight to plotting\");\n",
              "    run_inline_js();\n",
              "  } else {\n",
              "    load_libs(css_urls, js_urls, function() {\n",
              "      console.debug(\"Bokeh: BokehJS plotting callback run at\", now());\n",
              "      run_inline_js();\n",
              "    });\n",
              "  }\n",
              "}(window));"
            ],
            "application/vnd.bokehjs_load.v0+json": "\n(function(root) {\n  function now() {\n    return new Date();\n  }\n\n  var force = true;\n\n  if (typeof root._bokeh_onload_callbacks === \"undefined\" || force === true) {\n    root._bokeh_onload_callbacks = [];\n    root._bokeh_is_loading = undefined;\n  }\n\n  \n\n  \n  if (typeof (root._bokeh_timeout) === \"undefined\" || force === true) {\n    root._bokeh_timeout = Date.now() + 5000;\n    root._bokeh_failed_load = false;\n  }\n\n  var NB_LOAD_WARNING = {'data': {'text/html':\n     \"<div style='background-color: #fdd'>\\n\"+\n     \"<p>\\n\"+\n     \"BokehJS does not appear to have successfully loaded. If loading BokehJS from CDN, this \\n\"+\n     \"may be due to a slow or bad network connection. Possible fixes:\\n\"+\n     \"</p>\\n\"+\n     \"<ul>\\n\"+\n     \"<li>re-rerun `output_notebook()` to attempt to load from CDN again, or</li>\\n\"+\n     \"<li>use INLINE resources instead, as so:</li>\\n\"+\n     \"</ul>\\n\"+\n     \"<code>\\n\"+\n     \"from bokeh.resources import INLINE\\n\"+\n     \"output_notebook(resources=INLINE)\\n\"+\n     \"</code>\\n\"+\n     \"</div>\"}};\n\n  function display_loaded() {\n    var el = document.getElementById(null);\n    if (el != null) {\n      el.textContent = \"BokehJS is loading...\";\n    }\n    if (root.Bokeh !== undefined) {\n      if (el != null) {\n        el.textContent = \"BokehJS \" + root.Bokeh.version + \" successfully loaded.\";\n      }\n    } else if (Date.now() < root._bokeh_timeout) {\n      setTimeout(display_loaded, 100)\n    }\n  }\n\n\n  function run_callbacks() {\n    try {\n      root._bokeh_onload_callbacks.forEach(function(callback) {\n        if (callback != null)\n          callback();\n      });\n    } finally {\n      delete root._bokeh_onload_callbacks\n    }\n    console.debug(\"Bokeh: all callbacks have finished\");\n  }\n\n  function load_libs(css_urls, js_urls, callback) {\n    if (css_urls == null) css_urls = [];\n    if (js_urls == null) js_urls = [];\n\n    root._bokeh_onload_callbacks.push(callback);\n    if (root._bokeh_is_loading > 0) {\n      console.debug(\"Bokeh: BokehJS is being loaded, scheduling callback at\", now());\n      return null;\n    }\n    if (js_urls == null || js_urls.length === 0) {\n      run_callbacks();\n      return null;\n    }\n    console.debug(\"Bokeh: BokehJS not loaded, scheduling load and callback at\", now());\n    root._bokeh_is_loading = css_urls.length + js_urls.length;\n\n    function on_load() {\n      root._bokeh_is_loading--;\n      if (root._bokeh_is_loading === 0) {\n        console.debug(\"Bokeh: all BokehJS libraries/stylesheets loaded\");\n        run_callbacks()\n      }\n    }\n\n    function on_error() {\n      console.error(\"failed to load \" + url);\n    }\n\n    for (var i = 0; i < css_urls.length; i++) {\n      var url = css_urls[i];\n      const element = document.createElement(\"link\");\n      element.onload = on_load;\n      element.onerror = on_error;\n      element.rel = \"stylesheet\";\n      element.type = \"text/css\";\n      element.href = url;\n      console.debug(\"Bokeh: injecting link tag for BokehJS stylesheet: \", url);\n      document.body.appendChild(element);\n    }\n\n    const hashes = {\"https://cdn.bokeh.org/bokeh/release/bokeh-2.1.1.min.js\": \"kLr4fYcqcSpbuI95brIH3vnnYCquzzSxHPU6XGQCIkQRGJwhg0StNbj1eegrHs12\", \"https://cdn.bokeh.org/bokeh/release/bokeh-widgets-2.1.1.min.js\": \"xIGPmVtaOm+z0BqfSOMn4lOR6ciex448GIKG4eE61LsAvmGj48XcMQZtKcE/UXZe\", \"https://cdn.bokeh.org/bokeh/release/bokeh-tables-2.1.1.min.js\": \"Dc9u1wF/0zApGIWoBbH77iWEHtdmkuYWG839Uzmv8y8yBLXebjO9ZnERsde5Ln/P\", \"https://cdn.bokeh.org/bokeh/release/bokeh-gl-2.1.1.min.js\": \"cT9JaBz7GiRXdENrJLZNSC6eMNF3nh3fa5fTF51Svp+ukxPdwcU5kGXGPBgDCa2j\"};\n\n    for (var i = 0; i < js_urls.length; i++) {\n      var url = js_urls[i];\n      var element = document.createElement('script');\n      element.onload = on_load;\n      element.onerror = on_error;\n      element.async = false;\n      element.src = url;\n      if (url in hashes) {\n        element.crossOrigin = \"anonymous\";\n        element.integrity = \"sha384-\" + hashes[url];\n      }\n      console.debug(\"Bokeh: injecting script tag for BokehJS library: \", url);\n      document.head.appendChild(element);\n    }\n  };\n\n  function inject_raw_css(css) {\n    const element = document.createElement(\"style\");\n    element.appendChild(document.createTextNode(css));\n    document.body.appendChild(element);\n  }\n\n  \n  var js_urls = [\"https://cdn.bokeh.org/bokeh/release/bokeh-2.1.1.min.js\", \"https://cdn.bokeh.org/bokeh/release/bokeh-widgets-2.1.1.min.js\", \"https://cdn.bokeh.org/bokeh/release/bokeh-tables-2.1.1.min.js\", \"https://cdn.bokeh.org/bokeh/release/bokeh-gl-2.1.1.min.js\"];\n  var css_urls = [];\n  \n\n  var inline_js = [\n    function(Bokeh) {\n      Bokeh.set_log_level(\"info\");\n    },\n    function(Bokeh) {\n    \n    \n    }\n  ];\n\n  function run_inline_js() {\n    \n    if (root.Bokeh !== undefined || force === true) {\n      \n    for (var i = 0; i < inline_js.length; i++) {\n      inline_js[i].call(root, root.Bokeh);\n    }\n    } else if (Date.now() < root._bokeh_timeout) {\n      setTimeout(run_inline_js, 100);\n    } else if (!root._bokeh_failed_load) {\n      console.log(\"Bokeh: BokehJS failed to load within specified timeout.\");\n      root._bokeh_failed_load = true;\n    } else if (force !== true) {\n      var cell = $(document.getElementById(null)).parents('.cell').data().cell;\n      cell.output_area.append_execute_result(NB_LOAD_WARNING)\n    }\n\n  }\n\n  if (root._bokeh_is_loading === 0) {\n    console.debug(\"Bokeh: BokehJS loaded, going straight to plotting\");\n    run_inline_js();\n  } else {\n    load_libs(css_urls, js_urls, function() {\n      console.debug(\"Bokeh: BokehJS plotting callback run at\", now());\n      run_inline_js();\n    });\n  }\n}(window));"
          },
          "metadata": {
            "tags": []
          }
        },
        {
          "output_type": "display_data",
          "data": {
            "text/html": [
              "\n",
              "\n",
              "\n",
              "\n",
              "\n",
              "\n",
              "  <div class=\"bk-root\" id=\"573cbb28-3a60-412e-b746-9e0665871620\" data-root-id=\"1086\"></div>\n"
            ]
          },
          "metadata": {
            "tags": []
          }
        },
        {
          "output_type": "display_data",
          "data": {
            "application/javascript": [
              "(function(root) {\n",
              "  function embed_document(root) {\n",
              "    \n",
              "  var docs_json = {\"bb65dc58-4297-4aa3-82a3-89663b3c8527\":{\"roots\":{\"references\":[{\"attributes\":{\"below\":[{\"id\":\"1097\"}],\"center\":[{\"id\":\"1100\"},{\"id\":\"1104\"},{\"id\":\"1120\"}],\"left\":[{\"id\":\"1101\"}],\"renderers\":[{\"id\":\"1118\"}],\"title\":{\"id\":\"1087\"},\"toolbar\":{\"id\":\"1109\"},\"toolbar_location\":\"above\",\"x_range\":{\"id\":\"1089\"},\"x_scale\":{\"id\":\"1093\"},\"y_range\":{\"id\":\"1091\"},\"y_scale\":{\"id\":\"1095\"}},\"id\":\"1086\",\"subtype\":\"Figure\",\"type\":\"Plot\"},{\"attributes\":{},\"id\":\"1130\",\"type\":\"BasicTickFormatter\"},{\"attributes\":{\"active_drag\":\"auto\",\"active_inspect\":\"auto\",\"active_multi\":null,\"active_scroll\":\"auto\",\"active_tap\":\"auto\",\"tools\":[{\"id\":\"1105\"},{\"id\":\"1106\"},{\"id\":\"1107\"},{\"id\":\"1108\"}]},\"id\":\"1109\",\"type\":\"Toolbar\"},{\"attributes\":{},\"id\":\"1091\",\"type\":\"DataRange1d\"},{\"attributes\":{},\"id\":\"1135\",\"type\":\"UnionRenderers\"},{\"attributes\":{\"fill_alpha\":{\"value\":0.1},\"fill_color\":{\"value\":\"#1f77b4\"},\"line_alpha\":{\"value\":0.1},\"line_color\":{\"value\":\"#1f77b4\"},\"size\":{\"units\":\"screen\",\"value\":8},\"x\":{\"field\":\"x1\"},\"y\":{\"field\":\"x2\"}},\"id\":\"1117\",\"type\":\"Scatter\"},{\"attributes\":{\"source\":{\"id\":\"1114\"}},\"id\":\"1119\",\"type\":\"CDSView\"},{\"attributes\":{\"text\":\"word2vec T-SNE (eng model, top1000 words)\"},\"id\":\"1087\",\"type\":\"Title\"},{\"attributes\":{},\"id\":\"1089\",\"type\":\"DataRange1d\"},{\"attributes\":{\"formatter\":{\"id\":\"1130\"},\"ticker\":{\"id\":\"1098\"}},\"id\":\"1097\",\"type\":\"LinearAxis\"},{\"attributes\":{\"axis\":{\"id\":\"1097\"},\"ticker\":null},\"id\":\"1100\",\"type\":\"Grid\"},{\"attributes\":{},\"id\":\"1134\",\"type\":\"Selection\"},{\"attributes\":{},\"id\":\"1098\",\"type\":\"BasicTicker\"},{\"attributes\":{},\"id\":\"1106\",\"type\":\"WheelZoomTool\"},{\"attributes\":{\"fill_color\":{\"value\":\"#1f77b4\"},\"line_color\":{\"value\":\"#1f77b4\"},\"size\":{\"units\":\"screen\",\"value\":8},\"x\":{\"field\":\"x1\"},\"y\":{\"field\":\"x2\"}},\"id\":\"1116\",\"type\":\"Scatter\"},{\"attributes\":{},\"id\":\"1095\",\"type\":\"LinearScale\"},{\"attributes\":{\"data\":{\"names\":[\"the\",\"and\",\"a\",\"of\",\"to\",\"is\",\"it\",\"in\",\"i\",\"this\",\"that\",\"s\",\"was\",\"as\",\"with\",\"for\",\"movie\",\"but\",\"film\",\"you\",\"t\",\"on\",\"not\",\"he\",\"are\",\"his\",\"have\",\"be\",\"one\",\"all\",\"they\",\"at\",\"by\",\"who\",\"an\",\"from\",\"so\",\"like\",\"there\",\"or\",\"her\",\"just\",\"about\",\"out\",\"has\",\"if\",\"what\",\"some\",\"good\",\"can\",\"when\",\"more\",\"very\",\"she\",\"up\",\"no\",\"time\",\"even\",\"would\",\"their\",\"my\",\"which\",\"story\",\"only\",\"really\",\"see\",\"had\",\"were\",\"well\",\"me\",\"we\",\"than\",\"much\",\"bad\",\"been\",\"get\",\"people\",\"great\",\"into\",\"also\",\"do\",\"other\",\"first\",\"will\",\"him\",\"because\",\"most\",\"how\",\"don\",\"them\",\"make\",\"its\",\"made\",\"way\",\"could\",\"then\",\"too\",\"movies\",\"after\",\"any\",\"characters\",\"character\",\"films\",\"two\",\"think\",\"watch\",\"being\",\"plot\",\"many\",\"where\",\"never\",\"love\",\"seen\",\"little\",\"life\",\"acting\",\"best\",\"did\",\"off\",\"know\",\"over\",\"ever\",\"does\",\"show\",\"better\",\"man\",\"your\",\"end\",\"here\",\"scene\",\"while\",\"these\",\"why\",\"still\",\"scenes\",\"something\",\"say\",\"go\",\"m\",\"ve\",\"should\",\"back\",\"such\",\"real\",\"through\",\"those\",\"now\",\"re\",\"doesn\",\"watching\",\"thing\",\"director\",\"funny\",\"though\",\"years\",\"didn\",\"another\",\"actors\",\"new\",\"going\",\"old\",\"makes\",\"nothing\",\"actually\",\"before\",\"work\",\"look\",\"same\",\"find\",\"lot\",\"part\",\"few\",\"every\",\"again\",\"world\",\"action\",\"cast\",\"horror\",\"things\",\"us\",\"quite\",\"want\",\"down\",\"pretty\",\"young\",\"fact\",\"around\",\"seems\",\"enough\",\"both\",\"take\",\"long\",\"however\",\"thought\",\"got\",\"own\",\"give\",\"comedy\",\"between\",\"big\",\"d\",\"must\",\"series\",\"right\",\"may\",\"without\",\"role\",\"guy\",\"original\",\"interesting\",\"whole\",\"come\",\"isn\",\"times\",\"always\",\"saw\",\"least\",\"bit\",\"gets\",\"almost\",\"script\",\"point\",\"last\",\"music\",\"done\",\"minutes\",\"feel\",\"far\",\"since\",\"girl\",\"ll\",\"yet\",\"might\",\"making\",\"performance\",\"away\",\"family\",\"anything\",\"am\",\"probably\",\"hard\",\"woman\",\"tv\",\"kind\",\"fun\",\"rather\",\"day\",\"played\",\"worst\",\"each\",\"found\",\"sure\",\"anyone\",\"especially\",\"trying\",\"having\",\"our\",\"screen\",\"looking\",\"different\",\"believe\",\"sense\",\"place\",\"american\",\"although\",\"ending\",\"goes\",\"worth\",\"course\",\"set\",\"shows\",\"maybe\",\"three\",\"comes\",\"dvd\",\"money\",\"once\",\"everything\",\"plays\",\"effects\",\"put\",\"john\",\"looks\",\"actor\",\"main\",\"together\",\"during\",\"someone\",\"let\",\"wasn\",\"instead\",\"everyone\",\"war\",\"year\",\"reason\",\"takes\",\"special\",\"said\",\"true\",\"high\",\"night\",\"book\",\"seem\",\"job\",\"play\",\"watched\",\"audience\",\"later\",\"wife\",\"black\",\"death\",\"himself\",\"star\",\"half\",\"seeing\",\"used\",\"idea\",\"dead\",\"second\",\"men\",\"left\",\"excellent\",\"simply\",\"shot\",\"else\",\"beautiful\",\"sex\",\"completely\",\"budget\",\"father\",\"women\",\"mind\",\"house\",\"hollywood\",\"poor\",\"less\",\"fan\",\"along\",\"boring\",\"performances\",\"home\",\"line\",\"help\",\"nice\",\"try\",\"couple\",\"top\",\"version\",\"until\",\"either\",\"low\",\"next\",\"camera\",\"use\",\"friends\",\"short\",\"wrong\",\"start\",\"kids\",\"given\",\"mother\",\"read\",\"need\",\"full\",\"enjoy\",\"production\",\"classic\",\"perhaps\",\"school\",\"moments\",\"truly\",\"stupid\",\"keep\",\"awful\",\"getting\",\"rest\",\"video\",\"face\",\"tell\",\"mean\",\"others\",\"itself\",\"understand\",\"boy\",\"terrible\",\"small\",\"name\",\"style\",\"came\",\"won\",\"playing\",\"recommend\",\"doing\",\"lost\",\"person\",\"definitely\",\"gives\",\"dialogue\",\"entertaining\",\"wonderful\",\"often\",\"live\",\"lines\",\"hope\",\"went\",\"stars\",\"case\",\"remember\",\"written\",\"couldn\",\"head\",\"early\",\"title\",\"yes\",\"human\",\"perfect\",\"become\",\"based\",\"friend\",\"children\",\"certainly\",\"liked\",\"problem\",\"drama\",\"son\",\"picture\",\"several\",\"fans\",\"under\",\"lead\",\"laugh\",\"oh\",\"humor\",\"guys\",\"supposed\",\"direction\",\"against\",\"absolutely\",\"overall\",\"sort\",\"piece\",\"episode\",\"finally\",\"game\",\"lives\",\"called\",\"entire\",\"evil\",\"cinema\",\"worse\",\"care\",\"waste\",\"killer\",\"dark\",\"felt\",\"beginning\",\"despite\",\"seemed\",\"genre\",\"final\",\"b\",\"totally\",\"history\",\"wanted\",\"unfortunately\",\"town\",\"throughout\",\"white\",\"city\",\"becomes\",\"able\",\"days\",\"already\",\"turn\",\"guess\",\"run\",\"loved\",\"fine\",\"act\",\"mr\",\"flick\",\"today\",\"horrible\",\"heart\",\"side\",\"hand\",\"kill\",\"tries\",\"wants\",\"starts\",\"quality\",\"killed\",\"past\",\"themselves\",\"child\",\"close\",\"matter\",\"group\",\"sound\",\"turns\",\"daughter\",\"parts\",\"viewer\",\"etc\",\"expect\",\"fight\",\"car\",\"enjoyed\",\"directed\",\"writing\",\"decent\",\"type\",\"violence\",\"stop\",\"example\",\"stuff\",\"self\",\"kid\",\"amazing\",\"behind\",\"soon\",\"blood\",\"favorite\",\"works\",\"known\",\"thinking\",\"gave\",\"obviously\",\"sometimes\",\"hero\",\"eyes\",\"actress\",\"girls\",\"michael\",\"happened\",\"brilliant\",\"stories\",\"except\",\"myself\",\"hour\",\"coming\",\"says\",\"writer\",\"late\",\"husband\",\"extremely\",\"experience\",\"hell\",\"happens\",\"art\",\"heard\",\"police\",\"took\",\"feeling\",\"roles\",\"leave\",\"highly\",\"attempt\",\"taken\",\"interest\",\"wouldn\",\"murder\",\"moment\",\"slow\",\"score\",\"god\",\"including\",\"looked\",\"obvious\",\"involved\",\"living\",\"anyway\",\"robert\",\"david\",\"cool\",\"hours\",\"save\",\"ok\",\"age\",\"voice\",\"o\",\"career\",\"told\",\"across\",\"wonder\",\"none\",\"strong\",\"cut\",\"happen\",\"please\",\"gore\",\"simple\",\"hilarious\",\"brother\",\"important\",\"exactly\",\"power\",\"chance\",\"ago\",\"james\",\"particularly\",\"relationship\",\"documentary\",\"level\",\"complete\",\"light\",\"female\",\"annoying\",\"possible\",\"serious\",\"cannot\",\"hit\",\"crap\",\"sad\",\"running\",\"lack\",\"sequel\",\"talent\",\"usually\",\"whose\",\"basically\",\"reality\",\"ends\",\"seriously\",\"strange\",\"order\",\"finds\",\"call\",\"taking\",\"somewhat\",\"room\",\"happy\",\"silly\",\"scary\",\"middle\",\"turned\",\"alone\",\"apparently\",\"ridiculous\",\"change\",\"clich\",\"country\",\"mostly\",\"attention\",\"miss\",\"four\",\"usual\",\"shown\",\"body\",\"song\",\"wish\",\"jokes\",\"number\",\"opening\",\"released\",\"disappointed\",\"word\",\"jack\",\"thriller\",\"single\",\"opinion\",\"straight\",\"future\",\"english\",\"words\",\"parents\",\"novel\",\"saying\",\"cinematography\",\"yourself\",\"view\",\"cheap\",\"started\",\"french\",\"beyond\",\"huge\",\"talking\",\"non\",\"clearly\",\"sets\",\"talk\",\"major\",\"die\",\"shots\",\"rating\",\"problems\",\"knew\",\"knows\",\"gay\",\"modern\",\"fast\",\"british\",\"due\",\"events\",\"tells\",\"add\",\"bring\",\"comic\",\"clear\",\"ones\",\"above\",\"hate\",\"storyline\",\"york\",\"easy\",\"typical\",\"entertainment\",\"aren\",\"easily\",\"haven\",\"within\",\"local\",\"upon\",\"general\",\"dialog\",\"crime\",\"ten\",\"giving\",\"george\",\"lots\",\"sequence\",\"america\",\"ways\",\"falls\",\"similar\",\"begins\",\"appears\",\"class\",\"near\",\"mystery\",\"named\",\"bunch\",\"filmed\",\"king\",\"elements\",\"romantic\",\"certain\",\"review\",\"team\",\"predictable\",\"working\",\"avoid\",\"stand\",\"de\",\"earth\",\"sorry\",\"th\",\"e\",\"television\",\"mention\",\"enjoyable\",\"supporting\",\"tale\",\"theme\",\"message\",\"points\",\"cop\",\"gone\",\"among\",\"fall\",\"space\",\"tom\",\"viewers\",\"eye\",\"red\",\"truth\",\"leads\",\"surprised\",\"stay\",\"release\",\"kept\",\"minute\",\"richard\",\"five\",\"dull\",\"killing\",\"using\",\"effort\",\"monster\",\"third\",\"brought\",\"musical\",\"feels\",\"suspense\",\"tried\",\"means\",\"whether\",\"comments\",\"sequences\",\"dog\",\"moving\",\"period\",\"peter\",\"lee\",\"needs\",\"doubt\",\"fi\",\"showing\",\"buy\",\"okay\",\"sci\",\"somehow\",\"soundtrack\",\"viewing\",\"rent\",\"herself\",\"nearly\",\"average\",\"songs\",\"theater\",\"episodes\",\"reviews\",\"follow\",\"whatever\",\"surprise\",\"feature\",\"form\",\"move\",\"forget\",\"realistic\",\"believable\",\"free\",\"material\",\"premise\",\"editing\",\"sister\",\"brothers\",\"deep\",\"imagine\",\"gun\",\"forced\",\"famous\",\"poorly\",\"deal\",\"crew\",\"western\",\"indeed\",\"expected\",\"check\",\"possibly\",\"fantastic\",\"lame\",\"society\",\"figure\",\"otherwise\",\"dr\",\"learn\",\"open\",\"paul\",\"eventually\",\"plus\",\"lady\",\"weak\",\"hear\",\"stage\",\"sexual\",\"leaves\",\"question\",\"note\",\"difficult\",\"sit\",\"towards\",\"romance\",\"box\",\"situation\",\"begin\",\"earlier\",\"personal\",\"atmosphere\",\"reading\",\"male\",\"screenplay\",\"wait\",\"decided\",\"joe\",\"battle\",\"interested\",\"powerful\",\"previous\",\"business\",\"greatest\",\"nor\",\"hot\",\"actual\",\"cheesy\",\"became\",\"acted\",\"worked\",\"animation\",\"subject\",\"island\",\"effect\",\"footage\",\"mess\",\"era\",\"oscar\",\"result\",\"meet\",\"rock\",\"credits\",\"features\",\"particular\",\"memorable\",\"whom\",\"boys\",\"air\",\"setting\",\"perfectly\",\"writers\",\"laughs\",\"street\",\"shame\",\"quickly\",\"rich\",\"older\",\"hands\",\"background\",\"keeps\",\"twist\",\"dramatic\",\"bill\",\"total\",\"present\",\"various\",\"appear\",\"pay\",\"telling\",\"directing\",\"william\",\"party\",\"alien\",\"unless\",\"harry\",\"mark\",\"crazy\",\"badly\",\"realize\",\"girlfriend\",\"forward\",\"front\",\"needed\",\"comment\",\"emotional\",\"imdb\",\"development\",\"fighting\",\"secret\",\"break\",\"fairly\",\"unique\",\"c\",\"baby\",\"outside\",\"married\",\"manages\",\"plenty\",\"villain\",\"apart\",\"missing\",\"masterpiece\",\"nature\",\"brings\",\"remake\",\"write\",\"former\",\"superb\",\"weird\",\"doctor\",\"clever\",\"escape\",\"list\",\"incredibly\",\"meets\",\"reasons\",\"hold\",\"created\",\"sounds\",\"sam\",\"inside\",\"unlike\",\"leading\",\"laughing\",\"ideas\",\"japanese\",\"season\",\"prison\",\"directors\",\"copy\",\"cute\",\"public\",\"return\",\"political\",\"violent\",\"success\",\"force\",\"create\",\"caught\",\"admit\",\"meant\",\"water\"],\"x1\":{\"__ndarray__\":\"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\",\"dtype\":\"float32\",\"order\":\"little\",\"shape\":[1000]},\"x2\":{\"__ndarray__\":\"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\",\"dtype\":\"float32\",\"order\":\"little\",\"shape\":[1000]}},\"selected\":{\"id\":\"1134\"},\"selection_policy\":{\"id\":\"1135\"}},\"id\":\"1114\",\"type\":\"ColumnDataSource\"},{\"attributes\":{\"data_source\":{\"id\":\"1114\"},\"glyph\":{\"id\":\"1116\"},\"hover_glyph\":null,\"muted_glyph\":null,\"nonselection_glyph\":{\"id\":\"1117\"},\"selection_glyph\":null,\"view\":{\"id\":\"1119\"}},\"id\":\"1118\",\"type\":\"GlyphRenderer\"},{\"attributes\":{},\"id\":\"1093\",\"type\":\"LinearScale\"},{\"attributes\":{},\"id\":\"1105\",\"type\":\"PanTool\"},{\"attributes\":{},\"id\":\"1132\",\"type\":\"BasicTickFormatter\"},{\"attributes\":{\"source\":{\"id\":\"1114\"},\"text\":{\"field\":\"names\"},\"text_align\":\"center\",\"text_color\":{\"value\":\"#555555\"},\"text_font_size\":{\"value\":\"8pt\"},\"x\":{\"field\":\"x1\"},\"y\":{\"field\":\"x2\"},\"y_offset\":{\"value\":6}},\"id\":\"1120\",\"type\":\"LabelSet\"},{\"attributes\":{},\"id\":\"1102\",\"type\":\"BasicTicker\"},{\"attributes\":{},\"id\":\"1107\",\"type\":\"ResetTool\"},{\"attributes\":{},\"id\":\"1108\",\"type\":\"SaveTool\"},{\"attributes\":{\"axis\":{\"id\":\"1101\"},\"dimension\":1,\"ticker\":null},\"id\":\"1104\",\"type\":\"Grid\"},{\"attributes\":{\"formatter\":{\"id\":\"1132\"},\"ticker\":{\"id\":\"1102\"}},\"id\":\"1101\",\"type\":\"LinearAxis\"}],\"root_ids\":[\"1086\"]},\"title\":\"Bokeh Application\",\"version\":\"2.1.1\"}};\n",
              "  var render_items = [{\"docid\":\"bb65dc58-4297-4aa3-82a3-89663b3c8527\",\"root_ids\":[\"1086\"],\"roots\":{\"1086\":\"573cbb28-3a60-412e-b746-9e0665871620\"}}];\n",
              "  root.Bokeh.embed.embed_items_notebook(docs_json, render_items);\n",
              "\n",
              "  }\n",
              "  if (root.Bokeh !== undefined) {\n",
              "    embed_document(root);\n",
              "  } else {\n",
              "    var attempts = 0;\n",
              "    var timer = setInterval(function(root) {\n",
              "      if (root.Bokeh !== undefined) {\n",
              "        clearInterval(timer);\n",
              "        embed_document(root);\n",
              "      } else {\n",
              "        attempts++;\n",
              "        if (attempts > 100) {\n",
              "          clearInterval(timer);\n",
              "          console.log(\"Bokeh: ERROR: Unable to run BokehJS code because BokehJS library is missing\");\n",
              "        }\n",
              "      }\n",
              "    }, 10, root)\n",
              "  }\n",
              "})(window);"
            ],
            "application/vnd.bokehjs_exec.v0+json": ""
          },
          "metadata": {
            "tags": [],
            "application/vnd.bokehjs_exec.v0+json": {
              "id": "1086"
            }
          }
        }
      ]
    },
    {
      "cell_type": "markdown",
      "metadata": {
        "id": "2Szes63RX-sl"
      },
      "source": [
        "Чтобы вычислить преобразование t-SNE быстрее (и иногда еще и эффективнее), можно сперва снизить размерность исходных данных с помощью, например, SVD, и потом применять t-SNE:"
      ]
    },
    {
      "cell_type": "code",
      "metadata": {
        "id": "p0R7hvIfX-sm"
      },
      "source": [
        "from sklearn.decomposition import TruncatedSVD\n",
        "\n",
        "svd_50 = TruncatedSVD(n_components=50)\n",
        "top_words_vec_50 = svd_50.fit_transform(top_words_vec)\n",
        "top_words_tsne2 = TSNE(n_components=2, random_state=0).fit_transform(top_words_vec_50)"
      ],
      "execution_count": null,
      "outputs": []
    },
    {
      "cell_type": "code",
      "metadata": {
        "id": "zpUJyJibX-sn",
        "colab": {
          "base_uri": "https://localhost:8080/",
          "height": 617
        },
        "outputId": "98a3418f-7787-41dd-9252-f192c3b4c170"
      },
      "source": [
        "output_notebook()\n",
        "\n",
        "p = figure(tools=\"pan,wheel_zoom,reset,save\",\n",
        "           toolbar_location=\"above\",\n",
        "           title=\"word2vec T-SNE (eng model, top1000 words, +SVD)\")\n",
        "\n",
        "source = ColumnDataSource(data=dict(x1=top_words_tsne2[:,0],\n",
        "                                    x2=top_words_tsne2[:,1],\n",
        "                                    names=top_words))\n",
        "\n",
        "p.scatter(x=\"x1\", y=\"x2\", size=8, source=source)\n",
        "\n",
        "labels = LabelSet(x=\"x1\", y=\"x2\", text=\"names\", y_offset=6,\n",
        "                  text_font_size=\"8pt\", text_color=\"#555555\",\n",
        "                  source=source, text_align='center')\n",
        "p.add_layout(labels)\n",
        "\n",
        "show(p)"
      ],
      "execution_count": null,
      "outputs": [
        {
          "output_type": "display_data",
          "data": {
            "application/javascript": [
              "\n",
              "(function(root) {\n",
              "  function now() {\n",
              "    return new Date();\n",
              "  }\n",
              "\n",
              "  var force = true;\n",
              "\n",
              "  if (typeof root._bokeh_onload_callbacks === \"undefined\" || force === true) {\n",
              "    root._bokeh_onload_callbacks = [];\n",
              "    root._bokeh_is_loading = undefined;\n",
              "  }\n",
              "\n",
              "  var JS_MIME_TYPE = 'application/javascript';\n",
              "  var HTML_MIME_TYPE = 'text/html';\n",
              "  var EXEC_MIME_TYPE = 'application/vnd.bokehjs_exec.v0+json';\n",
              "  var CLASS_NAME = 'output_bokeh rendered_html';\n",
              "\n",
              "  /**\n",
              "   * Render data to the DOM node\n",
              "   */\n",
              "  function render(props, node) {\n",
              "    var script = document.createElement(\"script\");\n",
              "    node.appendChild(script);\n",
              "  }\n",
              "\n",
              "  /**\n",
              "   * Handle when an output is cleared or removed\n",
              "   */\n",
              "  function handleClearOutput(event, handle) {\n",
              "    var cell = handle.cell;\n",
              "\n",
              "    var id = cell.output_area._bokeh_element_id;\n",
              "    var server_id = cell.output_area._bokeh_server_id;\n",
              "    // Clean up Bokeh references\n",
              "    if (id != null && id in Bokeh.index) {\n",
              "      Bokeh.index[id].model.document.clear();\n",
              "      delete Bokeh.index[id];\n",
              "    }\n",
              "\n",
              "    if (server_id !== undefined) {\n",
              "      // Clean up Bokeh references\n",
              "      var cmd = \"from bokeh.io.state import curstate; print(curstate().uuid_to_server['\" + server_id + \"'].get_sessions()[0].document.roots[0]._id)\";\n",
              "      cell.notebook.kernel.execute(cmd, {\n",
              "        iopub: {\n",
              "          output: function(msg) {\n",
              "            var id = msg.content.text.trim();\n",
              "            if (id in Bokeh.index) {\n",
              "              Bokeh.index[id].model.document.clear();\n",
              "              delete Bokeh.index[id];\n",
              "            }\n",
              "          }\n",
              "        }\n",
              "      });\n",
              "      // Destroy server and session\n",
              "      var cmd = \"import bokeh.io.notebook as ion; ion.destroy_server('\" + server_id + \"')\";\n",
              "      cell.notebook.kernel.execute(cmd);\n",
              "    }\n",
              "  }\n",
              "\n",
              "  /**\n",
              "   * Handle when a new output is added\n",
              "   */\n",
              "  function handleAddOutput(event, handle) {\n",
              "    var output_area = handle.output_area;\n",
              "    var output = handle.output;\n",
              "\n",
              "    // limit handleAddOutput to display_data with EXEC_MIME_TYPE content only\n",
              "    if ((output.output_type != \"display_data\") || (!output.data.hasOwnProperty(EXEC_MIME_TYPE))) {\n",
              "      return\n",
              "    }\n",
              "\n",
              "    var toinsert = output_area.element.find(\".\" + CLASS_NAME.split(' ')[0]);\n",
              "\n",
              "    if (output.metadata[EXEC_MIME_TYPE][\"id\"] !== undefined) {\n",
              "      toinsert[toinsert.length - 1].firstChild.textContent = output.data[JS_MIME_TYPE];\n",
              "      // store reference to embed id on output_area\n",
              "      output_area._bokeh_element_id = output.metadata[EXEC_MIME_TYPE][\"id\"];\n",
              "    }\n",
              "    if (output.metadata[EXEC_MIME_TYPE][\"server_id\"] !== undefined) {\n",
              "      var bk_div = document.createElement(\"div\");\n",
              "      bk_div.innerHTML = output.data[HTML_MIME_TYPE];\n",
              "      var script_attrs = bk_div.children[0].attributes;\n",
              "      for (var i = 0; i < script_attrs.length; i++) {\n",
              "        toinsert[toinsert.length - 1].firstChild.setAttribute(script_attrs[i].name, script_attrs[i].value);\n",
              "        toinsert[toinsert.length - 1].firstChild.textContent = bk_div.children[0].textContent\n",
              "      }\n",
              "      // store reference to server id on output_area\n",
              "      output_area._bokeh_server_id = output.metadata[EXEC_MIME_TYPE][\"server_id\"];\n",
              "    }\n",
              "  }\n",
              "\n",
              "  function register_renderer(events, OutputArea) {\n",
              "\n",
              "    function append_mime(data, metadata, element) {\n",
              "      // create a DOM node to render to\n",
              "      var toinsert = this.create_output_subarea(\n",
              "        metadata,\n",
              "        CLASS_NAME,\n",
              "        EXEC_MIME_TYPE\n",
              "      );\n",
              "      this.keyboard_manager.register_events(toinsert);\n",
              "      // Render to node\n",
              "      var props = {data: data, metadata: metadata[EXEC_MIME_TYPE]};\n",
              "      render(props, toinsert[toinsert.length - 1]);\n",
              "      element.append(toinsert);\n",
              "      return toinsert\n",
              "    }\n",
              "\n",
              "    /* Handle when an output is cleared or removed */\n",
              "    events.on('clear_output.CodeCell', handleClearOutput);\n",
              "    events.on('delete.Cell', handleClearOutput);\n",
              "\n",
              "    /* Handle when a new output is added */\n",
              "    events.on('output_added.OutputArea', handleAddOutput);\n",
              "\n",
              "    /**\n",
              "     * Register the mime type and append_mime function with output_area\n",
              "     */\n",
              "    OutputArea.prototype.register_mime_type(EXEC_MIME_TYPE, append_mime, {\n",
              "      /* Is output safe? */\n",
              "      safe: true,\n",
              "      /* Index of renderer in `output_area.display_order` */\n",
              "      index: 0\n",
              "    });\n",
              "  }\n",
              "\n",
              "  // register the mime type if in Jupyter Notebook environment and previously unregistered\n",
              "  if (root.Jupyter !== undefined) {\n",
              "    var events = require('base/js/events');\n",
              "    var OutputArea = require('notebook/js/outputarea').OutputArea;\n",
              "\n",
              "    if (OutputArea.prototype.mime_types().indexOf(EXEC_MIME_TYPE) == -1) {\n",
              "      register_renderer(events, OutputArea);\n",
              "    }\n",
              "  }\n",
              "\n",
              "  \n",
              "  if (typeof (root._bokeh_timeout) === \"undefined\" || force === true) {\n",
              "    root._bokeh_timeout = Date.now() + 5000;\n",
              "    root._bokeh_failed_load = false;\n",
              "  }\n",
              "\n",
              "  var NB_LOAD_WARNING = {'data': {'text/html':\n",
              "     \"<div style='background-color: #fdd'>\\n\"+\n",
              "     \"<p>\\n\"+\n",
              "     \"BokehJS does not appear to have successfully loaded. If loading BokehJS from CDN, this \\n\"+\n",
              "     \"may be due to a slow or bad network connection. Possible fixes:\\n\"+\n",
              "     \"</p>\\n\"+\n",
              "     \"<ul>\\n\"+\n",
              "     \"<li>re-rerun `output_notebook()` to attempt to load from CDN again, or</li>\\n\"+\n",
              "     \"<li>use INLINE resources instead, as so:</li>\\n\"+\n",
              "     \"</ul>\\n\"+\n",
              "     \"<code>\\n\"+\n",
              "     \"from bokeh.resources import INLINE\\n\"+\n",
              "     \"output_notebook(resources=INLINE)\\n\"+\n",
              "     \"</code>\\n\"+\n",
              "     \"</div>\"}};\n",
              "\n",
              "  function display_loaded() {\n",
              "    var el = document.getElementById(null);\n",
              "    if (el != null) {\n",
              "      el.textContent = \"BokehJS is loading...\";\n",
              "    }\n",
              "    if (root.Bokeh !== undefined) {\n",
              "      if (el != null) {\n",
              "        el.textContent = \"BokehJS \" + root.Bokeh.version + \" successfully loaded.\";\n",
              "      }\n",
              "    } else if (Date.now() < root._bokeh_timeout) {\n",
              "      setTimeout(display_loaded, 100)\n",
              "    }\n",
              "  }\n",
              "\n",
              "\n",
              "  function run_callbacks() {\n",
              "    try {\n",
              "      root._bokeh_onload_callbacks.forEach(function(callback) {\n",
              "        if (callback != null)\n",
              "          callback();\n",
              "      });\n",
              "    } finally {\n",
              "      delete root._bokeh_onload_callbacks\n",
              "    }\n",
              "    console.debug(\"Bokeh: all callbacks have finished\");\n",
              "  }\n",
              "\n",
              "  function load_libs(css_urls, js_urls, callback) {\n",
              "    if (css_urls == null) css_urls = [];\n",
              "    if (js_urls == null) js_urls = [];\n",
              "\n",
              "    root._bokeh_onload_callbacks.push(callback);\n",
              "    if (root._bokeh_is_loading > 0) {\n",
              "      console.debug(\"Bokeh: BokehJS is being loaded, scheduling callback at\", now());\n",
              "      return null;\n",
              "    }\n",
              "    if (js_urls == null || js_urls.length === 0) {\n",
              "      run_callbacks();\n",
              "      return null;\n",
              "    }\n",
              "    console.debug(\"Bokeh: BokehJS not loaded, scheduling load and callback at\", now());\n",
              "    root._bokeh_is_loading = css_urls.length + js_urls.length;\n",
              "\n",
              "    function on_load() {\n",
              "      root._bokeh_is_loading--;\n",
              "      if (root._bokeh_is_loading === 0) {\n",
              "        console.debug(\"Bokeh: all BokehJS libraries/stylesheets loaded\");\n",
              "        run_callbacks()\n",
              "      }\n",
              "    }\n",
              "\n",
              "    function on_error() {\n",
              "      console.error(\"failed to load \" + url);\n",
              "    }\n",
              "\n",
              "    for (var i = 0; i < css_urls.length; i++) {\n",
              "      var url = css_urls[i];\n",
              "      const element = document.createElement(\"link\");\n",
              "      element.onload = on_load;\n",
              "      element.onerror = on_error;\n",
              "      element.rel = \"stylesheet\";\n",
              "      element.type = \"text/css\";\n",
              "      element.href = url;\n",
              "      console.debug(\"Bokeh: injecting link tag for BokehJS stylesheet: \", url);\n",
              "      document.body.appendChild(element);\n",
              "    }\n",
              "\n",
              "    const hashes = {\"https://cdn.bokeh.org/bokeh/release/bokeh-2.1.1.min.js\": \"kLr4fYcqcSpbuI95brIH3vnnYCquzzSxHPU6XGQCIkQRGJwhg0StNbj1eegrHs12\", \"https://cdn.bokeh.org/bokeh/release/bokeh-widgets-2.1.1.min.js\": \"xIGPmVtaOm+z0BqfSOMn4lOR6ciex448GIKG4eE61LsAvmGj48XcMQZtKcE/UXZe\", \"https://cdn.bokeh.org/bokeh/release/bokeh-tables-2.1.1.min.js\": \"Dc9u1wF/0zApGIWoBbH77iWEHtdmkuYWG839Uzmv8y8yBLXebjO9ZnERsde5Ln/P\", \"https://cdn.bokeh.org/bokeh/release/bokeh-gl-2.1.1.min.js\": \"cT9JaBz7GiRXdENrJLZNSC6eMNF3nh3fa5fTF51Svp+ukxPdwcU5kGXGPBgDCa2j\"};\n",
              "\n",
              "    for (var i = 0; i < js_urls.length; i++) {\n",
              "      var url = js_urls[i];\n",
              "      var element = document.createElement('script');\n",
              "      element.onload = on_load;\n",
              "      element.onerror = on_error;\n",
              "      element.async = false;\n",
              "      element.src = url;\n",
              "      if (url in hashes) {\n",
              "        element.crossOrigin = \"anonymous\";\n",
              "        element.integrity = \"sha384-\" + hashes[url];\n",
              "      }\n",
              "      console.debug(\"Bokeh: injecting script tag for BokehJS library: \", url);\n",
              "      document.head.appendChild(element);\n",
              "    }\n",
              "  };\n",
              "\n",
              "  function inject_raw_css(css) {\n",
              "    const element = document.createElement(\"style\");\n",
              "    element.appendChild(document.createTextNode(css));\n",
              "    document.body.appendChild(element);\n",
              "  }\n",
              "\n",
              "  \n",
              "  var js_urls = [\"https://cdn.bokeh.org/bokeh/release/bokeh-2.1.1.min.js\", \"https://cdn.bokeh.org/bokeh/release/bokeh-widgets-2.1.1.min.js\", \"https://cdn.bokeh.org/bokeh/release/bokeh-tables-2.1.1.min.js\", \"https://cdn.bokeh.org/bokeh/release/bokeh-gl-2.1.1.min.js\"];\n",
              "  var css_urls = [];\n",
              "  \n",
              "\n",
              "  var inline_js = [\n",
              "    function(Bokeh) {\n",
              "      Bokeh.set_log_level(\"info\");\n",
              "    },\n",
              "    function(Bokeh) {\n",
              "    \n",
              "    \n",
              "    }\n",
              "  ];\n",
              "\n",
              "  function run_inline_js() {\n",
              "    \n",
              "    if (root.Bokeh !== undefined || force === true) {\n",
              "      \n",
              "    for (var i = 0; i < inline_js.length; i++) {\n",
              "      inline_js[i].call(root, root.Bokeh);\n",
              "    }\n",
              "    } else if (Date.now() < root._bokeh_timeout) {\n",
              "      setTimeout(run_inline_js, 100);\n",
              "    } else if (!root._bokeh_failed_load) {\n",
              "      console.log(\"Bokeh: BokehJS failed to load within specified timeout.\");\n",
              "      root._bokeh_failed_load = true;\n",
              "    } else if (force !== true) {\n",
              "      var cell = $(document.getElementById(null)).parents('.cell').data().cell;\n",
              "      cell.output_area.append_execute_result(NB_LOAD_WARNING)\n",
              "    }\n",
              "\n",
              "  }\n",
              "\n",
              "  if (root._bokeh_is_loading === 0) {\n",
              "    console.debug(\"Bokeh: BokehJS loaded, going straight to plotting\");\n",
              "    run_inline_js();\n",
              "  } else {\n",
              "    load_libs(css_urls, js_urls, function() {\n",
              "      console.debug(\"Bokeh: BokehJS plotting callback run at\", now());\n",
              "      run_inline_js();\n",
              "    });\n",
              "  }\n",
              "}(window));"
            ],
            "application/vnd.bokehjs_load.v0+json": "\n(function(root) {\n  function now() {\n    return new Date();\n  }\n\n  var force = true;\n\n  if (typeof root._bokeh_onload_callbacks === \"undefined\" || force === true) {\n    root._bokeh_onload_callbacks = [];\n    root._bokeh_is_loading = undefined;\n  }\n\n  \n\n  \n  if (typeof (root._bokeh_timeout) === \"undefined\" || force === true) {\n    root._bokeh_timeout = Date.now() + 5000;\n    root._bokeh_failed_load = false;\n  }\n\n  var NB_LOAD_WARNING = {'data': {'text/html':\n     \"<div style='background-color: #fdd'>\\n\"+\n     \"<p>\\n\"+\n     \"BokehJS does not appear to have successfully loaded. If loading BokehJS from CDN, this \\n\"+\n     \"may be due to a slow or bad network connection. Possible fixes:\\n\"+\n     \"</p>\\n\"+\n     \"<ul>\\n\"+\n     \"<li>re-rerun `output_notebook()` to attempt to load from CDN again, or</li>\\n\"+\n     \"<li>use INLINE resources instead, as so:</li>\\n\"+\n     \"</ul>\\n\"+\n     \"<code>\\n\"+\n     \"from bokeh.resources import INLINE\\n\"+\n     \"output_notebook(resources=INLINE)\\n\"+\n     \"</code>\\n\"+\n     \"</div>\"}};\n\n  function display_loaded() {\n    var el = document.getElementById(null);\n    if (el != null) {\n      el.textContent = \"BokehJS is loading...\";\n    }\n    if (root.Bokeh !== undefined) {\n      if (el != null) {\n        el.textContent = \"BokehJS \" + root.Bokeh.version + \" successfully loaded.\";\n      }\n    } else if (Date.now() < root._bokeh_timeout) {\n      setTimeout(display_loaded, 100)\n    }\n  }\n\n\n  function run_callbacks() {\n    try {\n      root._bokeh_onload_callbacks.forEach(function(callback) {\n        if (callback != null)\n          callback();\n      });\n    } finally {\n      delete root._bokeh_onload_callbacks\n    }\n    console.debug(\"Bokeh: all callbacks have finished\");\n  }\n\n  function load_libs(css_urls, js_urls, callback) {\n    if (css_urls == null) css_urls = [];\n    if (js_urls == null) js_urls = [];\n\n    root._bokeh_onload_callbacks.push(callback);\n    if (root._bokeh_is_loading > 0) {\n      console.debug(\"Bokeh: BokehJS is being loaded, scheduling callback at\", now());\n      return null;\n    }\n    if (js_urls == null || js_urls.length === 0) {\n      run_callbacks();\n      return null;\n    }\n    console.debug(\"Bokeh: BokehJS not loaded, scheduling load and callback at\", now());\n    root._bokeh_is_loading = css_urls.length + js_urls.length;\n\n    function on_load() {\n      root._bokeh_is_loading--;\n      if (root._bokeh_is_loading === 0) {\n        console.debug(\"Bokeh: all BokehJS libraries/stylesheets loaded\");\n        run_callbacks()\n      }\n    }\n\n    function on_error() {\n      console.error(\"failed to load \" + url);\n    }\n\n    for (var i = 0; i < css_urls.length; i++) {\n      var url = css_urls[i];\n      const element = document.createElement(\"link\");\n      element.onload = on_load;\n      element.onerror = on_error;\n      element.rel = \"stylesheet\";\n      element.type = \"text/css\";\n      element.href = url;\n      console.debug(\"Bokeh: injecting link tag for BokehJS stylesheet: \", url);\n      document.body.appendChild(element);\n    }\n\n    const hashes = {\"https://cdn.bokeh.org/bokeh/release/bokeh-2.1.1.min.js\": \"kLr4fYcqcSpbuI95brIH3vnnYCquzzSxHPU6XGQCIkQRGJwhg0StNbj1eegrHs12\", \"https://cdn.bokeh.org/bokeh/release/bokeh-widgets-2.1.1.min.js\": \"xIGPmVtaOm+z0BqfSOMn4lOR6ciex448GIKG4eE61LsAvmGj48XcMQZtKcE/UXZe\", \"https://cdn.bokeh.org/bokeh/release/bokeh-tables-2.1.1.min.js\": \"Dc9u1wF/0zApGIWoBbH77iWEHtdmkuYWG839Uzmv8y8yBLXebjO9ZnERsde5Ln/P\", \"https://cdn.bokeh.org/bokeh/release/bokeh-gl-2.1.1.min.js\": \"cT9JaBz7GiRXdENrJLZNSC6eMNF3nh3fa5fTF51Svp+ukxPdwcU5kGXGPBgDCa2j\"};\n\n    for (var i = 0; i < js_urls.length; i++) {\n      var url = js_urls[i];\n      var element = document.createElement('script');\n      element.onload = on_load;\n      element.onerror = on_error;\n      element.async = false;\n      element.src = url;\n      if (url in hashes) {\n        element.crossOrigin = \"anonymous\";\n        element.integrity = \"sha384-\" + hashes[url];\n      }\n      console.debug(\"Bokeh: injecting script tag for BokehJS library: \", url);\n      document.head.appendChild(element);\n    }\n  };\n\n  function inject_raw_css(css) {\n    const element = document.createElement(\"style\");\n    element.appendChild(document.createTextNode(css));\n    document.body.appendChild(element);\n  }\n\n  \n  var js_urls = [\"https://cdn.bokeh.org/bokeh/release/bokeh-2.1.1.min.js\", \"https://cdn.bokeh.org/bokeh/release/bokeh-widgets-2.1.1.min.js\", \"https://cdn.bokeh.org/bokeh/release/bokeh-tables-2.1.1.min.js\", \"https://cdn.bokeh.org/bokeh/release/bokeh-gl-2.1.1.min.js\"];\n  var css_urls = [];\n  \n\n  var inline_js = [\n    function(Bokeh) {\n      Bokeh.set_log_level(\"info\");\n    },\n    function(Bokeh) {\n    \n    \n    }\n  ];\n\n  function run_inline_js() {\n    \n    if (root.Bokeh !== undefined || force === true) {\n      \n    for (var i = 0; i < inline_js.length; i++) {\n      inline_js[i].call(root, root.Bokeh);\n    }\n    } else if (Date.now() < root._bokeh_timeout) {\n      setTimeout(run_inline_js, 100);\n    } else if (!root._bokeh_failed_load) {\n      console.log(\"Bokeh: BokehJS failed to load within specified timeout.\");\n      root._bokeh_failed_load = true;\n    } else if (force !== true) {\n      var cell = $(document.getElementById(null)).parents('.cell').data().cell;\n      cell.output_area.append_execute_result(NB_LOAD_WARNING)\n    }\n\n  }\n\n  if (root._bokeh_is_loading === 0) {\n    console.debug(\"Bokeh: BokehJS loaded, going straight to plotting\");\n    run_inline_js();\n  } else {\n    load_libs(css_urls, js_urls, function() {\n      console.debug(\"Bokeh: BokehJS plotting callback run at\", now());\n      run_inline_js();\n    });\n  }\n}(window));"
          },
          "metadata": {
            "tags": []
          }
        },
        {
          "output_type": "display_data",
          "data": {
            "text/html": [
              "\n",
              "\n",
              "\n",
              "\n",
              "\n",
              "\n",
              "  <div class=\"bk-root\" id=\"d35fd12d-ebb1-45df-a10b-788d55c5479b\" data-root-id=\"1086\"></div>\n"
            ]
          },
          "metadata": {
            "tags": []
          }
        },
        {
          "output_type": "display_data",
          "data": {
            "application/javascript": [
              "(function(root) {\n",
              "  function embed_document(root) {\n",
              "    \n",
              "  var docs_json = {\"8db19a8d-aa14-4a7c-8d1d-98dd9e20f99f\":{\"roots\":{\"references\":[{\"attributes\":{\"below\":[{\"id\":\"1097\"}],\"center\":[{\"id\":\"1100\"},{\"id\":\"1104\"},{\"id\":\"1120\"}],\"left\":[{\"id\":\"1101\"}],\"renderers\":[{\"id\":\"1118\"}],\"title\":{\"id\":\"1087\"},\"toolbar\":{\"id\":\"1109\"},\"toolbar_location\":\"above\",\"x_range\":{\"id\":\"1089\"},\"x_scale\":{\"id\":\"1093\"},\"y_range\":{\"id\":\"1091\"},\"y_scale\":{\"id\":\"1095\"}},\"id\":\"1086\",\"subtype\":\"Figure\",\"type\":\"Plot\"},{\"attributes\":{\"data_source\":{\"id\":\"1114\"},\"glyph\":{\"id\":\"1116\"},\"hover_glyph\":null,\"muted_glyph\":null,\"nonselection_glyph\":{\"id\":\"1117\"},\"selection_glyph\":null,\"view\":{\"id\":\"1119\"}},\"id\":\"1118\",\"type\":\"GlyphRenderer\"},{\"attributes\":{},\"id\":\"1105\",\"type\":\"PanTool\"},{\"attributes\":{},\"id\":\"1106\",\"type\":\"WheelZoomTool\"},{\"attributes\":{},\"id\":\"1107\",\"type\":\"ResetTool\"},{\"attributes\":{\"data\":{\"names\":[\"the\",\"and\",\"a\",\"of\",\"to\",\"is\",\"it\",\"in\",\"i\",\"this\",\"that\",\"s\",\"was\",\"as\",\"with\",\"for\",\"movie\",\"but\",\"film\",\"you\",\"t\",\"on\",\"not\",\"he\",\"are\",\"his\",\"have\",\"be\",\"one\",\"all\",\"they\",\"at\",\"by\",\"who\",\"an\",\"from\",\"so\",\"like\",\"there\",\"or\",\"her\",\"just\",\"about\",\"out\",\"has\",\"if\",\"what\",\"some\",\"good\",\"can\",\"when\",\"more\",\"very\",\"she\",\"up\",\"no\",\"time\",\"even\",\"would\",\"their\",\"my\",\"which\",\"story\",\"only\",\"really\",\"see\",\"had\",\"were\",\"well\",\"me\",\"we\",\"than\",\"much\",\"bad\",\"been\",\"get\",\"people\",\"great\",\"into\",\"also\",\"do\",\"other\",\"first\",\"will\",\"him\",\"because\",\"most\",\"how\",\"don\",\"them\",\"make\",\"its\",\"made\",\"way\",\"could\",\"then\",\"too\",\"movies\",\"after\",\"any\",\"characters\",\"character\",\"films\",\"two\",\"think\",\"watch\",\"being\",\"plot\",\"many\",\"where\",\"never\",\"love\",\"seen\",\"little\",\"life\",\"acting\",\"best\",\"did\",\"off\",\"know\",\"over\",\"ever\",\"does\",\"show\",\"better\",\"man\",\"your\",\"end\",\"here\",\"scene\",\"while\",\"these\",\"why\",\"still\",\"scenes\",\"something\",\"say\",\"go\",\"m\",\"ve\",\"should\",\"back\",\"such\",\"real\",\"through\",\"those\",\"now\",\"re\",\"doesn\",\"watching\",\"thing\",\"director\",\"funny\",\"though\",\"years\",\"didn\",\"another\",\"actors\",\"new\",\"going\",\"old\",\"makes\",\"nothing\",\"actually\",\"before\",\"work\",\"look\",\"same\",\"find\",\"lot\",\"part\",\"few\",\"every\",\"again\",\"world\",\"action\",\"cast\",\"horror\",\"things\",\"us\",\"quite\",\"want\",\"down\",\"pretty\",\"young\",\"fact\",\"around\",\"seems\",\"enough\",\"both\",\"take\",\"long\",\"however\",\"thought\",\"got\",\"own\",\"give\",\"comedy\",\"between\",\"big\",\"d\",\"must\",\"series\",\"right\",\"may\",\"without\",\"role\",\"guy\",\"original\",\"interesting\",\"whole\",\"come\",\"isn\",\"times\",\"always\",\"saw\",\"least\",\"bit\",\"gets\",\"almost\",\"script\",\"point\",\"last\",\"music\",\"done\",\"minutes\",\"feel\",\"far\",\"since\",\"girl\",\"ll\",\"yet\",\"might\",\"making\",\"performance\",\"away\",\"family\",\"anything\",\"am\",\"probably\",\"hard\",\"woman\",\"tv\",\"kind\",\"fun\",\"rather\",\"day\",\"played\",\"worst\",\"each\",\"found\",\"sure\",\"anyone\",\"especially\",\"trying\",\"having\",\"our\",\"screen\",\"looking\",\"different\",\"believe\",\"sense\",\"place\",\"american\",\"although\",\"ending\",\"goes\",\"worth\",\"course\",\"set\",\"shows\",\"maybe\",\"three\",\"comes\",\"dvd\",\"money\",\"once\",\"everything\",\"plays\",\"effects\",\"put\",\"john\",\"looks\",\"actor\",\"main\",\"together\",\"during\",\"someone\",\"let\",\"wasn\",\"instead\",\"everyone\",\"war\",\"year\",\"reason\",\"takes\",\"special\",\"said\",\"true\",\"high\",\"night\",\"book\",\"seem\",\"job\",\"play\",\"watched\",\"audience\",\"later\",\"wife\",\"black\",\"death\",\"himself\",\"star\",\"half\",\"seeing\",\"used\",\"idea\",\"dead\",\"second\",\"men\",\"left\",\"excellent\",\"simply\",\"shot\",\"else\",\"beautiful\",\"sex\",\"completely\",\"budget\",\"father\",\"women\",\"mind\",\"house\",\"hollywood\",\"poor\",\"less\",\"fan\",\"along\",\"boring\",\"performances\",\"home\",\"line\",\"help\",\"nice\",\"try\",\"couple\",\"top\",\"version\",\"until\",\"either\",\"low\",\"next\",\"camera\",\"use\",\"friends\",\"short\",\"wrong\",\"start\",\"kids\",\"given\",\"mother\",\"read\",\"need\",\"full\",\"enjoy\",\"production\",\"classic\",\"perhaps\",\"school\",\"moments\",\"truly\",\"stupid\",\"keep\",\"awful\",\"getting\",\"rest\",\"video\",\"face\",\"tell\",\"mean\",\"others\",\"itself\",\"understand\",\"boy\",\"terrible\",\"small\",\"name\",\"style\",\"came\",\"won\",\"playing\",\"recommend\",\"doing\",\"lost\",\"person\",\"definitely\",\"gives\",\"dialogue\",\"entertaining\",\"wonderful\",\"often\",\"live\",\"lines\",\"hope\",\"went\",\"stars\",\"case\",\"remember\",\"written\",\"couldn\",\"head\",\"early\",\"title\",\"yes\",\"human\",\"perfect\",\"become\",\"based\",\"friend\",\"children\",\"certainly\",\"liked\",\"problem\",\"drama\",\"son\",\"picture\",\"several\",\"fans\",\"under\",\"lead\",\"laugh\",\"oh\",\"humor\",\"guys\",\"supposed\",\"direction\",\"against\",\"absolutely\",\"overall\",\"sort\",\"piece\",\"episode\",\"finally\",\"game\",\"lives\",\"called\",\"entire\",\"evil\",\"cinema\",\"worse\",\"care\",\"waste\",\"killer\",\"dark\",\"felt\",\"beginning\",\"despite\",\"seemed\",\"genre\",\"final\",\"b\",\"totally\",\"history\",\"wanted\",\"unfortunately\",\"town\",\"throughout\",\"white\",\"city\",\"becomes\",\"able\",\"days\",\"already\",\"turn\",\"guess\",\"run\",\"loved\",\"fine\",\"act\",\"mr\",\"flick\",\"today\",\"horrible\",\"heart\",\"side\",\"hand\",\"kill\",\"tries\",\"wants\",\"starts\",\"quality\",\"killed\",\"past\",\"themselves\",\"child\",\"close\",\"matter\",\"group\",\"sound\",\"turns\",\"daughter\",\"parts\",\"viewer\",\"etc\",\"expect\",\"fight\",\"car\",\"enjoyed\",\"directed\",\"writing\",\"decent\",\"type\",\"violence\",\"stop\",\"example\",\"stuff\",\"self\",\"kid\",\"amazing\",\"behind\",\"soon\",\"blood\",\"favorite\",\"works\",\"known\",\"thinking\",\"gave\",\"obviously\",\"sometimes\",\"hero\",\"eyes\",\"actress\",\"girls\",\"michael\",\"happened\",\"brilliant\",\"stories\",\"except\",\"myself\",\"hour\",\"coming\",\"says\",\"writer\",\"late\",\"husband\",\"extremely\",\"experience\",\"hell\",\"happens\",\"art\",\"heard\",\"police\",\"took\",\"feeling\",\"roles\",\"leave\",\"highly\",\"attempt\",\"taken\",\"interest\",\"wouldn\",\"murder\",\"moment\",\"slow\",\"score\",\"god\",\"including\",\"looked\",\"obvious\",\"involved\",\"living\",\"anyway\",\"robert\",\"david\",\"cool\",\"hours\",\"save\",\"ok\",\"age\",\"voice\",\"o\",\"career\",\"told\",\"across\",\"wonder\",\"none\",\"strong\",\"cut\",\"happen\",\"please\",\"gore\",\"simple\",\"hilarious\",\"brother\",\"important\",\"exactly\",\"power\",\"chance\",\"ago\",\"james\",\"particularly\",\"relationship\",\"documentary\",\"level\",\"complete\",\"light\",\"female\",\"annoying\",\"possible\",\"serious\",\"cannot\",\"hit\",\"crap\",\"sad\",\"running\",\"lack\",\"sequel\",\"talent\",\"usually\",\"whose\",\"basically\",\"reality\",\"ends\",\"seriously\",\"strange\",\"order\",\"finds\",\"call\",\"taking\",\"somewhat\",\"room\",\"happy\",\"silly\",\"scary\",\"middle\",\"turned\",\"alone\",\"apparently\",\"ridiculous\",\"change\",\"clich\",\"country\",\"mostly\",\"attention\",\"miss\",\"four\",\"usual\",\"shown\",\"body\",\"song\",\"wish\",\"jokes\",\"number\",\"opening\",\"released\",\"disappointed\",\"word\",\"jack\",\"thriller\",\"single\",\"opinion\",\"straight\",\"future\",\"english\",\"words\",\"parents\",\"novel\",\"saying\",\"cinematography\",\"yourself\",\"view\",\"cheap\",\"started\",\"french\",\"beyond\",\"huge\",\"talking\",\"non\",\"clearly\",\"sets\",\"talk\",\"major\",\"die\",\"shots\",\"rating\",\"problems\",\"knew\",\"knows\",\"gay\",\"modern\",\"fast\",\"british\",\"due\",\"events\",\"tells\",\"add\",\"bring\",\"comic\",\"clear\",\"ones\",\"above\",\"hate\",\"storyline\",\"york\",\"easy\",\"typical\",\"entertainment\",\"aren\",\"easily\",\"haven\",\"within\",\"local\",\"upon\",\"general\",\"dialog\",\"crime\",\"ten\",\"giving\",\"george\",\"lots\",\"sequence\",\"america\",\"ways\",\"falls\",\"similar\",\"begins\",\"appears\",\"class\",\"near\",\"mystery\",\"named\",\"bunch\",\"filmed\",\"king\",\"elements\",\"romantic\",\"certain\",\"review\",\"team\",\"predictable\",\"working\",\"avoid\",\"stand\",\"de\",\"earth\",\"sorry\",\"th\",\"e\",\"television\",\"mention\",\"enjoyable\",\"supporting\",\"tale\",\"theme\",\"message\",\"points\",\"cop\",\"gone\",\"among\",\"fall\",\"space\",\"tom\",\"viewers\",\"eye\",\"red\",\"truth\",\"leads\",\"surprised\",\"stay\",\"release\",\"kept\",\"minute\",\"richard\",\"five\",\"dull\",\"killing\",\"using\",\"effort\",\"monster\",\"third\",\"brought\",\"musical\",\"feels\",\"suspense\",\"tried\",\"means\",\"whether\",\"comments\",\"sequences\",\"dog\",\"moving\",\"period\",\"peter\",\"lee\",\"needs\",\"doubt\",\"fi\",\"showing\",\"buy\",\"okay\",\"sci\",\"somehow\",\"soundtrack\",\"viewing\",\"rent\",\"herself\",\"nearly\",\"average\",\"songs\",\"theater\",\"episodes\",\"reviews\",\"follow\",\"whatever\",\"surprise\",\"feature\",\"form\",\"move\",\"forget\",\"realistic\",\"believable\",\"free\",\"material\",\"premise\",\"editing\",\"sister\",\"brothers\",\"deep\",\"imagine\",\"gun\",\"forced\",\"famous\",\"poorly\",\"deal\",\"crew\",\"western\",\"indeed\",\"expected\",\"check\",\"possibly\",\"fantastic\",\"lame\",\"society\",\"figure\",\"otherwise\",\"dr\",\"learn\",\"open\",\"paul\",\"eventually\",\"plus\",\"lady\",\"weak\",\"hear\",\"stage\",\"sexual\",\"leaves\",\"question\",\"note\",\"difficult\",\"sit\",\"towards\",\"romance\",\"box\",\"situation\",\"begin\",\"earlier\",\"personal\",\"atmosphere\",\"reading\",\"male\",\"screenplay\",\"wait\",\"decided\",\"joe\",\"battle\",\"interested\",\"powerful\",\"previous\",\"business\",\"greatest\",\"nor\",\"hot\",\"actual\",\"cheesy\",\"became\",\"acted\",\"worked\",\"animation\",\"subject\",\"island\",\"effect\",\"footage\",\"mess\",\"era\",\"oscar\",\"result\",\"meet\",\"rock\",\"credits\",\"features\",\"particular\",\"memorable\",\"whom\",\"boys\",\"air\",\"setting\",\"perfectly\",\"writers\",\"laughs\",\"street\",\"shame\",\"quickly\",\"rich\",\"older\",\"hands\",\"background\",\"keeps\",\"twist\",\"dramatic\",\"bill\",\"total\",\"present\",\"various\",\"appear\",\"pay\",\"telling\",\"directing\",\"william\",\"party\",\"alien\",\"unless\",\"harry\",\"mark\",\"crazy\",\"badly\",\"realize\",\"girlfriend\",\"forward\",\"front\",\"needed\",\"comment\",\"emotional\",\"imdb\",\"development\",\"fighting\",\"secret\",\"break\",\"fairly\",\"unique\",\"c\",\"baby\",\"outside\",\"married\",\"manages\",\"plenty\",\"villain\",\"apart\",\"missing\",\"masterpiece\",\"nature\",\"brings\",\"remake\",\"write\",\"former\",\"superb\",\"weird\",\"doctor\",\"clever\",\"escape\",\"list\",\"incredibly\",\"meets\",\"reasons\",\"hold\",\"created\",\"sounds\",\"sam\",\"inside\",\"unlike\",\"leading\",\"laughing\",\"ideas\",\"japanese\",\"season\",\"prison\",\"directors\",\"copy\",\"cute\",\"public\",\"return\",\"political\",\"violent\",\"success\",\"force\",\"create\",\"caught\",\"admit\",\"meant\",\"water\"],\"x1\":{\"__ndarray__\":\"Lr8EwY+WTsDViWvB65R7wHYmx0B9DCxCx/aWwLG6lcCSQztBrYG3wLBfPL9ldylCjTcRQnzudcBHMJXABf8VQFQqMD/BVoo/NbNsP9soFkHUyT/AqNfnwMj4gsAbABLBl6MaQmslKMHh6PBBpoKoQcBF+sDwEObA1nsGQfvqscCYIJ3A102ZwW2geME0FKrAN+MCwAxsukA3bqpAd6NWQCofK8FeLEDAK6boQFswF8FFqSRC8eGYPxBNCMAYZgXCC2/Fwe1vU0LJO9y+TzIowSD0CsFZLR3B7YshwY/Nx8D6h1LBBOFpwCuuQ0I/3OhAWeVDQbpEnL62GyLAzmalwNHCVMAEQN5Bz2gTQj35GEJMZZ/BaKo+QXZn8UDEuhJA9cKVwSp46sGerNNBpszLQWBMGEHwcwvCbafzwMM94sFMPpRBLdruwVxlksHCg0tCSQUVwfvRID/248/BRg6tv/tRXUKjEQpBvNrIQW+xNsHRIrlBIKfPvzZPQ0JF0O4/NtDowEIEBcGaNae/fxu+wKMSWsGQLrfBmbICweEmFcKqYu1BCeDaQbQbg0HtFtO/Jx8CwghEer+tsa+/MzC4QU954kGWvHHBzzxbQKaJV0DnE8XB/VA9QtXODcFaw95BIMDNwOj6BkGHMy9CpNiHwYujPcFNcd/A6HwHQYpAFMFAOFPArjENwUsTUsBE2vfB/3znvRbe1cB4xknBffpwwMzg9UHTKudBj4MNQiuQ8UH90kdCuRoFwRCd5cEAVh3Bpr3bwMZV+MFl2jVA4gEbQvHaXkIuubtB3hb7PsXvDEHkOMDBvsTsP0LMycD1B1xCuDp7wYk52MF5cbm/FYk5QoZZecFYMiFCyUeOwBXajMDr/om/X+mjQDCtgcEAZYHBF77CQa/JCMLe0QzAD78Mwo00gsGjp+E/oYVfQNJg6MBfetHB9v/OwAmfG8FmRuZAnC8KwUB6JkLDRAnByuUAwdt5i8FBuMy+tPAAwSghN0I8+M3AH/nywec70UHy8I/BEj7KP6s/BEIyiw1CI7dtwLOHzkGn4SfBMlSNwCoNm8EOJkVC7/JJQkFAiMG1rCFBg95HQkSTGD8Msr/B+3e0wH8B4ECF4KPBMq2VwQd350H6VWNC0zpOwRs15MFaOf1B2S81wS4kb8H2rCJCBTeWQLbdMUDjhwLBRf6QwTVCxEBuNcZBUUxywZMtyUFsfpnBqy4DQDCa/8CbW01COV9jQBLwRUKTirZBG9DCwct9GMFkHxPBKb+LwPmUDUK8sEtBNsZbQUUWCMG2A3TB2R+3wbNLsMER6CbBFXSUwB2UvcENQMjB3WxfwW/aAkLRPZFBSXMbQXv86MGYRjRCyMWCQdI8xUD5z9bAGKaAwQ2P7cHlq+lBwzTdwA7cV7/+tZ2/wR0TQDQ+McDVxChCdfdVQE3rvcF0hTxB3dmYQY9iWUFY2xbC398pQgOEbkGKIEJBwvRjP3UuYMDpnb3Bac/YQOEH20E7Z/bBkCk+QtxUxMGz4pfBxQwrwfXvNcCGbRNBZ/RzQVMVYkLyFxTBNZ4eQdr0Lb94hL3AEviHwI++I0L+lq7BM9KfQfjGHcHzX6vBxT1+wM/i1kBiGwdCipK2wUg3lkEM6fdBslOTQcW/g8H8QFPBghREwcfklkCLChnBEW3ewcKrd8ElpLxBkMG0QXtJv79YzlpAeqCYwXrXWsG72/lBLyETwuYVAkDHu1xBxgzpQNbAB8KotoTBuxU2QE2pUUAb4jfBOBZhwU1AGj74xgvApDeAwJpf+8GE8ibBp1xRQRd0FsGK3eTBcybOwROTLsDzI43BCUXVQcSfzsHsGStCk48QwlNGvsHO4ZlA6UOyvj9YXL7p1qzBRf+FwQ67HUHTTLpB7OU5wRdljsEMbB1BZ675QW/IQsESfeZB8NgvwTl72EGvKyZCA2wKwk2l6kFsRW5A6FSHwOW1RUEGEs/A74JawcsJo0AbHOvBtvPcQQHH8MEzLIpB4TunwWMsbUHfTA3BTxThQay99kFdvyVBzkY3wQQP5EF+8OPAMXv0wbR6oMFPNJpALVv6QGfsCUJ9vlpCGoO8wUbr60HBU5ZBDSIHvk1iy8BVuilB6jMdQkt25z+U4KjB0NMLwme09cHkxMdBU5SGwS5n7UFvfgpC0TbfwUjh+zy3QOJBjGquQTibWEImbxLBuBGhwUV3nECh+mhBF2nDQAeWDMLkraVB98aTQWoIT8GoKD7BgyEoQSymAUKKCSq/qrUIwVkQPsFgkoE/6doKwl6qUUEh5ZPAWSa3wUBQocGcXFxBOfYtwZwwRsGCpDxCNaqQQO1Bf8D1UI5Ame4UQQPctsGtWDq/ZCCMwdE30j+NyZPBdm9MQBCxikFfnJbBQ10WQPxFRMAFtEHBr5DUQSD0y0CMxjhALN9UwSjsC0Kj7RbBD3ouQYZzOkJm2snAwPeXwVGquMGaHDlAti7zv2l0M0LJdd8/GuiOPmS6E8CkA0TBq92rPnQUIkLaWjZCFDHKwC7nwb7zobtBVofuQdfht0Gz9P9BkA4QwoEbmkEfePnBHqGpwIPqhsBKS/bB7t/kwJxJMsGMPy7B/4zeQcEhNUK/8jZC2VgoQgruk0BKR+RArlPCP+YhAEEpaRjBQCkDwVJNE0HIfwdBC9bbQLjZLULHUEDBU8pIwbamlEGYxtjAyhX+QeKxLsDgLBjAjMIAQmpBqkFBkX5AGcvDwY1Hu8ETf4LBocXgQaJx6L+DzwDBhQCxQJ+Ax8Cecg/CmTFrQZm29D8mhkQ/oBrJwR8DLULvAc9Br22eQe6TEUL/wBrCxPP0wR1iMMDgXQjBI7zHwRlnTsGNRvvBCLwmQvz4EcIIj0PBkU3KQD8oS0F7aHTBFo/6QbtcGUK4lg9BeimhwYe3TMHN7hfB2wv5QMGaM0GpFChC0ogLwNOz5EESZYdAqt4QQqEPx0Ed39HBIWHWQchxMMHWhK5ATOriQffydz946lpCjT6WQEYYF8FtxN3BZPSfQCimSkHTHtbBOBhAQhJuLUExqhnBD667wFKyXEFphfLBEL70wdSp0MF10GrBOGLZQWMQbkH4tuLA/Jmowcx78sG/3yNBhgQNQoGOBsE5BOJBN9nHwbGtCsLjGt9BQYGuQQFebEHZJdHAhglKwZvfwMFVlkDBKTRAQXwbHkFnhe9A6xFPQVlzdcFcH/nBsIXpwRLtV8GM6ezBmMmnQIQIhcFgak7BeaKWwU3p78Hk3hxB+EK2wWdRTkI47EfBfDrWQGKTHMHOMrFB1Yh5wQewcEAgsBNBHEzkwTxMo8HVAQJBlhOZQE38JkIu9p/BHrLWwU0ycEGECh5COCvsQfcn9EHw3SbBbPL8vys/G8FPvN/B/vHKwTePAr+d+QdC362mQJsBHsIhbuvBzZO0QSyI1cEJm+g/FyzdwQffhT9gmNBBOLsYwjFSzMG1XqFBZLWwv5JSokDbOu5BOrJ+wXLmDsItLJrB1D1XQQhxEEK6LZfBiLjnwS/v3sB8pYTB/ccUP5tKIcGLTVJA4KKCvlr0lcE4bTbBsiPYQHF+mkH4wKNA4RQRQVsp2UA3dNrBBawJQjtVEb/JGNS+j5uZwVIeg0G6yIfB5GEZwp2rNEHjA4VBfJSZwW4H4kGrZi1BzbCVQdPTvb9WvgVCmpMcQhP1i8EGWG3AhbjcwfShbL/NhS9B7zhOwXsEEkKPPMZB9q/PQcXUO8G1Ay9BZ98awfSs1r/yo7xB1GTBvzQICb5MAWFBec7BwcpwHsG5UGZC1jwqQf7oZkJ6BTPAhHt7wKnRysDDY/U98DnfP1c2lECouh3CgVjqQd0G58H5wgjC+K4Kwce3uT95xCPBxJEjQtD06cFykSlCQ/UzQtTz2cBBusHAfRPMwLjkwMHp2glBbKxeQW0j4MEFSTjBbNkSwcDM58EU56FBOhr7wbbU3sGTPtPA8prhQYPytkGXqv/BEZ+iQCe5fEFNKaPBWOXywQHWc8GbtAFC29OnwWcfz8GIM37Ab11twCHeecDWvULBlVBDwOtb1UFsBNjBH1K2QYzEoUA3G+7BuOaNQROFHsFAp9g+elqFwOHHMEIbRRBCi6jUQc7aVkGAJQlCJnZ/wQvQ7sE+FBzCWY3jwYG+6EDd27RBgupIQOTQKED7VpvBvwABQnXWvUB4aThCpUPhwEMyMUL+nxJB/DqFvddIpUHC1UfB/THQwHIpZMG1IRTAwf/mwUHyAMKgOThCvmwHQR1lBMFefplBeCTUQVUfcEGUuvvACk5EwK8xsEAuK7ZBDZ3VQSFVK8EEN5ZAQoO/wetFkUBoTVXA3biCwXcfpEFjw8RBrBG6v0fnWcDtaFfB4+m4QL01x0HYhdhBGrkEwpSNCMLt1KxA02+FQD+mzL+k46tAUIc6we3sbMGj8UrBPcXsQTCMKMCUsTJCIifDwSARB8LXiDxBqTr7weAVHMB48LxApogKQglx50FvRC1B9jMPwp4T5sGwfEpAij25QTeMCcG4f9fBoEDRQSFM20Ae8+zByecGQJ6ozsGjKwnBPq73wQWq0UGqx9jA9GGEwX9rHEJ/WBZBFkmuQe5/VkEzUO1BDjdbwREED8HglH5B7s+dQB8S/UEyl4rB4zpLwHiJCkHEP85B+pKUwdNEOkCZpfZBnW4xQmpH48Fv9fa/KA9CQSODBsKZlI7Be3j2wFjVxMENxWBAWj7GwU1Wa8FkBt3BUdoWQi+FrUE57c9BoBbZQFoNcMALqIs/EP0JQVoXNkGk0QS+MjkgwD/D08Ew2vlAl98RQj1FvEBUKOHAj7rMwb6tisE56hTC0giXwaSRUsH+ArxAl8k1QbgdGsKojCNBeatswRRbKD7q+YRAtrjVP/CCi8HaWnvBKPQqwfIwCUFitBpC4xdIwBFWFsLkLvTBx+SEwZa3d0BeuQjC5vQGQgQn3EFDIw5CEmCJQOIS7cG2znPAJvs4QCmyyj+MMeDBK8YDwjXnzsHrDwfC73vZQfhtVMF7HMTAzTmTQf1qN0KhlaZBxJQWwqrBmkEAnHTBK7Y8wIXCLkDHKL1BRLQawWs+/8Gv1PHBFJb2wKG5hUE4PYDBaec1QqGLCMLSuifA6l4lwZaBu0AQK3nAhgqXQO9iG0IRqYdAFgPZQRF+xMHLrBPC3iDVwei1AcGBFrvBFGLOQeTRZUA+5BPBOpkcQr40jsBSP9RBppa6QUTmPkKa5uvBLyWBQfCw0MGjX7fBWEKhwVaLNsHpExLAZ+6LwdphgEDKoSdBl296QbfsysEEfco/hqnNQS5MGz8fc4LBWww1Qc30BEHS1b9BzeL8Qcoz+kFs8TxCzL07vg==\",\"dtype\":\"float32\",\"order\":\"little\",\"shape\":[1000]},\"x2\":{\"__ndarray__\":\"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\",\"dtype\":\"float32\",\"order\":\"little\",\"shape\":[1000]}},\"selected\":{\"id\":\"1135\"},\"selection_policy\":{\"id\":\"1134\"}},\"id\":\"1114\",\"type\":\"ColumnDataSource\"},{\"attributes\":{},\"id\":\"1108\",\"type\":\"SaveTool\"},{\"attributes\":{\"axis\":{\"id\":\"1097\"},\"ticker\":null},\"id\":\"1100\",\"type\":\"Grid\"},{\"attributes\":{\"active_drag\":\"auto\",\"active_inspect\":\"auto\",\"active_multi\":null,\"active_scroll\":\"auto\",\"active_tap\":\"auto\",\"tools\":[{\"id\":\"1105\"},{\"id\":\"1106\"},{\"id\":\"1107\"},{\"id\":\"1108\"}]},\"id\":\"1109\",\"type\":\"Toolbar\"},{\"attributes\":{},\"id\":\"1134\",\"type\":\"UnionRenderers\"},{\"attributes\":{},\"id\":\"1089\",\"type\":\"DataRange1d\"},{\"attributes\":{\"source\":{\"id\":\"1114\"}},\"id\":\"1119\",\"type\":\"CDSView\"},{\"attributes\":{},\"id\":\"1102\",\"type\":\"BasicTicker\"},{\"attributes\":{\"text\":\"word2vec T-SNE (eng model, top1000 words, +SVD)\"},\"id\":\"1087\",\"type\":\"Title\"},{\"attributes\":{},\"id\":\"1131\",\"type\":\"BasicTickFormatter\"},{\"attributes\":{},\"id\":\"1098\",\"type\":\"BasicTicker\"},{\"attributes\":{},\"id\":\"1135\",\"type\":\"Selection\"},{\"attributes\":{},\"id\":\"1093\",\"type\":\"LinearScale\"},{\"attributes\":{\"fill_color\":{\"value\":\"#1f77b4\"},\"line_color\":{\"value\":\"#1f77b4\"},\"size\":{\"units\":\"screen\",\"value\":8},\"x\":{\"field\":\"x1\"},\"y\":{\"field\":\"x2\"}},\"id\":\"1116\",\"type\":\"Scatter\"},{\"attributes\":{\"formatter\":{\"id\":\"1133\"},\"ticker\":{\"id\":\"1098\"}},\"id\":\"1097\",\"type\":\"LinearAxis\"},{\"attributes\":{},\"id\":\"1091\",\"type\":\"DataRange1d\"},{\"attributes\":{},\"id\":\"1095\",\"type\":\"LinearScale\"},{\"attributes\":{\"fill_alpha\":{\"value\":0.1},\"fill_color\":{\"value\":\"#1f77b4\"},\"line_alpha\":{\"value\":0.1},\"line_color\":{\"value\":\"#1f77b4\"},\"size\":{\"units\":\"screen\",\"value\":8},\"x\":{\"field\":\"x1\"},\"y\":{\"field\":\"x2\"}},\"id\":\"1117\",\"type\":\"Scatter\"},{\"attributes\":{},\"id\":\"1133\",\"type\":\"BasicTickFormatter\"},{\"attributes\":{\"source\":{\"id\":\"1114\"},\"text\":{\"field\":\"names\"},\"text_align\":\"center\",\"text_color\":{\"value\":\"#555555\"},\"text_font_size\":{\"value\":\"8pt\"},\"x\":{\"field\":\"x1\"},\"y\":{\"field\":\"x2\"},\"y_offset\":{\"value\":6}},\"id\":\"1120\",\"type\":\"LabelSet\"},{\"attributes\":{\"axis\":{\"id\":\"1101\"},\"dimension\":1,\"ticker\":null},\"id\":\"1104\",\"type\":\"Grid\"},{\"attributes\":{\"formatter\":{\"id\":\"1131\"},\"ticker\":{\"id\":\"1102\"}},\"id\":\"1101\",\"type\":\"LinearAxis\"}],\"root_ids\":[\"1086\"]},\"title\":\"Bokeh Application\",\"version\":\"2.1.1\"}};\n",
              "  var render_items = [{\"docid\":\"8db19a8d-aa14-4a7c-8d1d-98dd9e20f99f\",\"root_ids\":[\"1086\"],\"roots\":{\"1086\":\"d35fd12d-ebb1-45df-a10b-788d55c5479b\"}}];\n",
              "  root.Bokeh.embed.embed_items_notebook(docs_json, render_items);\n",
              "\n",
              "  }\n",
              "  if (root.Bokeh !== undefined) {\n",
              "    embed_document(root);\n",
              "  } else {\n",
              "    var attempts = 0;\n",
              "    var timer = setInterval(function(root) {\n",
              "      if (root.Bokeh !== undefined) {\n",
              "        clearInterval(timer);\n",
              "        embed_document(root);\n",
              "      } else {\n",
              "        attempts++;\n",
              "        if (attempts > 100) {\n",
              "          clearInterval(timer);\n",
              "          console.log(\"Bokeh: ERROR: Unable to run BokehJS code because BokehJS library is missing\");\n",
              "        }\n",
              "      }\n",
              "    }, 10, root)\n",
              "  }\n",
              "})(window);"
            ],
            "application/vnd.bokehjs_exec.v0+json": ""
          },
          "metadata": {
            "tags": [],
            "application/vnd.bokehjs_exec.v0+json": {
              "id": "1086"
            }
          }
        }
      ]
    },
    {
      "cell_type": "markdown",
      "metadata": {
        "id": "9qZcF3nGX-sp"
      },
      "source": [
        "## FastText\n",
        "\n",
        "FastText использует не только эмбеддинги слов, но и эмбеддинги n-грам. В корпусе каждое слово автоматически представляется в виде набора символьных n-грамм. Скажем, если мы установим n=3, то вектор для слова \"where\" будет представлен суммой векторов следующих триграм: \"<wh\", \"whe\", \"her\", \"ere\", \"re>\" (где \"<\" и \">\" символы, обозначающие начало и конец слова). Благодаря этому мы можем также получать вектора для слов, отсутствующих в словаре, а также эффективно работать с текстами, содержащими ошибки и опечатки.\n",
        "\n",
        "* [Статья](https://aclweb.org/anthology/Q17-1010)\n",
        "* [Сайт](https://fasttext.cc/)\n",
        "* [Тьюториал](https://fasttext.cc/docs/en/support.html)\n",
        "* [Вектора для 157 языков](https://fasttext.cc/docs/en/crawl-vectors.html)\n",
        "* [Вектора, обученные на википедии](https://fasttext.cc/docs/en/pretrained-vectors.html) (отдельно для 294 разных языков)\n",
        "* [Репозиторий](https://github.com/facebookresearch/fasttext)\n",
        "\n",
        "Есть библиотека `fasttext` для питона (с готовыми моделями можно работать и через `gensim`)."
      ]
    },
    {
      "cell_type": "code",
      "metadata": {
        "id": "NvzM2AL7Z8gl",
        "colab": {
          "base_uri": "https://localhost:8080/"
        },
        "outputId": "86ef7058-103e-40a1-adc4-fb1d3596b06c"
      },
      "source": [
        "! git clone https://github.com/facebookresearch/fastText.git\n",
        "! pip3 install fastText/."
      ],
      "execution_count": 37,
      "outputs": [
        {
          "output_type": "stream",
          "name": "stdout",
          "text": [
            "Cloning into 'fastText'...\n",
            "remote: Enumerating objects: 3854, done.\u001b[K\n",
            "remote: Total 3854 (delta 0), reused 0 (delta 0), pack-reused 3854\u001b[K\n",
            "Receiving objects: 100% (3854/3854), 8.22 MiB | 28.65 MiB/s, done.\n",
            "Resolving deltas: 100% (2417/2417), done.\n",
            "Processing ./fastText\n",
            "\u001b[33m  DEPRECATION: A future pip version will change local packages to be built in-place without first copying to a temporary directory. We recommend you use --use-feature=in-tree-build to test your packages with this new behavior before it becomes the default.\n",
            "   pip 21.3 will remove support for this functionality. You can find discussion regarding this at https://github.com/pypa/pip/issues/7555.\u001b[0m\n",
            "Collecting pybind11>=2.2\n",
            "  Using cached pybind11-2.7.1-py2.py3-none-any.whl (200 kB)\n",
            "Requirement already satisfied: setuptools>=0.7.0 in /usr/local/lib/python3.7/dist-packages (from fasttext==0.9.2) (57.4.0)\n",
            "Requirement already satisfied: numpy in /usr/local/lib/python3.7/dist-packages (from fasttext==0.9.2) (1.19.5)\n",
            "Building wheels for collected packages: fasttext\n",
            "  Building wheel for fasttext (setup.py) ... \u001b[?25l\u001b[?25hdone\n",
            "  Created wheel for fasttext: filename=fasttext-0.9.2-cp37-cp37m-linux_x86_64.whl size=3085432 sha256=063c8acfd606cab6bee3a0016b3eabbf4ea6145cfe6dae21b3f6ddd2b5a74954\n",
            "  Stored in directory: /tmp/pip-ephem-wheel-cache-eqhcvt2s/wheels/22/04/6e/b3aba25c1a5845898b5871a0df37c2126cb0cc9326ad0c08e7\n",
            "Successfully built fasttext\n",
            "Installing collected packages: pybind11, fasttext\n",
            "Successfully installed fasttext-0.9.2 pybind11-2.7.1\n"
          ]
        }
      ]
    },
    {
      "cell_type": "code",
      "metadata": {
        "id": "s-IW_cBDX-sp"
      },
      "source": [
        "import fasttext\n",
        "\n",
        "# так можно обучить свою модель \n",
        "ft_model = fasttext.train_unsupervised('clean_text.txt', minn=3, maxn=4, dim=300)"
      ],
      "execution_count": 38,
      "outputs": []
    },
    {
      "cell_type": "code",
      "metadata": {
        "id": "NNiuzf4DX-sr",
        "colab": {
          "base_uri": "https://localhost:8080/"
        },
        "outputId": "e3eeed43-2ffb-470e-a182-8f35583e3aaa"
      },
      "source": [
        "ft_model.get_word_vector(\"movie\")"
      ],
      "execution_count": 39,
      "outputs": [
        {
          "output_type": "execute_result",
          "data": {
            "text/plain": [
              "array([-3.57243493e-02,  1.58063918e-01, -1.31975710e-01, -4.58512418e-02,\n",
              "        1.07560731e-01,  2.17444181e-01, -1.32337660e-01,  2.36562882e-02,\n",
              "        2.35748856e-04,  2.43025094e-01,  3.16724479e-02,  1.34295747e-01,\n",
              "       -3.92858200e-02, -1.53035549e-02,  3.50480936e-02,  5.05375341e-02,\n",
              "        3.09894625e-02, -2.97354937e-01, -1.11680967e-03,  1.60186350e-01,\n",
              "        9.39910933e-02,  6.12168089e-02,  7.73812756e-02, -2.73895264e-02,\n",
              "       -2.06161775e-02, -6.11183990e-04,  1.21513978e-01, -1.09616116e-01,\n",
              "       -1.08716406e-01, -4.59789261e-02,  7.11279437e-02,  1.83442477e-02,\n",
              "        1.14463326e-02,  6.98599890e-02, -5.05972980e-03,  6.63157851e-02,\n",
              "       -6.26043826e-02, -1.02846317e-01, -1.00384094e-01, -4.58281077e-02,\n",
              "        6.26604706e-02,  1.24450661e-01, -7.05418810e-02, -2.00940818e-02,\n",
              "        9.89525095e-02, -5.13858572e-02,  1.43190414e-01, -8.29519033e-02,\n",
              "        5.86603582e-02,  5.74491732e-02,  5.35967126e-02, -8.11504871e-02,\n",
              "       -4.13022004e-02, -4.89385612e-02,  1.47303924e-01, -2.02642471e-01,\n",
              "       -9.69567336e-04, -2.07232889e-02,  6.61429986e-02,  5.12582548e-02,\n",
              "       -3.46167460e-02, -8.70176256e-02, -2.68741492e-02, -1.06329717e-01,\n",
              "       -4.04618196e-02, -1.50380403e-01, -4.02619429e-02,  6.57797083e-02,\n",
              "       -2.69193258e-02, -4.67493162e-02, -4.80095111e-02, -1.32716179e-01,\n",
              "       -1.31028622e-01,  5.54440580e-02,  8.62858742e-02,  1.45042285e-01,\n",
              "        8.71923938e-02, -3.20949927e-02,  1.48978028e-02,  1.93489285e-03,\n",
              "        5.44316769e-02,  1.83029890e-01,  1.45052344e-01,  3.70641015e-02,\n",
              "        1.13238588e-01, -9.07873884e-02,  8.11819881e-02,  9.91018340e-02,\n",
              "        3.17137875e-02, -1.10917144e-01,  3.04320138e-02, -4.55927588e-02,\n",
              "        1.58781216e-01,  9.51287150e-03,  3.97008425e-03, -1.71268210e-01,\n",
              "       -4.06642370e-02, -7.95229003e-02,  6.19767569e-02, -3.35138291e-04,\n",
              "        8.01996291e-02, -2.15760083e-03,  1.11182809e-01, -2.33279597e-02,\n",
              "       -2.03379542e-02,  1.45708084e-01, -5.80861568e-02, -8.04211274e-02,\n",
              "        1.43105373e-01,  6.48506209e-02,  1.31459996e-01, -1.99482329e-02,\n",
              "       -1.71590727e-02, -4.31983843e-02,  4.56410758e-02,  1.36778995e-01,\n",
              "        4.89749461e-02, -8.85981973e-03, -1.28492221e-01,  5.01314662e-02,\n",
              "        1.76036552e-01,  5.67089692e-02, -4.54425141e-02,  6.20641522e-02,\n",
              "       -5.36735775e-03,  3.44185941e-02,  1.58129439e-01,  4.25208025e-02,\n",
              "        6.14861166e-03, -4.33316901e-02,  1.21710241e-01, -5.00650657e-03,\n",
              "        5.16064130e-02,  7.29323998e-02, -1.12134457e-01,  3.87162529e-02,\n",
              "        4.36568260e-02, -5.65001182e-02, -9.12339985e-03, -3.68468165e-02,\n",
              "       -9.82870683e-02, -3.72663327e-02, -1.75505672e-02,  2.09059432e-01,\n",
              "        2.41721924e-02, -2.27678660e-02, -7.67727643e-02,  1.31814167e-01,\n",
              "       -4.75141406e-02, -9.95040312e-02, -2.01240443e-02, -4.20100503e-02,\n",
              "       -4.77649039e-03,  2.49261744e-02,  6.25884756e-02,  2.81689465e-02,\n",
              "       -7.06250593e-02,  1.60410181e-01, -4.61991224e-03,  1.66490674e-02,\n",
              "        1.15990378e-01,  8.75921994e-02,  5.88274486e-02,  4.79529910e-02,\n",
              "        1.51547596e-01,  4.62733693e-02,  1.21005019e-02,  1.43236965e-02,\n",
              "       -3.22300903e-02,  5.85649498e-02, -7.67225325e-02, -5.18948734e-02,\n",
              "       -1.27144873e-01,  9.23194885e-02, -6.87140301e-02, -6.62902836e-03,\n",
              "       -6.68666139e-02, -2.40327101e-02,  1.38832986e-01, -6.80172965e-02,\n",
              "       -1.15417860e-01, -1.38939288e-03,  2.91105509e-02,  4.12131064e-02,\n",
              "        3.26633714e-02,  1.50755957e-01,  1.88048825e-01,  6.43622726e-02,\n",
              "       -2.12058336e-01,  6.26223907e-02,  1.21869761e-02,  5.90685681e-02,\n",
              "        5.27202189e-02, -3.32240909e-02,  1.52026415e-01, -1.02895811e-01,\n",
              "       -1.60907596e-01, -3.00674867e-02,  2.58914661e-02, -8.82051513e-02,\n",
              "        1.84931725e-01,  1.26048774e-01,  8.56592804e-02, -4.08729864e-03,\n",
              "        4.34557609e-02,  6.41868934e-02, -8.14754963e-02,  5.32192402e-02,\n",
              "       -7.81964809e-02, -3.71568999e-03,  5.34816459e-03,  6.29046261e-02,\n",
              "       -1.78521097e-01,  3.91233675e-02, -1.37155697e-01, -2.31767260e-02,\n",
              "       -8.87872502e-02, -2.00256497e-01,  1.28802881e-02, -5.92309348e-02,\n",
              "        3.73778380e-02,  7.36574233e-02,  1.02951102e-01, -3.67718972e-02,\n",
              "       -1.04360357e-01,  1.38254702e-01, -1.03305869e-01, -2.60867011e-02,\n",
              "       -4.51161340e-02,  8.18912610e-02, -1.74232312e-02,  3.14154267e-01,\n",
              "        3.70708480e-02, -2.15460323e-02,  1.56376846e-02,  3.09676714e-02,\n",
              "       -9.33982134e-02,  7.71449273e-03, -4.40897420e-02,  1.05632983e-01,\n",
              "       -1.97907463e-01, -4.35676575e-02,  2.86257006e-02,  3.70986015e-02,\n",
              "        1.77731276e-01, -2.29750350e-01,  1.43632054e-01, -8.06624964e-02,\n",
              "       -5.01213856e-02,  1.72958657e-01, -2.03536659e-01, -2.02668663e-02,\n",
              "       -5.72857037e-02, -2.11207941e-02,  5.28866425e-02, -5.27832983e-03,\n",
              "        1.80434525e-01,  2.00603455e-02,  5.94908092e-03, -1.08605381e-02,\n",
              "       -3.67511855e-03, -4.16590013e-02,  2.40983162e-02,  1.22906864e-01,\n",
              "        7.15216920e-02,  8.89238343e-02, -7.49600306e-02,  6.76286444e-02,\n",
              "       -8.97115003e-03, -5.12092002e-02, -3.12860310e-02,  2.42284145e-02,\n",
              "        1.95348546e-01, -2.76240595e-02, -4.89457771e-02, -7.54649788e-02,\n",
              "        5.95561080e-02,  5.66050000e-02, -5.53822890e-02, -7.30858510e-03,\n",
              "        1.92675158e-01,  2.11838633e-01,  7.56252855e-02, -5.50689101e-02,\n",
              "        2.03147694e-01,  1.57373115e-01, -1.96769424e-02,  1.07339874e-01,\n",
              "        9.32959691e-02,  2.54439283e-03,  4.51713689e-02, -7.40312114e-02,\n",
              "        8.74231830e-02,  6.14446998e-02,  3.08033228e-02,  5.08478880e-02,\n",
              "       -1.10164799e-01,  1.39026985e-01, -3.20530161e-02, -1.12873517e-01],\n",
              "      dtype=float32)"
            ]
          },
          "metadata": {},
          "execution_count": 39
        }
      ]
    },
    {
      "cell_type": "code",
      "metadata": {
        "id": "TsZnXqH8X-st",
        "colab": {
          "base_uri": "https://localhost:8080/"
        },
        "outputId": "7ad6b10f-7f0e-4ec1-ecb6-139db8d9e3bd"
      },
      "source": [
        "ft_model.get_nearest_neighbors('actor')"
      ],
      "execution_count": 40,
      "outputs": [
        {
          "output_type": "execute_result",
          "data": {
            "text/plain": [
              "[(0.9999606013298035, 'actors'),\n",
              " (0.9999364018440247, 'attractive'),\n",
              " (0.9999338984489441, 'fact'),\n",
              " (0.9999316334724426, 'actual'),\n",
              " (0.9999226331710815, 'display'),\n",
              " (0.9999191761016846, 'terrific'),\n",
              " (0.9999188780784607, 'battle'),\n",
              " (0.9999170899391174, 'israel'),\n",
              " (0.9999163746833801, 'british'),\n",
              " (0.9999160170555115, 'predator')]"
            ]
          },
          "metadata": {},
          "execution_count": 40
        }
      ]
    },
    {
      "cell_type": "code",
      "metadata": {
        "id": "iKR3FzCFX-sv",
        "colab": {
          "base_uri": "https://localhost:8080/"
        },
        "outputId": "fe984344-b5bf-4579-b0d8-a58c89206c2e"
      },
      "source": [
        "ft_model.get_analogies(\"woman\", \"man\", \"actor\")"
      ],
      "execution_count": 41,
      "outputs": [
        {
          "output_type": "execute_result",
          "data": {
            "text/plain": [
              "[(0.999938428401947, 'act'),\n",
              " (0.9998956918716431, 'exactly'),\n",
              " (0.9998955726623535, 'actress'),\n",
              " (0.999885082244873, 'seemingly'),\n",
              " (0.9998830556869507, 'terrible'),\n",
              " (0.9998824596405029, 'surprisingly'),\n",
              " (0.9998821020126343, 'believable'),\n",
              " (0.9998811483383179, 'double'),\n",
              " (0.9998807907104492, 'written'),\n",
              " (0.9998795986175537, 'cable')]"
            ]
          },
          "metadata": {},
          "execution_count": 41
        }
      ]
    },
    {
      "cell_type": "code",
      "metadata": {
        "id": "ttAgMPC_X-sx",
        "colab": {
          "base_uri": "https://localhost:8080/"
        },
        "outputId": "d6159a75-5498-4da1-e703-41114c1c09ae"
      },
      "source": [
        "# проблема с опечатками решена\n",
        "\n",
        "ft_model.get_nearest_neighbors('actr')"
      ],
      "execution_count": 42,
      "outputs": [
        {
          "output_type": "execute_result",
          "data": {
            "text/plain": [
              "[(0.9999391436576843, 'act'),\n",
              " (0.9998903274536133, 'actors'),\n",
              " (0.9998863339424133, 'actor'),\n",
              " (0.9998792409896851, 'actress'),\n",
              " (0.9998623728752136, 'single'),\n",
              " (0.9998517632484436, 'actual'),\n",
              " (0.9998226761817932, 'terrible'),\n",
              " (0.9998196363449097, 'exact'),\n",
              " (0.9998190402984619, 'plot'),\n",
              " (0.9998172521591187, 'wrong')]"
            ]
          },
          "metadata": {},
          "execution_count": 42
        }
      ]
    },
    {
      "cell_type": "code",
      "metadata": {
        "id": "V9alEdz0X-s0",
        "colab": {
          "base_uri": "https://localhost:8080/"
        },
        "outputId": "48e2f885-3a70-4684-f030-a8fdf87b60de"
      },
      "source": [
        "# проблема с out of vocabulary словами - тоже\n",
        "\n",
        "ft_model.get_nearest_neighbors('moviegeek')"
      ],
      "execution_count": 43,
      "outputs": [
        {
          "output_type": "execute_result",
          "data": {
            "text/plain": [
              "[(0.9999324679374695, 'reviews'),\n",
              " (0.9999246597290039, 'review'),\n",
              " (0.9999151825904846, 'recommended'),\n",
              " (0.9999132752418518, 'rented'),\n",
              " (0.9998916387557983, 'waste'),\n",
              " (0.999889075756073, 'movie'),\n",
              " (0.9998835921287537, 'thank'),\n",
              " (0.9998812079429626, 'not'),\n",
              " (0.9998751878738403, 'watchable'),\n",
              " (0.9998645782470703, 'only')]"
            ]
          },
          "metadata": {},
          "execution_count": 43
        }
      ]
    },
    {
      "cell_type": "code",
      "metadata": {
        "id": "HSzVZF3bX-s3",
        "colab": {
          "base_uri": "https://localhost:8080/"
        },
        "outputId": "5ffd2747-ce86-4e10-ea30-5242c6851269"
      },
      "source": [
        "!wget -O positive.csv https://www.dropbox.com/s/fnpq3z4bcnoktiv/positive.csv?dl=0"
      ],
      "execution_count": 44,
      "outputs": [
        {
          "output_type": "stream",
          "name": "stdout",
          "text": [
            "--2021-09-08 19:20:43--  https://www.dropbox.com/s/fnpq3z4bcnoktiv/positive.csv?dl=0\n",
            "Resolving www.dropbox.com (www.dropbox.com)... 162.125.5.18, 2620:100:601d:18::a27d:512\n",
            "Connecting to www.dropbox.com (www.dropbox.com)|162.125.5.18|:443... connected.\n",
            "HTTP request sent, awaiting response... 301 Moved Permanently\n",
            "Location: /s/raw/fnpq3z4bcnoktiv/positive.csv [following]\n",
            "--2021-09-08 19:20:43--  https://www.dropbox.com/s/raw/fnpq3z4bcnoktiv/positive.csv\n",
            "Reusing existing connection to www.dropbox.com:443.\n",
            "HTTP request sent, awaiting response... 302 Found\n",
            "Location: https://uc7f83bbbb5723296935c53ae9b0.dl.dropboxusercontent.com/cd/0/inline/BVw8JyrjwIViH69VCjkCTg1SpLnfaLxPktyh1ATY43SOeiUEVH_62rh01q0n1_J3HTEi5lTecA4lX4CuCmFIYTTLTDaZSOzBf89iG2GphQjcvLNUKjA6FBrbRqKSDMqS4gk5rlTvQ2bdOrVtseBh0o8y/file# [following]\n",
            "--2021-09-08 19:20:43--  https://uc7f83bbbb5723296935c53ae9b0.dl.dropboxusercontent.com/cd/0/inline/BVw8JyrjwIViH69VCjkCTg1SpLnfaLxPktyh1ATY43SOeiUEVH_62rh01q0n1_J3HTEi5lTecA4lX4CuCmFIYTTLTDaZSOzBf89iG2GphQjcvLNUKjA6FBrbRqKSDMqS4gk5rlTvQ2bdOrVtseBh0o8y/file\n",
            "Resolving uc7f83bbbb5723296935c53ae9b0.dl.dropboxusercontent.com (uc7f83bbbb5723296935c53ae9b0.dl.dropboxusercontent.com)... 162.125.5.15, 2620:100:601d:15::a27d:50f\n",
            "Connecting to uc7f83bbbb5723296935c53ae9b0.dl.dropboxusercontent.com (uc7f83bbbb5723296935c53ae9b0.dl.dropboxusercontent.com)|162.125.5.15|:443... connected.\n",
            "HTTP request sent, awaiting response... 200 OK\n",
            "Length: 26233379 (25M) [text/plain]\n",
            "Saving to: ‘positive.csv’\n",
            "\n",
            "positive.csv        100%[===================>]  25.02M  46.2MB/s    in 0.5s    \n",
            "\n",
            "2021-09-08 19:20:44 (46.2 MB/s) - ‘positive.csv’ saved [26233379/26233379]\n",
            "\n"
          ]
        }
      ]
    },
    {
      "cell_type": "code",
      "metadata": {
        "id": "yVDNoIcuX-s5",
        "colab": {
          "base_uri": "https://localhost:8080/"
        },
        "outputId": "65ec4347-33a8-45d5-ad93-8910a93b348f"
      },
      "source": [
        "!wget -O negative.csv https://www.dropbox.com/s/r6u59ljhhjdg6j0/negative.csv?dl=0"
      ],
      "execution_count": 45,
      "outputs": [
        {
          "output_type": "stream",
          "name": "stdout",
          "text": [
            "--2021-09-08 19:20:51--  https://www.dropbox.com/s/r6u59ljhhjdg6j0/negative.csv?dl=0\n",
            "Resolving www.dropbox.com (www.dropbox.com)... 162.125.5.18, 2620:100:601d:18::a27d:512\n",
            "Connecting to www.dropbox.com (www.dropbox.com)|162.125.5.18|:443... connected.\n",
            "HTTP request sent, awaiting response... 301 Moved Permanently\n",
            "Location: /s/raw/r6u59ljhhjdg6j0/negative.csv [following]\n",
            "--2021-09-08 19:20:51--  https://www.dropbox.com/s/raw/r6u59ljhhjdg6j0/negative.csv\n",
            "Reusing existing connection to www.dropbox.com:443.\n",
            "HTTP request sent, awaiting response... 302 Found\n",
            "Location: https://ucd125ef59da4c2f2ef0c481f8e5.dl.dropboxusercontent.com/cd/0/inline/BVxh__rgyJQQjxHb6dFqk_qWK9jD6LG_JrWKrntlKT_be5_hBB81-YQv498utWhxG1RTvL5FeeXCuNqyNSotsukwAXsXpXxyTTgdPUxHem3dtSmHX3N4hGVhgRyGRrixKpGh5mLzHzplwW-4BIwyO6Uk/file# [following]\n",
            "--2021-09-08 19:20:51--  https://ucd125ef59da4c2f2ef0c481f8e5.dl.dropboxusercontent.com/cd/0/inline/BVxh__rgyJQQjxHb6dFqk_qWK9jD6LG_JrWKrntlKT_be5_hBB81-YQv498utWhxG1RTvL5FeeXCuNqyNSotsukwAXsXpXxyTTgdPUxHem3dtSmHX3N4hGVhgRyGRrixKpGh5mLzHzplwW-4BIwyO6Uk/file\n",
            "Resolving ucd125ef59da4c2f2ef0c481f8e5.dl.dropboxusercontent.com (ucd125ef59da4c2f2ef0c481f8e5.dl.dropboxusercontent.com)... 162.125.5.15, 2620:100:601d:15::a27d:50f\n",
            "Connecting to ucd125ef59da4c2f2ef0c481f8e5.dl.dropboxusercontent.com (ucd125ef59da4c2f2ef0c481f8e5.dl.dropboxusercontent.com)|162.125.5.15|:443... connected.\n",
            "HTTP request sent, awaiting response... 200 OK\n",
            "Length: 24450101 (23M) [text/plain]\n",
            "Saving to: ‘negative.csv’\n",
            "\n",
            "negative.csv        100%[===================>]  23.32M  40.9MB/s    in 0.6s    \n",
            "\n",
            "2021-09-08 19:20:52 (40.9 MB/s) - ‘negative.csv’ saved [24450101/24450101]\n",
            "\n"
          ]
        }
      ]
    },
    {
      "cell_type": "code",
      "metadata": {
        "id": "HLidtYsuX-s8",
        "colab": {
          "base_uri": "https://localhost:8080/",
          "height": 206
        },
        "outputId": "2f1205eb-df17-4a72-e317-61b570132f18"
      },
      "source": [
        "positive = pd.read_csv('positive.csv', sep=';', usecols=[3], names=['text'])\n",
        "positive['label'] = ['positive'] * len(positive)\n",
        "negative = pd.read_csv('negative.csv', sep=';', usecols=[3], names=['text'])\n",
        "negative['label'] = ['negative'] * len(negative)\n",
        "df = positive.append(negative)\n",
        "df.head()"
      ],
      "execution_count": 46,
      "outputs": [
        {
          "output_type": "execute_result",
          "data": {
            "text/html": [
              "<div>\n",
              "<style scoped>\n",
              "    .dataframe tbody tr th:only-of-type {\n",
              "        vertical-align: middle;\n",
              "    }\n",
              "\n",
              "    .dataframe tbody tr th {\n",
              "        vertical-align: top;\n",
              "    }\n",
              "\n",
              "    .dataframe thead th {\n",
              "        text-align: right;\n",
              "    }\n",
              "</style>\n",
              "<table border=\"1\" class=\"dataframe\">\n",
              "  <thead>\n",
              "    <tr style=\"text-align: right;\">\n",
              "      <th></th>\n",
              "      <th>text</th>\n",
              "      <th>label</th>\n",
              "    </tr>\n",
              "  </thead>\n",
              "  <tbody>\n",
              "    <tr>\n",
              "      <th>0</th>\n",
              "      <td>@first_timee хоть я и школота, но поверь, у на...</td>\n",
              "      <td>positive</td>\n",
              "    </tr>\n",
              "    <tr>\n",
              "      <th>1</th>\n",
              "      <td>Да, все-таки он немного похож на него. Но мой ...</td>\n",
              "      <td>positive</td>\n",
              "    </tr>\n",
              "    <tr>\n",
              "      <th>2</th>\n",
              "      <td>RT @KatiaCheh: Ну ты идиотка) я испугалась за ...</td>\n",
              "      <td>positive</td>\n",
              "    </tr>\n",
              "    <tr>\n",
              "      <th>3</th>\n",
              "      <td>RT @digger2912: \"Кто то в углу сидит и погибае...</td>\n",
              "      <td>positive</td>\n",
              "    </tr>\n",
              "    <tr>\n",
              "      <th>4</th>\n",
              "      <td>@irina_dyshkant Вот что значит страшилка :D\\nН...</td>\n",
              "      <td>positive</td>\n",
              "    </tr>\n",
              "  </tbody>\n",
              "</table>\n",
              "</div>"
            ],
            "text/plain": [
              "                                                text     label\n",
              "0  @first_timee хоть я и школота, но поверь, у на...  positive\n",
              "1  Да, все-таки он немного похож на него. Но мой ...  positive\n",
              "2  RT @KatiaCheh: Ну ты идиотка) я испугалась за ...  positive\n",
              "3  RT @digger2912: \"Кто то в углу сидит и погибае...  positive\n",
              "4  @irina_dyshkant Вот что значит страшилка :D\\nН...  positive"
            ]
          },
          "metadata": {},
          "execution_count": 46
        }
      ]
    },
    {
      "cell_type": "code",
      "metadata": {
        "id": "-YB6B4CvmNJ8",
        "colab": {
          "base_uri": "https://localhost:8080/"
        },
        "outputId": "65879bd5-84bc-46b6-fe44-5aee502fd2d3"
      },
      "source": [
        "len(df)"
      ],
      "execution_count": 47,
      "outputs": [
        {
          "output_type": "execute_result",
          "data": {
            "text/plain": [
              "226834"
            ]
          },
          "metadata": {},
          "execution_count": 47
        }
      ]
    },
    {
      "cell_type": "markdown",
      "metadata": {
        "id": "5jtZR-uYX-tA"
      },
      "source": [
        "Проведем стандартный препроцессинг:"
      ]
    },
    {
      "cell_type": "code",
      "metadata": {
        "id": "sI706u75jFdq",
        "colab": {
          "base_uri": "https://localhost:8080/"
        },
        "outputId": "b20b1ef6-9e20-4944-d357-5f8e82a8e96d"
      },
      "source": [
        "! pip install pymorphy2"
      ],
      "execution_count": 48,
      "outputs": [
        {
          "output_type": "stream",
          "name": "stdout",
          "text": [
            "Collecting pymorphy2\n",
            "  Downloading pymorphy2-0.9.1-py3-none-any.whl (55 kB)\n",
            "\u001b[K     |████████████████████████████████| 55 kB 1.7 MB/s \n",
            "\u001b[?25hCollecting pymorphy2-dicts-ru<3.0,>=2.4\n",
            "  Downloading pymorphy2_dicts_ru-2.4.417127.4579844-py2.py3-none-any.whl (8.2 MB)\n",
            "\u001b[K     |████████████████████████████████| 8.2 MB 5.8 MB/s \n",
            "\u001b[?25hCollecting dawg-python>=0.7.1\n",
            "  Downloading DAWG_Python-0.7.2-py2.py3-none-any.whl (11 kB)\n",
            "Requirement already satisfied: docopt>=0.6 in /usr/local/lib/python3.7/dist-packages (from pymorphy2) (0.6.2)\n",
            "Installing collected packages: pymorphy2-dicts-ru, dawg-python, pymorphy2\n",
            "Successfully installed dawg-python-0.7.2 pymorphy2-0.9.1 pymorphy2-dicts-ru-2.4.417127.4579844\n"
          ]
        }
      ]
    },
    {
      "cell_type": "code",
      "metadata": {
        "id": "3qAiiLvsX-tB"
      },
      "source": [
        "import pymorphy2\n",
        "from functools import lru_cache\n",
        "from multiprocessing import Pool\n",
        "import numpy as np\n",
        "from sklearn.model_selection import train_test_split\n",
        "from tqdm import tqdm_notebook as tqdm\n",
        "import re\n",
        "\n",
        "m = pymorphy2.MorphAnalyzer()\n",
        "\n",
        "regex = re.compile(\"[А-Яа-я:=!\\)\\()A-z\\_\\%/|]+\")\n",
        "\n",
        "def words_only(text, regex=regex):\n",
        "    try:\n",
        "        return regex.findall(text)\n",
        "    except:\n",
        "        return []"
      ],
      "execution_count": 49,
      "outputs": []
    },
    {
      "cell_type": "code",
      "metadata": {
        "id": "9zakhvVrX-tC"
      },
      "source": [
        "#@lru_cache(maxsize=128)\n",
        "# если вы работаете на колабе, можно заменить pymorphy на mystem и раскомментировать первую строку про lru_cache\n",
        "def lemmatize(text, pymorphy=m):\n",
        "    try:\n",
        "        return \" \".join([pymorphy.parse(w)[0].normal_form for w in text])\n",
        "    except:\n",
        "        return \" \"    "
      ],
      "execution_count": 51,
      "outputs": []
    },
    {
      "cell_type": "code",
      "metadata": {
        "id": "nDQdq4MLX-tE"
      },
      "source": [
        "def clean_text(text):\n",
        "    return lemmatize(words_only(text))"
      ],
      "execution_count": 52,
      "outputs": []
    },
    {
      "cell_type": "code",
      "metadata": {
        "id": "fj6dS127X-tG",
        "colab": {
          "base_uri": "https://localhost:8080/",
          "height": 294,
          "referenced_widgets": [
            "80fba7ab4f8e4c0688eac2535e5693e3",
            "04e6beaa75824af3a9a6c20186a5fe91",
            "ecd1198ab0e144f8a7776b1f8d5b4c08",
            "31194ab6ee4e4758a04d37beadbaa3d8",
            "9cdf41be0a10416e85a232b0a1cbd454",
            "0d74c7e67d8c4eb8b9de2927d954e5fa",
            "bb017ae74d8d473e8553a29cbe7b01c6",
            "b49f810a96d1461e9e62d4371fc68444",
            "151727bb76bb4164b60cccfa182526a8",
            "caa7e8ed6a9847ca90b34c64254d0a34",
            "7542e66b03344aaaadfd17c252edf4df"
          ]
        },
        "outputId": "3204f20d-8add-4f24-edc4-f7534803a429"
      },
      "source": [
        "with Pool(8) as p:\n",
        "    lemmas = list(tqdm(p.imap(clean_text, df['text']), total=len(df)))\n",
        "\n",
        "    \n",
        "df['lemmas'] = lemmas\n",
        "df.head()"
      ],
      "execution_count": 53,
      "outputs": [
        {
          "output_type": "stream",
          "name": "stderr",
          "text": [
            "/usr/local/lib/python3.7/dist-packages/ipykernel_launcher.py:2: TqdmDeprecationWarning: This function will be removed in tqdm==5.0.0\n",
            "Please use `tqdm.notebook.tqdm` instead of `tqdm.tqdm_notebook`\n",
            "  \n"
          ]
        },
        {
          "output_type": "display_data",
          "data": {
            "application/vnd.jupyter.widget-view+json": {
              "model_id": "80fba7ab4f8e4c0688eac2535e5693e3",
              "version_minor": 0,
              "version_major": 2
            },
            "text/plain": [
              "  0%|          | 0/226834 [00:00<?, ?it/s]"
            ]
          },
          "metadata": {}
        },
        {
          "output_type": "execute_result",
          "data": {
            "text/html": [
              "<div>\n",
              "<style scoped>\n",
              "    .dataframe tbody tr th:only-of-type {\n",
              "        vertical-align: middle;\n",
              "    }\n",
              "\n",
              "    .dataframe tbody tr th {\n",
              "        vertical-align: top;\n",
              "    }\n",
              "\n",
              "    .dataframe thead th {\n",
              "        text-align: right;\n",
              "    }\n",
              "</style>\n",
              "<table border=\"1\" class=\"dataframe\">\n",
              "  <thead>\n",
              "    <tr style=\"text-align: right;\">\n",
              "      <th></th>\n",
              "      <th>text</th>\n",
              "      <th>label</th>\n",
              "      <th>lemmas</th>\n",
              "    </tr>\n",
              "  </thead>\n",
              "  <tbody>\n",
              "    <tr>\n",
              "      <th>0</th>\n",
              "      <td>@first_timee хоть я и школота, но поверь, у на...</td>\n",
              "      <td>positive</td>\n",
              "      <td>first_timee хоть я и школотый но поверь у мы т...</td>\n",
              "    </tr>\n",
              "    <tr>\n",
              "      <th>1</th>\n",
              "      <td>Да, все-таки он немного похож на него. Но мой ...</td>\n",
              "      <td>positive</td>\n",
              "      <td>да всё таки он немного похожий на он но мой ма...</td>\n",
              "    </tr>\n",
              "    <tr>\n",
              "      <th>2</th>\n",
              "      <td>RT @KatiaCheh: Ну ты идиотка) я испугалась за ...</td>\n",
              "      <td>positive</td>\n",
              "      <td>rt katiacheh: ну ты идиотка) я испугаться за т...</td>\n",
              "    </tr>\n",
              "    <tr>\n",
              "      <th>3</th>\n",
              "      <td>RT @digger2912: \"Кто то в углу сидит и погибае...</td>\n",
              "      <td>positive</td>\n",
              "      <td>rt digger : кто то в угол сидеть и погибать от...</td>\n",
              "    </tr>\n",
              "    <tr>\n",
              "      <th>4</th>\n",
              "      <td>@irina_dyshkant Вот что значит страшилка :D\\nН...</td>\n",
              "      <td>positive</td>\n",
              "      <td>irina_dyshkant вот что значит страшилка :d но ...</td>\n",
              "    </tr>\n",
              "  </tbody>\n",
              "</table>\n",
              "</div>"
            ],
            "text/plain": [
              "                                                text  ...                                             lemmas\n",
              "0  @first_timee хоть я и школота, но поверь, у на...  ...  first_timee хоть я и школотый но поверь у мы т...\n",
              "1  Да, все-таки он немного похож на него. Но мой ...  ...  да всё таки он немного похожий на он но мой ма...\n",
              "2  RT @KatiaCheh: Ну ты идиотка) я испугалась за ...  ...  rt katiacheh: ну ты идиотка) я испугаться за т...\n",
              "3  RT @digger2912: \"Кто то в углу сидит и погибае...  ...  rt digger : кто то в угол сидеть и погибать от...\n",
              "4  @irina_dyshkant Вот что значит страшилка :D\\nН...  ...  irina_dyshkant вот что значит страшилка :d но ...\n",
              "\n",
              "[5 rows x 3 columns]"
            ]
          },
          "metadata": {},
          "execution_count": 53
        }
      ]
    },
    {
      "cell_type": "markdown",
      "metadata": {
        "id": "3QuPeLrvX-tI"
      },
      "source": [
        "Запишем полученные данные в формате для обучения классификатора:"
      ]
    },
    {
      "cell_type": "code",
      "metadata": {
        "id": "AGOFQSekX-tI",
        "colab": {
          "base_uri": "https://localhost:8080/"
        },
        "outputId": "84efa254-26c0-4edc-dbc9-6814463cc373"
      },
      "source": [
        "X = df.lemmas.tolist()\n",
        "y = df.label.tolist()\n",
        "\n",
        "X, y = np.array(X), np.array(y)\n",
        "\n",
        "X_train, X_test, y_train, y_test = train_test_split(X,y, test_size=0.33)\n",
        "print (\"total train examples %s\" % len(y_train))\n",
        "print (\"total test examples %s\" % len(y_test))"
      ],
      "execution_count": 54,
      "outputs": [
        {
          "output_type": "stream",
          "name": "stdout",
          "text": [
            "total train examples 151978\n",
            "total test examples 74856\n"
          ]
        }
      ]
    },
    {
      "cell_type": "code",
      "metadata": {
        "id": "mogTwRfnX-tK"
      },
      "source": [
        "with open('data.train.txt', 'w+') as outfile:\n",
        "    for i in range(len(X_train)):\n",
        "        outfile.write('__label__' + y_train[i] + ' '+ X_train[i] + '\\n')\n",
        "    \n",
        "\n",
        "with open('test.txt', 'w+') as outfile:\n",
        "    for i in range(len(X_test)):\n",
        "        outfile.write('__label__' + y_test[i] + ' ' + X_test[i] + '\\n')"
      ],
      "execution_count": 55,
      "outputs": []
    },
    {
      "cell_type": "code",
      "metadata": {
        "id": "u0rt2mhjX-tL",
        "colab": {
          "base_uri": "https://localhost:8080/"
        },
        "outputId": "082cc0b9-8ef2-43ec-8bbe-1f7a4996a108"
      },
      "source": [
        "classifier = fasttext.train_supervised('data.train.txt')\n",
        "result = classifier.test('test.txt')\n",
        "\n",
        "print('P@1:', result[1])\n",
        "print('R@1:', result[2])\n",
        "print('Number of examples:', result[0])"
      ],
      "execution_count": 56,
      "outputs": [
        {
          "output_type": "stream",
          "name": "stdout",
          "text": [
            "P@1: 0.8968419365181148\n",
            "R@1: 0.8968419365181148\n",
            "Number of examples: 74856\n"
          ]
        }
      ]
    },
    {
      "cell_type": "code",
      "metadata": {
        "id": "5NSv9Mo9X-tT"
      },
      "source": [
        ""
      ],
      "execution_count": null,
      "outputs": []
    }
  ]
}